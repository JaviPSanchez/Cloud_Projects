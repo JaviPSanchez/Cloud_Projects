{
 "cells": [
  {
   "cell_type": "markdown",
   "metadata": {},
   "source": [
    "### STORAGE"
   ]
  },
  {
   "cell_type": "markdown",
   "metadata": {},
   "source": [
    "![Conversion](assets/images/storage.png)"
   ]
  },
  {
   "cell_type": "markdown",
   "metadata": {},
   "source": [
    "### STREAM TO S3 RAW STORAGE PIPELINE"
   ]
  },
  {
   "cell_type": "code",
   "execution_count": null,
   "metadata": {},
   "outputs": [],
   "source": [
    "'''\n",
    "# Kinesis insert triggers Lambda for S3:\n",
    " 👉Lambda waits for some time\n",
    " 👉Writes all messages in queue to S3 Bucket as file\n",
    " \n",
    "Basicamente esto nos puede ayudar a analizar mas tarde nuestra informacion si lo deseamos, S3 Bucket no cuensta casi nada. Tambien nos puede server de Backup.\n",
    "\n",
    "'''"
   ]
  },
  {
   "cell_type": "markdown",
   "metadata": {},
   "source": [
    "![Conversion](assets/images/storage2.png)"
   ]
  },
  {
   "cell_type": "code",
   "execution_count": 13,
   "metadata": {},
   "outputs": [],
   "source": [
    "# La gente usa S3 como DataLake puesto que el precio no es elevado."
   ]
  },
  {
   "cell_type": "markdown",
   "metadata": {},
   "source": [
    "### CREATE S3 BUCKET:"
   ]
  },
  {
   "cell_type": "code",
   "execution_count": 9,
   "metadata": {},
   "outputs": [],
   "source": [
    "import boto3\n",
    "import os\n",
    "import logging\n",
    "from botocore.exceptions import ClientError"
   ]
  },
  {
   "cell_type": "code",
   "execution_count": 3,
   "metadata": {},
   "outputs": [],
   "source": [
    "AWS_KEY_ID = os.environ.get('AWS_KEY_ID')\n",
    "AWS_SECRET = os.environ.get('AWS_SECRET')"
   ]
  },
  {
   "cell_type": "code",
   "execution_count": 8,
   "metadata": {},
   "outputs": [
    {
     "name": "stdout",
     "output_type": "stream",
     "text": [
      "flights-datacamp\n",
      "gid-processed-javi\n",
      "gid-staging-javi\n",
      "gim-processed-javi\n",
      "gim-staging-javi\n",
      "gim-test-javi\n",
      "plan-your-trip-kayak\n",
      "sd-vehicle-data-javi\n"
     ]
    }
   ],
   "source": [
    "s3 = boto3.client('s3', region_name='eu-west-3',\n",
    "                  aws_access_key_id=AWS_KEY_ID,\n",
    "                  aws_secret_access_key=AWS_SECRET)\n",
    "response = s3.list_buckets()\n",
    "for buckets in response['Buckets']:\n",
    "    print(buckets['Name'])"
   ]
  },
  {
   "cell_type": "code",
   "execution_count": 10,
   "metadata": {},
   "outputs": [],
   "source": [
    "def create_bucket(bucket_name, region):\n",
    "    try:\n",
    "        if region is None:\n",
    "            s3.create_bucket(Bucket=bucket_name)\n",
    "        else:\n",
    "            location = {'LocationConstraint': region}\n",
    "            s3.create_bucket(Bucket=bucket_name,\n",
    "                                    CreateBucketConfiguration=location)\n",
    "        \n",
    "    except ClientError as e:\n",
    "        logging.error(e)\n",
    "        return False\n",
    "    return True"
   ]
  },
  {
   "cell_type": "code",
   "execution_count": 12,
   "metadata": {},
   "outputs": [
    {
     "data": {
      "text/plain": [
       "True"
      ]
     },
     "execution_count": 12,
     "metadata": {},
     "output_type": "execute_result"
    }
   ],
   "source": [
    "create_bucket('aws-de-project-javi', 'eu-west-3')"
   ]
  },
  {
   "cell_type": "markdown",
   "metadata": {},
   "source": [
    "### CREATE LAMBDA FUNCTION"
   ]
  },
  {
   "cell_type": "code",
   "execution_count": 14,
   "metadata": {},
   "outputs": [],
   "source": [
    "# Messages from Kinesis are 64 encoded\n",
    "import base64\n",
    "import json\n",
    "import boto3\n",
    "from datetime import datetime"
   ]
  },
  {
   "cell_type": "code",
   "execution_count": 16,
   "metadata": {},
   "outputs": [],
   "source": [
    "# Converting datetime object to string\n",
    "dateTimeObj = datetime.now()\n",
    "#format the string\n",
    "timestampStr = dateTimeObj.strftime(\"%d-%b-%Y-%H%M%S\")"
   ]
  },
  {
   "cell_type": "code",
   "execution_count": 17,
   "metadata": {},
   "outputs": [],
   "source": [
    "# this is the list for the records\n",
    "kinesisRecords = []\n",
    "def lambda_handler(event, context):\n",
    "    print(\"MyEvent:\")\n",
    "    print(event)\n",
    "    print(\"Received event: \" + json.dumps(event, indent=2))\n",
    "    # for record in event['Records']:\n",
    "    #     # Kinesis data is base64 encoded so decode here\n",
    "    #     # If you run into the error: [ERROR] TypeError: sequence item 0: expected str instance, bytes found\n",
    "    #     # Add the ecoding into UTF8: \n",
    "    #     #payload = base64.b64decode(record['kinesis']['data']).decode('utf-8')\n",
    "    #     payload = base64.b64decode(record['kinesis']['data'])\n",
    "\n",
    "\n",
    "    #     # append each record to a list\n",
    "    #     kinesisRecords.append(payload)\n",
    "    #     # this is just for logging\n",
    "    #     print(\"Decoded payload: \" + payload)\n"
   ]
  }
 ],
 "metadata": {
  "interpreter": {
   "hash": "369f2c481f4da34e4445cda3fffd2e751bd1c4d706f27375911949ba6bb62e1c"
  },
  "kernelspec": {
   "display_name": "Python 3.10.4 64-bit",
   "language": "python",
   "name": "python3"
  },
  "language_info": {
   "codemirror_mode": {
    "name": "ipython",
    "version": 3
   },
   "file_extension": ".py",
   "mimetype": "text/x-python",
   "name": "python",
   "nbconvert_exporter": "python",
   "pygments_lexer": "ipython3",
   "version": "3.10.4"
  },
  "orig_nbformat": 4
 },
 "nbformat": 4,
 "nbformat_minor": 2
}
