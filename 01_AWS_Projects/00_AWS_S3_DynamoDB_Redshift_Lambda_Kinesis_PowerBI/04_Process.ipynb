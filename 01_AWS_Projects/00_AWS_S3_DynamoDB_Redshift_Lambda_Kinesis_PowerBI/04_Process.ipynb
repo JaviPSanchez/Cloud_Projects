{
 "cells": [
  {
   "cell_type": "markdown",
   "metadata": {},
   "source": [
    "### Process"
   ]
  },
  {
   "cell_type": "markdown",
   "metadata": {},
   "source": [
    "![Converstion](assets/images/process1.png)\n",
    "![Converstion](assets/images/process2.png)"
   ]
  },
  {
   "cell_type": "code",
   "execution_count": null,
   "metadata": {},
   "outputs": [],
   "source": [
    "# For the scheduler in the batch process we can use Apache Airflow also\n",
    "\n"
   ]
  }
 ],
 "metadata": {
  "language_info": {
   "name": "python"
  },
  "orig_nbformat": 4
 },
 "nbformat": 4,
 "nbformat_minor": 2
}
