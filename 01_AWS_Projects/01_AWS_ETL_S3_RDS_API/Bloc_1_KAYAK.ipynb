{
 "cells": [
  {
   "cell_type": "markdown",
   "metadata": {},
   "source": [
    "![Kayak](https://seekvectorlogo.com/wp-content/uploads/2018/01/kayak-vector-logo.png)\n",
    "\n",
    "# Plan your trip with Kayak \n",
    "\n",
    "## Company's description 📇\n",
    "\n",
    "<a href=\"https://www.kayak.com\" target=\"_blank\">Kayak</a> is a travel search engine that helps user plan their next trip at the best price.\n",
    "\n",
    "The company was founded in 2004 by Steve Hafner & Paul M. English. After a few rounds of fundraising, Kayak was acquired by <a href=\"https://www.bookingholdings.com/\" target=\"_blank\">Booking Holdings</a> which now holds: \n",
    "\n",
    "* <a href=\"https://booking.com/\" target=\"_blank\">Booking.com</a>\n",
    "* <a href=\"https://kayak.com/\" target=\"_blank\">Kayak</a>\n",
    "* <a href=\"https://www.priceline.com/\" target=\"_blank\">Priceline</a>\n",
    "* <a href=\"https://www.agoda.com/\" target=\"_blank\">Agoda</a>\n",
    "* <a href=\"https://Rentalcars.com/\" target=\"_blank\">RentalCars</a>\n",
    "* <a href=\"https://www.opentable.com/\" target=\"_blank\">OpenTable</a>\n",
    "\n",
    "With over \\$300 million revenue a year, Kayak operates in almost all countries and all languages to help their users book travels accros the globe. "
   ]
  },
  {
   "cell_type": "markdown",
   "metadata": {},
   "source": [
    "## Project 🚧\n",
    "\n",
    "The marketing team needs help on a new project. After doing some user research, the team discovered that **70% of their users who are planning a trip would like to have more information about the destination they are going to**. \n",
    "\n",
    "In addition, user research shows that **people tend to be defiant about the information they are reading if they don't know the brand** which produced the content. \n",
    "\n",
    "Therefore, Kayak Marketing Team would like to create an application that will recommend where people should plan their next holidays. The application should be based on real data about:\n",
    "\n",
    "* Weather \n",
    "* Hotels in the area \n",
    "\n",
    "The application should then be able to recommend the best destinations and hotels based on the above variables at any given time. "
   ]
  },
  {
   "cell_type": "markdown",
   "metadata": {},
   "source": [
    "\n",
    "I will divide this exercise in 6 parts:\n",
    "\n",
    "0️⃣ [Part 0](#PART-0:-BEGINNING) Top </br>\n",
    "1️⃣ [Part 1](#PART-1:-SCRAPY) Scrapy </br>\n",
    "2️⃣ [Part 2](#PART-2:-HOTELS): API Yelp </br>\n",
    "3️⃣ [Part 3](#PART-3:-API-COORDINATES): API coordinates </br>\n",
    "4️⃣ [Part 4](#PART-4:-API-WEATHER): API weather </br>\n",
    "5️⃣ [Part 5](#PART-5:-AWS-S3): AWS S3 </br>\n",
    "6️⃣ [Part 6](#PART-6:-AWS-RDS): AWS RDS PostgreSQL </br>\n",
    "7️⃣ [Part 7](#PART-7:-EDA): EDA </br>"
   ]
  },
  {
   "cell_type": "markdown",
   "metadata": {},
   "source": [
    "### PART 0: BEGINNING"
   ]
  },
  {
   "cell_type": "code",
   "execution_count": 3,
   "metadata": {},
   "outputs": [],
   "source": [
    "# Importing libraries:\n",
    "import pandas as pd\n",
    "import plotly.express as px\n",
    "import re\n",
    "import sys\n",
    "import requests\n",
    "import os\n",
    "from pprint import pprint\n",
    "from IPython.display import clear_output\n",
    "import json\n",
    "from pprint import pprint\n",
    "# Help read S3 buckets\n",
    "from smart_open import smart_open\n",
    "# Scrapy\n",
    "import scrapy\n",
    "from scrapy.crawler import CrawlerProcess\n",
    "# SQL Alchemy\n",
    "from sqlalchemy import create_engine, Table, MetaData, select\n",
    "# Boto3\n",
    "import boto3\n",
    "import logging\n",
    "from botocore.exceptions import ClientError"
   ]
  },
  {
   "cell_type": "code",
   "execution_count": 4,
   "metadata": {},
   "outputs": [],
   "source": [
    "# ENVIRONMENT VARIABLES\n",
    "# API weather\n",
    "KEY_API_WEATHER = os.environ.get(\"KEY_API_WEATHER\")\n",
    "# API YELP\n",
    "YELP_CLIENT_ID = os.environ.get('YELP_CLIENT_ID')\n",
    "YELP_API_KEY = os.environ.get('YELP_API_KEY')\n",
    "# AWS S3\n",
    "AWS_KEY_ID = os.environ.get('AWS_KEY_ID')\n",
    "AWS_SECRET = os.environ.get('AWS_SECRET')\n",
    "# AWS RDS\n",
    "DBUSER_RDS_POSTGRE = os.environ.get('DBUSER_RDS_POSTGRE') # user\n",
    "DBPASS_RDS_POSTGRE = os.environ.get('DBPASS_RDS_POSTGRE') # password\n",
    "DBHOST_RDS_POSTGRE = os.environ.get('DBHOST_RDS_POSTGRE') # Endpoint\n",
    "DBNAME_RDS_POSTGRE = os.environ.get('DBNAME_RDS_POSTGRE') # db name\n",
    "DBPORT_RDS_POSTGRE = os.environ.get('DBPORT_RDS_POSTGRE') # port"
   ]
  },
  {
   "cell_type": "markdown",
   "metadata": {},
   "source": [
    "### PART 1: SCRAPY\n",
    "\n",
    "0️⃣ [Part 0](#PART-0:-BEGINNING) Top </br>\n",
    "1️⃣ [Part 1](#PART-1:-SCRAPY) Scrapy </br>\n",
    "2️⃣ [Part 2](#PART-2:-HOTELS): API Yelp</br>\n",
    "3️⃣ [Part 3](#PART-3:-API-COORDINATES): API coordinates </br>\n",
    "4️⃣ [Part 4](#PART-4:-API-WEATHER): API weather </br>\n",
    "5️⃣ [Part 5](#PART-5:-AWS-S3): AWS S3 </br>\n",
    "6️⃣ [Part 6](#PART-6:-AWS-RDS): AWS RDS PostgreSQL </br>\n",
    "7️⃣ [Part 7](#PART-7:-EDA): EDA </br>"
   ]
  },
  {
   "cell_type": "code",
   "execution_count": 3,
   "metadata": {},
   "outputs": [],
   "source": [
    "# We create a child class inheritated from its parent scrapy.Spider:\n",
    "class OneWeekSpider(scrapy.Spider):\n",
    "    name = \"oneweekin\"\n",
    "    \n",
    "    # start_requests method\n",
    "    def start_requests( self ):\n",
    "        url_short = 'https://one-week-in.com/35-cities-to-visit-in-france/'\n",
    "        yield scrapy.Request( url = url_short, callback= self.parse)\n",
    "        \n",
    "    # First parse method\n",
    "    def parse(self, response):\n",
    "        html = response.css('div.entry-content')\n",
    "        # print(html)\n",
    "        for p in html:\n",
    "            top_35_cities['city'] = p.css('h2 ::text').getall(),\n",
    "            top_35_cities['text'] = p.css('::text').getall(),\n",
    "\n",
    "top_35_cities = dict()\n",
    "\n"
   ]
  },
  {
   "cell_type": "code",
   "execution_count": null,
   "metadata": {},
   "outputs": [],
   "source": [
    "# To avoid reactor problems when re-running the crawler:\n",
    "if \"twisted.internet.reactor\" in sys.modules:\n",
    "    del sys.modules[\"twisted.internet.reactor\"]\n",
    "try:\n",
    "    # We instantiate CrawlerProcess:\n",
    "    process = CrawlerProcess()\n",
    "    # Start the crawling using the spider you defined above\n",
    "    process.crawl(OneWeekSpider)\n",
    "    process.start()\n",
    "    clear_output(wait=True)\n",
    "except:\n",
    "    print(\"There is some problem...\")"
   ]
  },
  {
   "cell_type": "code",
   "execution_count": 5,
   "metadata": {},
   "outputs": [
    {
     "data": {
      "text/plain": [
       "dict_keys(['city', 'text'])"
      ]
     },
     "execution_count": 5,
     "metadata": {},
     "output_type": "execute_result"
    }
   ],
   "source": [
    "top_35_cities.keys()"
   ]
  },
  {
   "cell_type": "code",
   "execution_count": 6,
   "metadata": {},
   "outputs": [
    {
     "name": "stdout",
     "output_type": "stream",
     "text": [
      "{'city': (['List of 35 best places to visit in France',\n",
      "           '1. Mont Saint Michel',\n",
      "           '2. St Malo',\n",
      "           '3. Bayeux',\n",
      "           '4. Le Havre',\n",
      "           '5. Rouen',\n",
      "           '6. Paris',\n",
      "           '7. Amiens',\n",
      "           '8. Lille',\n",
      "           '9. Strasbourg',\n",
      "           '10. Chateau du Haut Koenigsbourg',\n",
      "           '11. Colmar',\n",
      "           '12. Eguisheim',\n",
      "           '13. Besancon',\n",
      "           '14. Dijon',\n",
      "           '15. Annecy',\n",
      "           '16. Lyon',\n",
      "           '17. Grenoble',\n",
      "           '18. Verdon Gorge',\n",
      "           '19. Bormes les Mimosas',\n",
      "           '20. Cassis',\n",
      "           '21. Marseille',\n",
      "           '22. Aix en Provence',\n",
      "           '23. Avignon (my favorite!)',\n",
      "           '24. Uzès',\n",
      "           '25. Nimmes',\n",
      "           '26. Aigues Mortes',\n",
      "           '27. Saintes Maries de la Mer',\n",
      "           '28. Collioure',\n",
      "           '29. Carcassonne',\n",
      "           '30. Ariege',\n",
      "           '31. Toulouse',\n",
      "           '32. Montauban',\n",
      "           '33. Biarritz',\n",
      "           '34. Bayonne',\n",
      "           '35. La Rochelle',\n",
      "           'Map of France with all beautiful cities',\n",
      "           'Get around France and Itinerary',\n",
      "           'Hotels and Hostels in France',\n",
      "           'More Guides to France',\n",
      "           'Summary: Beautiful Cities to visit in France'],),\n",
      " 'text': (['\\r\\n\\t\\t\\t\\t\\t\\t\\t\\t\\t\\t\\t\\t\\t\\t\\t\\t\\t\\t\\t\\t\\t\\t\\t\\t\\t\\t',\n",
      "           'France is one of the most touristic countries in the world. There '\n",
      "           'is good reason for that.',\n",
      "           '\\n',\n",
      "           'It has amazing cities, villages, landscape and culture',\n",
      "           '\\n',\n",
      "           'We created a big list of the 35 most beautiful cities to visit in '\n",
      "           'France.',\n",
      "           '\\n',\n",
      "           'You should add all these places in France to your bucket list. '\n",
      "           'There is no way around it.',\n",
      "           '\\n',\n",
      "           'In order to make things easier for you, we created a ',\n",
      "           'map of France with cities',\n",
      "           ' that are worth to visit.',\n",
      "           '\\n',\n",
      "           'That will help you to plan your 10 days in France, your round trip '\n",
      "           'or your travel plans overall. Anyways, I personally love to plan '\n",
      "           'my travels with an actual map, so I thought that will be handy for '\n",
      "           'you too.',\n",
      "           '\\n',\n",
      "           'For the road trip around France, we recommend reading:',\n",
      "           '\\n',\n",
      "           '\\n',\n",
      "           'renting a car in Europe',\n",
      "           ' – do’s and dont’s',\n",
      "           '\\n',\n",
      "           'Travel Insurance? Safetywing is a solid option. Read here the ',\n",
      "           'review of Safetwings Insurance',\n",
      "           '\\n',\n",
      "           'Where to stay in Europe? An ',\n",
      "           'overview of Accommodation options in Europe',\n",
      "           '\\n',\n",
      "           '16 websites for travelling Europe safely',\n",
      "           ' and to find hidden gems',\n",
      "           '\\n',\n",
      "           '\\n',\n",
      "           'List of 35 best places to visit in France',\n",
      "           '\\n',\n",
      "           'This is your inspirational list of the best and most beautiful '\n",
      "           'cities to visit. To simplify it for you, I created a map and put '\n",
      "           'all towns on it. You find this ',\n",
      "           'map',\n",
      "           ' at the end of the article.',\n",
      "           '\\n',\n",
      "           'This list also includes Paris.',\n",
      "           '\\n',\n",
      "           'Why? Simply because it is gorgeous. You have to visit the French '\n",
      "           'capital as well. I know it sounds obvious, but I just wanted to '\n",
      "           'emphasize this.',\n",
      "           '\\n',\n",
      "           'Okay, let us get started:',\n",
      "           '\\n',\n",
      "           '\\n',\n",
      "           'Mont Saint Michel',\n",
      "           '\\n',\n",
      "           'St Malo',\n",
      "           '\\n',\n",
      "           'Bayeux',\n",
      "           '\\n',\n",
      "           'Le Havre',\n",
      "           '\\n',\n",
      "           'Rouen',\n",
      "           '\\n',\n",
      "           'Paris',\n",
      "           '\\n',\n",
      "           'Amiens',\n",
      "           '\\n',\n",
      "           'Lille',\n",
      "           '\\n',\n",
      "           'Strasbourg',\n",
      "           '\\n',\n",
      "           'Chateau du Haut Koenigsbourg',\n",
      "           '\\n',\n",
      "           'Colmar',\n",
      "           '\\n',\n",
      "           'Eguisheim',\n",
      "           '\\n',\n",
      "           'Besancon',\n",
      "           '\\n',\n",
      "           'Dijon',\n",
      "           '\\n',\n",
      "           'Annecy',\n",
      "           '\\n',\n",
      "           'Grenoble',\n",
      "           '\\n',\n",
      "           'Lyon',\n",
      "           '\\n',\n",
      "           'Verdon Gorge',\n",
      "           '\\n',\n",
      "           'Bormes les Mimosas',\n",
      "           '\\n',\n",
      "           'Cassis',\n",
      "           '\\n',\n",
      "           'Marseille',\n",
      "           '\\n',\n",
      "           'Aix en Provence',\n",
      "           '\\n',\n",
      "           'Avignon',\n",
      "           '\\n',\n",
      "           'Uzès',\n",
      "           '\\n',\n",
      "           'Nímes',\n",
      "           '\\n',\n",
      "           'Aigues Mortes',\n",
      "           '\\n',\n",
      "           'Saintes Maries de la mer',\n",
      "           '\\n',\n",
      "           'Collioure',\n",
      "           '\\n',\n",
      "           'Carcassonne',\n",
      "           '\\n',\n",
      "           'Ariege',\n",
      "           '\\n',\n",
      "           'Toulouse',\n",
      "           '\\n',\n",
      "           'Montauban',\n",
      "           '\\n',\n",
      "           'Biarritz',\n",
      "           '\\n',\n",
      "           'Bayonne',\n",
      "           '\\n',\n",
      "           'La Rochelle',\n",
      "           '\\n',\n",
      "           '\\n',\n",
      "           'Remember, we put all cities on the ',\n",
      "           'map',\n",
      "           '.',\n",
      "           '\\n',\n",
      "           'We started in the North-East and went clock-wise around France. '\n",
      "           'Take notes of the cities you would love to visit.',\n",
      "           '\\n',\n",
      "           'We also wrote:',\n",
      "           '\\n',\n",
      "           '\\n',\n",
      "           '41 most beautiful cities in Spain',\n",
      "           '\\n',\n",
      "           '34 most beautiful cities in Germany',\n",
      "           '\\n',\n",
      "           '25 best European Winter Destinations',\n",
      "           '\\n',\n",
      "           '\\n',\n",
      "           '\\n',\n",
      "           '1. Mont Saint Michel',\n",
      "           '\\n',\n",
      "           'When it comes to places to visit in France, Mont Saint Michel '\n",
      "           'cannot be missed. There is no way around it.',\n",
      "           '\\n',\n",
      "           'This majestic castle is settled above the water. It is only a myth '\n",
      "           'that you can only walk over during low-tide. The bridge is always '\n",
      "           'above water (except two times a year).',\n",
      "           '\\n',\n",
      "           'Click on the video to get amazed. It is incredibly beautiful – and '\n",
      "           'even better in real-life.',\n",
      "           '\\n',\n",
      "           'Is it better to see Mont Saint Michel during High Tide or Low '\n",
      "           'Tide?',\n",
      "           '\\n',\n",
      "           'BOTH! At low tide you can walk around the tiny island/ village/ '\n",
      "           'rock.',\n",
      "           '\\n',\n",
      "           'On high tide you get an impressive landscape to enjoy.',\n",
      "           '\\n',\n",
      "           'So my best recommendation is not to worry too much about low or '\n",
      "           'high tide, but more about weekend days. Obviously it is best to '\n",
      "           'visit early and late. From 11am the tourist buses arrive and it '\n",
      "           'can be packed.',\n",
      "           '\\n',\n",
      "           'Please note that most shops only open from 9am in the morning. So '\n",
      "           'even if you come over at like 8am, do not expect a breakfast with '\n",
      "           'a view here.',\n",
      "           '\\n',\n",
      "           '\\n',\n",
      "           '2. St Malo',\n",
      "           '\\n',\n",
      "           'Tall granite walls and the sea shore right in front of you. This '\n",
      "           'tiny village with only 45.000 inhabitants is located in the '\n",
      "           'Brittany, in France’s northwest coast line.',\n",
      "           '\\n',\n",
      "           'It also took an important role during WW2.',\n",
      "           '\\n',\n",
      "           'The best way to get here is by car.',\n",
      "           '\\n',\n",
      "           '\\n',\n",
      "           'Photo by @',\n",
      "           'thierrybegoud',\n",
      "           '\\n',\n",
      "           '3. Bayeux',\n",
      "           '\\n',\n",
      "           'The highlight of tiny Bayeux is its medieval city center and the '\n",
      "           'Tapisserie de Bayeux.',\n",
      "           '\\n',\n",
      "           'This is a 11th-century tapestry depicting the 1066 Norman invasion '\n",
      "           'of England.',\n",
      "           '\\n',\n",
      "           'You can park your car in the city center and wander around. Wander '\n",
      "           'the cobbled streets and take endlessly great shots for your travel '\n",
      "           'album.',\n",
      "           '\\n',\n",
      "           '\\n',\n",
      "           'photo by @gabri_ang97',\n",
      "           '\\n',\n",
      "           '4. Le Havre',\n",
      "           '\\n',\n",
      "           'Another highlight along the Northern Coast: Le Havre.',\n",
      "           '\\n',\n",
      "           'It is known for its artsy scene and the endless walks along the '\n",
      "           'boardwalk. In ww2 git got heavily damaged and the city center '\n",
      "           'itself is rebuild. Nevertheless, it’s beautiful!',\n",
      "           '\\n',\n",
      "           '\\n',\n",
      "           '5. Rouen',\n",
      "           '\\n',\n",
      "           'Following the river Seine from Paris, you will end up here, in '\n",
      "           'Rouen.',\n",
      "           '\\n',\n",
      "           'The Roman era and Middle Ages formed the city of Rouen until '\n",
      "           'today.',\n",
      "           '\\n',\n",
      "           'I loved wandering around the old town. There is also many '\n",
      "           'beautiful churches you can enter for free. It is not a very '\n",
      "           'touristic city, so that is a big plus too.',\n",
      "           '\\n',\n",
      "           'On your way from Paris to the Normandie, you can stop here and '\n",
      "           'walk around for 2 hours.',\n",
      "           '\\n',\n",
      "           '\\n',\n",
      "           'Photo by @',\n",
      "           'kings through',\n",
      "           '\\n',\n",
      "           '6. Paris',\n",
      "           '\\n',\n",
      "           'The French Capital of Paris is always in the top 10 cities in '\n",
      "           'France.',\n",
      "           '\\n',\n",
      "           'It is such a cliché, but it is always true.',\n",
      "           '\\n',\n",
      "           'We wrote a big guide to ',\n",
      "           'one week in Paris',\n",
      "           '.',\n",
      "           '\\n',\n",
      "           'It covers everything you need to know to have a great time.',\n",
      "           '\\n',\n",
      "           'Most likely your trip around the country will start and end here. '\n",
      "           'Plan accordingly and spend a few days here in the City of Love.',\n",
      "           '\\n',\n",
      "           'I recommend staying here for 3 nights. Find a ',\n",
      "           'great Airbnb near the Eiffel Tower',\n",
      "           ' (just add Paris Eiffel tower on the search bar and press search).',\n",
      "           '\\n',\n",
      "           'This gives you time to explore the romantic area of Montmartre, ',\n",
      "           'climb up the Eiffel Tower',\n",
      "           ' and take a ',\n",
      "           'river cruise at night',\n",
      "           ' or right before sunset.',\n",
      "           '\\n',\n",
      "           'The Louvre is obviously not to miss as well. Just make sure you '\n",
      "           'get your ',\n",
      "           'skip-the-line ticket for Louvre',\n",
      "           '.',\n",
      "           '\\n',\n",
      "           'Same goes for the island of Notre Dame and the Champs-Élysées.',\n",
      "           '\\n',\n",
      "           'Here is a full list of ',\n",
      "           '27 Fun Things to do in Paris',\n",
      "           '.',\n",
      "           '\\n',\n",
      "           '\\n',\n",
      "           'photo by @',\n",
      "           'theliamman',\n",
      "           '\\n',\n",
      "           '7. Amiens',\n",
      "           '\\n',\n",
      "           'Amiens is by divided by the Somme river and is known for its '\n",
      "           'Gothic Amiens Cathedral overlooking the city.',\n",
      "           '\\n',\n",
      "           'I love to come here just to sit down in one of the many cafés. '\n",
      "           'Order a Café au lait and Croissant; thank me later!',\n",
      "           '\\n',\n",
      "           'Same as Rouen, it is not a super overrun touristy place.',\n",
      "           '\\n',\n",
      "           'The cathedral has the same Gothic style as Notre Dame in Paris, '\n",
      "           'very beautiful! Go up here and enjoy the scenery!',\n",
      "           '\\n',\n",
      "           '\\n',\n",
      "           'photo by @',\n",
      "           'audrey_hncq',\n",
      "           '\\n',\n",
      "           '8. Lille',\n",
      "           '\\n',\n",
      "           'Up in the North, Lille is one of the places to see in France.',\n",
      "           '\\n',\n",
      "           'The city center is filled with plenty of shops, it is very popular '\n",
      "           'to come here for shopping.',\n",
      "           '\\n',\n",
      "           'The highlight is the medieval castle and old town.',\n",
      "           '\\n',\n",
      "           'Lille is a very industrial city, and recently many industrial chic '\n",
      "           'cafés and shops openend up.',\n",
      "           '\\n',\n",
      "           'Good to know: Lille has one of the best Christmas markets in '\n",
      "           'France.',\n",
      "           '\\n',\n",
      "           'Read:',\n",
      "           ' ',\n",
      "           'best Christmas markets in Europe',\n",
      "           '.',\n",
      "           '\\n',\n",
      "           '\\n',\n",
      "           'photo by @',\n",
      "           'claire__paris',\n",
      "           '\\n',\n",
      "           '9. Strasbourg',\n",
      "           '\\n',\n",
      "           'Strasbourg is a gorgeous pearl right next to the German border, '\n",
      "           'not far away from Colmar.',\n",
      "           '\\n',\n",
      "           'I have been to Strasbourg several times. It is always worth it. '\n",
      "           'You can wander La Petit France, the most scenic district.',\n",
      "           '\\n',\n",
      "           'I summed up all best places to visit in this list of ',\n",
      "           '28 things to do in Strasbourg',\n",
      "           '.',\n",
      "           '\\n',\n",
      "           'Good to know',\n",
      "           ': The Christmas market in Strasbourg is amazing!',\n",
      "           '\\n',\n",
      "           '\\n',\n",
      "           '10. Chateau du Haut Koenigsbourg',\n",
      "           '\\n',\n",
      "           'You cannot make a list of best places in France, without adding '\n",
      "           'some castles.',\n",
      "           '\\n',\n",
      "           'Chateau du Haut Koenigsburg is a restored 12th-century mountain '\n",
      "           'fortress with artillery platform, and medieval garden.',\n",
      "           '\\n',\n",
      "           'Right next to it you can find another castle, the Château de '\n",
      "           'l’Œdenbourg.',\n",
      "           '\\n',\n",
      "           '\\n',\n",
      "           'photo by @',\n",
      "           'christierosen',\n",
      "           '\\n',\n",
      "           '11. Colmar',\n",
      "           '\\n',\n",
      "           'Located close to the German and Swiss Border, Colmar is a '\n",
      "           'beautiful, tiny village. It is named “small Venice”. You can even '\n",
      "           'take a small Gondola ride on the small river.',\n",
      "           '\\n',\n",
      "           'You can walk around the city center in 30 minutes. One thing you '\n",
      "           'should put on your list as well: the local market.',\n",
      "           '\\n',\n",
      "           'It is a local market with local fruits, vegetables and cheese. '\n",
      "           'Endless cheese!',\n",
      "           '\\n',\n",
      "           'Strasbourg and Colmar are one of the safest cities in France to '\n",
      "           'visit. The whole area is super safe and beautiful at the same '\n",
      "           'time.',\n",
      "           '\\n',\n",
      "           '\\n',\n",
      "           'Photo by @',\n",
      "           'Jamiesweetie',\n",
      "           '\\n',\n",
      "           '12. Eguisheim',\n",
      "           '\\n',\n",
      "           'One of the best preserved medieval towns in France. It is full of '\n",
      "           'color and plants.',\n",
      "           '\\n',\n",
      "           'And most likely, this is the kind of town you have in your mind '\n",
      "           'when thinking of cities and towns in France.',\n",
      "           '\\n',\n",
      "           'It is just a stone throw away from Colmar, previously mentioned in '\n",
      "           'this list of the best cities to visit in France. It is a very '\n",
      "           'small city, you can walk around in just 1 hour.',\n",
      "           '\\n',\n",
      "           '\\n',\n",
      "           '13. Besancon',\n",
      "           '\\n',\n",
      "           'I wanted to include Besancon due to its distribution and location. '\n",
      "           'And also, since it is for me one of the friendliest cities in '\n",
      "           'France.',\n",
      "           '\\n',\n",
      "           'It is a peninsula, 90% surrounded by its river. It is accessible '\n",
      "           'by around 10 bridges.',\n",
      "           '\\n',\n",
      "           'Only the part of the castle is directly connected with the “main '\n",
      "           'land”.',\n",
      "           '\\n',\n",
      "           'I have spent a few days here. It is not very touristic, and the '\n",
      "           'castle is impressive to visit. There is even some history about '\n",
      "           'World War 2, the resistance was hiding in the area.',\n",
      "           '\\n',\n",
      "           'The castle has also a zoo inside. Personally, I do not enjoy '\n",
      "           'visiting a Zoo, but the animals look very healthy and are well '\n",
      "           'taken care of. I guess it is one of the great things to do in '\n",
      "           'France with families.',\n",
      "           '\\n',\n",
      "           '\\n',\n",
      "           '14. Dijon',\n",
      "           '\\n',\n",
      "           'The landscape around Dijon is something not to miss. Here you can '\n",
      "           'visit wineries and taste the world famous Burgundy cheese.',\n",
      "           '\\n',\n",
      "           'There are numerous authentic tours to join.',\n",
      "           '\\n',\n",
      "           'You can find all ',\n",
      "           'wine tours and cheese tastings in Dijon here',\n",
      "           '.',\n",
      "           '\\n',\n",
      "           'This is a must-do!',\n",
      "           '\\n',\n",
      "           '\\n',\n",
      "           'Photo by @',\n",
      "           'thelondonfoodie',\n",
      "           '\\n',\n",
      "           '15. Annecy',\n",
      "           '\\n',\n",
      "           'Annecy, a beautiful village and castle near the Alps.',\n",
      "           '\\n',\n",
      "           'It is only 40km South of Geneva, so actually very close to '\n",
      "           'Switzerland and Italy.',\n",
      "           '\\n',\n",
      "           'Annecy is the capital of the Départements Haute-Savoie, directly '\n",
      "           'located at a beautiful lake.',\n",
      "           '\\n',\n",
      "           'In the area you find many different lakes, perfect for the summer.',\n",
      "           '\\n',\n",
      "           '\\n',\n",
      "           'photo by @',\n",
      "           'vehbi_ch',\n",
      "           '\\n',\n",
      "           '16. Lyon',\n",
      "           '\\n',\n",
      "           'Known as the “next Paris” or “Small Paris”, Lyon is certainly a '\n",
      "           'city to keep an eye on. Lyon is certainly one of the best cities '\n",
      "           'in France to live.',\n",
      "           '\\n',\n",
      "           'World class cooks call this city their home.',\n",
      "           '\\n',\n",
      "           'The markets are filled with delicious cakes, cheese, wine and more '\n",
      "           'tasty products you want to taste.',\n",
      "           '\\n',\n",
      "           'When visiting Lyon, make sure you wander the 4th district.',\n",
      "           '\\n',\n",
      "           'This is the area of the Croix-Rousse.',\n",
      "           '\\n',\n",
      "           'It is well known for its partially colorful stairways, the market '\n",
      "           'and art.',\n",
      "           '\\n',\n",
      "           'Another highlight is Basilica of Notre-Dame de Fourvière.',\n",
      "           '\\n',\n",
      "           'It is the Basilica on top of the hill.',\n",
      "           '\\n',\n",
      "           'You can come here by walking up 20 minutes or taking the '\n",
      "           'funicular. From here you have a panoramic view all over Lyon.',\n",
      "           '\\n',\n",
      "           'Good to know',\n",
      "           ': I recommend walking down. You will pass a tiny park and more '\n",
      "           'monuments you would not expect.',\n",
      "           '\\n',\n",
      "           'I include here a beautiful video; it sums up the city really well, '\n",
      "           'better than a photo could do.',\n",
      "           '\\n',\n",
      "           '\\n',\n",
      "           '17. Grenoble',\n",
      "           '\\n',\n",
      "           'The highlight in Grenoble is taking the cable care over the city, '\n",
      "           'up the mountain.',\n",
      "           '\\n',\n",
      "           'Grenoble has amazing views to the Alp mountains. It is the door to '\n",
      "           'Switzerland, and is close to the Italians border with Torino.',\n",
      "           '\\n',\n",
      "           'Good to know',\n",
      "           ': North ot Grenoble you have many many lakes, perfect for the hot '\n",
      "           'summer time! I went to Lago Bourget, loved this! There is certain '\n",
      "           'swimming areas for families, but also areas for kite surfing.',\n",
      "           '\\n',\n",
      "           '\\n',\n",
      "           'photo by @',\n",
      "           'luciedgr',\n",
      "           '\\n',\n",
      "           '18. Verdon Gorge',\n",
      "           '\\n',\n",
      "           'Verdon Gorge is not an actual city, but one of the best places to '\n",
      "           'visit in France.',\n",
      "           '\\n',\n",
      "           'It also one of the best regions of France to visit thanks to the '\n",
      "           'mountains but also the Lavender fields in the area. This area is '\n",
      "           'one of the ',\n",
      "           'best road trips in France',\n",
      "           ' you can take; no doubt! As it is a river canyon, popular for '\n",
      "           'Kayaking. Verdon Gorge is often considered to be one of Europe’s '\n",
      "           'most beautiful river canyons.',\n",
      "           '\\n',\n",
      "           'Although I have not seen every single canyon in Europe, this is '\n",
      "           'very likely.',\n",
      "           '\\n',\n",
      "           'Especially in summer this place was wonderful! I came here in '\n",
      "           'August with our camper van, and in the mountains the temperature '\n",
      "           'was wonderful! It was warm and at night you could actually cool '\n",
      "           'down again. Before coming here, I was in Avignon; it was boiling '\n",
      "           'hot. The lakes in Gorge du Verdon are also great to have a swim. '\n",
      "           'You can also rent Kayak and do other family-friendly activities.',\n",
      "           '\\n',\n",
      "           'In winter times, this are is covered in snow. Bare this in mind.',\n",
      "           '\\n',\n",
      "           'Have a look at this video.',\n",
      "           '\\n',\n",
      "           '\\n',\n",
      "           '19. Bormes les Mimosas',\n",
      "           '\\n',\n",
      "           'Bormes les Mimosas is a very popular destination to get married. '\n",
      "           'So, yes, it is one of the romantic places to visit in France!',\n",
      "           '\\n',\n",
      "           'The city is covered in the Mimosas flowers.',\n",
      "           '\\n',\n",
      "           'And not just that.',\n",
      "           '\\n',\n",
      "           'The city organizes every year a traditional floral procession: the '\n",
      "           'Grand Mimosa Procession.',\n",
      "           '\\n',\n",
      "           'More than 12 tonnes of yellow sprigs and more than 90.000 flowers '\n",
      "           'decorate the streets in the old village.',\n",
      "           '\\n',\n",
      "           'The festivals takes place at the last weekend of February.',\n",
      "           '\\n',\n",
      "           '\\n',\n",
      "           'photo by @',\n",
      "           'ettavee',\n",
      "           '\\n',\n",
      "           '20. Cassis',\n",
      "           '\\n',\n",
      "           'Limestone cliffs, fishing port, romantinc ambiant.',\n",
      "           '\\n',\n",
      "           'Just a shor ride away from Marseille, you can find the tiny town '\n",
      "           'of Cassis.',\n",
      "           '\\n',\n",
      "           'You can come here as well for a day trip.',\n",
      "           '\\n',\n",
      "           'Make sure you walk along the boardwalk and get a coffee along the '\n",
      "           'way.',\n",
      "           '\\n',\n",
      "           '\\n',\n",
      "           'photo by @',\n",
      "           'sophiecstuart',\n",
      "           '\\n',\n",
      "           '21. Marseille',\n",
      "           '\\n',\n",
      "           'The city on the Mediterranean is a well-known tourist destination. '\n",
      "           'Besides the city center and the Roman architecture, there are many '\n",
      "           'dreamy ',\n",
      "           'day trips from Marseille to join',\n",
      "           '.',\n",
      "           '\\n',\n",
      "           'There is the French version of Alcatraz, the Château d’If, a '\n",
      "           'prison located on the sea.',\n",
      "           '\\n',\n",
      "           '\\n',\n",
      "           '22. Aix en Provence',\n",
      "           '\\n',\n",
      "           'The birthplace of Post-Impressionist painter Paul Cézanne awakes '\n",
      "           'in serious charm when the sun goes down.',\n",
      "           '\\n',\n",
      "           'The main square is illuminated, and the city awakes.',\n",
      "           '\\n',\n",
      "           'I recommend having dinner at a restaurant nearby. Here you can '\n",
      "           'soak in the full charm.',\n",
      "           '\\n',\n",
      "           '\\n',\n",
      "           '23. Avignon (my favorite!)',\n",
      "           '\\n',\n",
      "           'Avignon is the former seat of Catholic popes.',\n",
      "           '\\n',\n",
      "           'Although this is long time passed, the\\xa0Palais des Papes (Popes’ '\n",
      "           'Palace) is still the main attraction of the city.',\n",
      "           '\\n',\n",
      "           'I have to say, Avignon is my absolute favorite city in France!',\n",
      "           '\\n',\n",
      "           'Read:',\n",
      "           ' ',\n",
      "           'things to do in Avignon',\n",
      "           '\\n',\n",
      "           'I had zero expectations when we got here. I thought “',\n",
      "           'oh sure, let us stop here and walk around',\n",
      "           '“.',\n",
      "           '\\n',\n",
      "           'Let me tell you, Avignon is one of the underrated cities in '\n",
      "           'France.',\n",
      "           '\\n',\n",
      "           'By complete coincidence we visited during the Theater and Cinema '\n",
      "           'Festival in July.',\n",
      "           '\\n',\n",
      "           'The medieval city center is packed with theater shows, no cars are '\n",
      "           'allowed in the old town, and people are celebrating for 2-3 weeks.',\n",
      "           '\\n',\n",
      "           'Avignon is a very artsy city, packed with history and beautiful '\n",
      "           'buildings. I was so surprised, really. Check out all ',\n",
      "           'their festivals here',\n",
      "           '.',\n",
      "           '\\n',\n",
      "           'Besides, the Palais des Papes is a very impressive building to '\n",
      "           'visit. Book your ',\n",
      "           'ticket with Get Your Guide',\n",
      "           ' and get the Audio and Virtual-reality Guide.',\n",
      "           '\\n',\n",
      "           'The guide even has a game in it, perfect for kids. You have to '\n",
      "           'find virtually hidden treasures around the Palace.',\n",
      "           '\\n',\n",
      "           ' ',\n",
      "           '\\n',\n",
      "           '24. Uzès',\n",
      "           '\\n',\n",
      "           'Same story',\n",
      "           ': Uzès is magnificent.',\n",
      "           '\\n',\n",
      "           'The main attraction is to visit is their colorful flower and '\n",
      "           'vegetable market.',\n",
      "           '\\n',\n",
      "           'It is very popular. Even French citizens come over just for the '\n",
      "           'market.',\n",
      "           '\\n',\n",
      "           '\\n',\n",
      "           'photo by @',\n",
      "           'julieannstokes',\n",
      "           '\\n',\n",
      "           '25. Nimmes',\n",
      "           '\\n',\n",
      "           'I hope I really fired you up with Avignon and Uzes. Here comes my '\n",
      "           'next big thing I sooooo enjoyed: Nimes!',\n",
      "           '\\n',\n",
      "           'Nimmes took an important role during Roman Empire.',\n",
      "           '\\n',\n",
      "           'Some photos could even be taken for Rome.',\n",
      "           '\\n',\n",
      "           'Other than the Colosseum in Rome, the Arena of Nimes is still in '\n",
      "           'use – and very well preserved!',\n",
      "           '\\n',\n",
      "           'The amphitheater holds concerts and other city events.',\n",
      "           '\\n',\n",
      "           'I included here a photo from Rammsteins concert.',\n",
      "           '\\n',\n",
      "           'WOW, right?!',\n",
      "           '\\n',\n",
      "           '\\n',\n",
      "           '26. Aigues Mortes',\n",
      "           '\\n',\n",
      "           'The medieval city center of Aigues Mortes is well-preserved.',\n",
      "           '\\n',\n",
      "           'Yet, the highlight of Aigues Mortes is outside the city walls.',\n",
      "           '\\n',\n",
      "           'It is the Pink Lake.',\n",
      "           '\\n',\n",
      "           'The unnatural, pinkish colour of the salty water is given by '\n",
      "           'micro-organisms growing in this environment.',\n",
      "           '\\n',\n",
      "           'It is not because of the pink flamingos nestling here.',\n",
      "           '\\t\\t',\n",
      "           '\\r\\n\\t\\t\\t\\t\\t',\n",
      "           '\\r\\n\\t\\t\\t',\n",
      "           '\\r\\n\\t\\t\\t\\t',\n",
      "           '\\t\\t\\t',\n",
      "           '\\r\\n\\t\\t',\n",
      "           '\\r\\n\\t\\t\\t\\t\\t',\n",
      "           '\\r\\n\\t\\t\\t\\t',\n",
      "           'See Also',\n",
      "           '\\t\\t\\t\\t',\n",
      "           '\\r\\n\\t\\t\\t\\t\\t',\n",
      "           '\\r\\n'\n",
      "           '\\t\\t\\t\\t\\t\\t59 Best Things To Do in Spain 2022 – an Itinerary from '\n",
      "           'North to South (+ detailed Map)\\t\\t\\t\\t\\t',\n",
      "           '\\r\\n\\t\\t\\t\\t',\n",
      "           '\\r\\n\\t\\t\\t\\t\\t\\t\\t',\n",
      "           '\\r\\n\\t\\t',\n",
      "           '\\r\\n\\t\\t',\n",
      "           '\\n',\n",
      "           'Nevertheless, that’s a cute thought.',\n",
      "           '\\n',\n",
      "           '\\n',\n",
      "           '27. Saintes Maries de la Mer',\n",
      "           '\\n',\n",
      "           'This is probably the tiniest village, town, on this list.',\n",
      "           '\\n',\n",
      "           'Saintes Maries de la mar has only around 2500 inhabitants.',\n",
      "           '\\n',\n",
      "           'Yet, in summer time, the population grows dramatically due it’s '\n",
      "           'beauty.',\n",
      "           '\\n',\n",
      "           'Have a look at this video of Saintes Maries de la mer.',\n",
      "           '\\n',\n",
      "           'It shows you the animals in the area, things to do and what to '\n",
      "           'admire.',\n",
      "           '\\n',\n",
      "           '\\n',\n",
      "           '28. Collioure',\n",
      "           '\\n',\n",
      "           'I visited this small village during Spring time. Collioure is '\n",
      "           'located near the Catalan border, directly at the Mediterranean.',\n",
      "           '\\n',\n",
      "           'So if you are travelling around Costa Brava in Spain, you can come '\n",
      "           'here easily.',\n",
      "           '\\n',\n",
      "           'The well preserved wall tower is the monument of the little '\n",
      "           'village.',\n",
      "           '\\n',\n",
      "           'I also recommend walking around the narrow streets. It is said '\n",
      "           'that Salvador Dalí came here to get inspiration once in a while.',\n",
      "           '\\n',\n",
      "           'Read',\n",
      "           ': ',\n",
      "           '41 most beautiful cities to visit in Spain',\n",
      "           '\\n',\n",
      "           '\\n',\n",
      "           'photo by @',\n",
      "           'johanni_he',\n",
      "           '\\n',\n",
      "           '29. Carcassonne',\n",
      "           '\\n',\n",
      "           'The city of Carcassonne is not just a famous board game, but also '\n",
      "           'a real city.',\n",
      "           '\\n',\n",
      "           'Carcassonne a top-hill city with double-walled fortifications and '\n",
      "           'citadel. It is one of the many points of interests in France.',\n",
      "           '\\n',\n",
      "           'Come here in the early morning.',\n",
      "           '\\n',\n",
      "           'At this time of day it is usually less busy.',\n",
      "           '\\n',\n",
      "           '\\n',\n",
      "           '30. Ariege',\n",
      "           '\\n',\n",
      "           'Known for its rural landscape and its magnificent castle Château '\n",
      "           'de Foix, Ariege had to make this list.',\n",
      "           '\\n',\n",
      "           'Have a look at this video by the official tourism board.',\n",
      "           '\\n',\n",
      "           'This castle looks like a painting to me. Sitting on the hill, with '\n",
      "           'this massive tower overlooking the area. And all that is very well '\n",
      "           'preserved.',\n",
      "           '\\n',\n",
      "           'This is something to visit for every family, the kids will love '\n",
      "           'that!',\n",
      "           '\\n',\n",
      "           '\\n',\n",
      "           '31. Toulouse',\n",
      "           '\\n',\n",
      "           'From Carcassonne you can drive over to Toulouse. It is just a '\n",
      "           'short car ride away.',\n",
      "           '\\n',\n",
      "           'You can even take a ',\n",
      "           'day trip from Toulouse to the city of Carcassonne',\n",
      "           '.',\n",
      "           '\\n',\n",
      "           'The highlights here are the old stone bridges as well as the big '\n",
      "           'local markets.',\n",
      "           '\\n',\n",
      "           'I love to try out cheese and get some local wine for the house '\n",
      "           'here.',\n",
      "           '\\n',\n",
      "           'If you or someone in your family is into football, visit the '\n",
      "           'Stadium of FC Toulouse.',\n",
      "           '\\n',\n",
      "           'It is located on an actual island in the river.',\n",
      "           '\\n',\n",
      "           '\\n',\n",
      "           'photo by @',\n",
      "           'sr_solo',\n",
      "           '\\n',\n",
      "           '32. Montauban',\n",
      "           '\\n',\n",
      "           'Located North of Toulouse, Montauban is mini-version of the bigger '\n",
      "           'brother.',\n",
      "           '\\n',\n",
      "           '\\n',\n",
      "           'Photo by @',\n",
      "           'montaubantourisme',\n",
      "           '\\n',\n",
      "           '33. Biarritz',\n",
      "           '\\n',\n",
      "           'A bit more up the Atlantic coast, but still in the Basque area.',\n",
      "           '\\n',\n",
      "           'This is BIARRITZ.',\n",
      "           '\\n',\n",
      "           'The surfers paradise is perfect for every beginner and pro on the '\n",
      "           'surf board.',\n",
      "           '\\n',\n",
      "           'It is also a small, cosy village with a beachy vibe. It’s really '\n",
      "           'laid-back and easy-going, with monuments, architecture and a '\n",
      "           'culinary scene to explore.',\n",
      "           '\\n',\n",
      "           'Just have a look at this video:',\n",
      "           '\\n',\n",
      "           '\\n',\n",
      "           '34. Bayonne',\n",
      "           '\\n',\n",
      "           'Bayonne is at the confluence of the Nive and Adour Rivers in far '\n",
      "           'southwestern France, where historical regions overlap.',\n",
      "           '\\n',\n",
      "           'Other than Biarritz, it is not located directly at the ocean, but '\n",
      "           'at the river.',\n",
      "           '\\n',\n",
      "           'The best way to explore Bayonne and area is by bike.',\n",
      "           '\\n',\n",
      "           'The two main sights are the small castle and the cathedral in the '\n",
      "           'city center.',\n",
      "           '\\n',\n",
      "           '\\n',\n",
      "           'photo by @',\n",
      "           'mila71369',\n",
      "           '\\n',\n",
      "           '35. La Rochelle',\n",
      "           '\\n',\n",
      "           'Last but not least, La Rochelle.',\n",
      "           '\\n',\n",
      "           'La Rochelle is a Renaissance Architecture village in the West '\n",
      "           'France.',\n",
      "           '\\n',\n",
      "           'I wanted to end this list with a city that somehow combines many '\n",
      "           'sides of the French life and culture. And I think La Rochelle '\n",
      "           'ticks a few of the boxes.',\n",
      "           '\\n',\n",
      "           'As mentioned, it has the Renaissance Architecture, a rich culinary '\n",
      "           'scene, it is located on the the Atlantic Coast and in the area '\n",
      "           'they produce plenty of great wine.',\n",
      "           '\\n',\n",
      "           '\\n',\n",
      "           'Map of France with all beautiful cities',\n",
      "           '\\n',\n",
      "           'My map of France with cities covers all mentioned places, towns '\n",
      "           'and villages.',\n",
      "           '\\n',\n",
      "           'It will help you to plan your France itinerary properly.',\n",
      "           '\\n',\n",
      "           'The south of France cities are very popular in the summer months, '\n",
      "           'especially during July and August.',\n",
      "           '\\n',\n",
      "           'We start in the North-East and went clock-wise. Take notes of the '\n",
      "           'cities, areas and towns you would love to visit. That will make '\n",
      "           'your 10 days in France much much easier.',\n",
      "           '\\n',\n",
      "           '\\n',\n",
      "           'Get around France and Itinerary',\n",
      "           '\\n',\n",
      "           'Personally, I love my freedom.',\n",
      "           '\\n',\n",
      "           'Therefore, for getting around France, I recommend renting a car.',\n",
      "           '\\n',\n",
      "           'The motorways/ freeways in France come with a road charge. '\n",
      "           'Depending on your itinerary it can be pricey.',\n",
      "           '\\n',\n",
      "           'I love to use ',\n",
      "           'Via Michelin.com',\n",
      "           ' to plan my itinerary.',\n",
      "           '\\n',\n",
      "           'It gives you an overview of road charges, distances and patrol '\n",
      "           'consumption.',\n",
      "           '\\n',\n",
      "           'It is very likely you will start in Paris. Since you are up in the '\n",
      "           'North, you should travel clock wise.',\n",
      "           '\\n',\n",
      "           'You find castles and tiny villages all around the border of '\n",
      "           'France.',\n",
      "           '\\n',\n",
      "           'Good to know',\n",
      "           ':',\n",
      "           '\\n',\n",
      "           '\\n',\n",
      "           'If you prefer the beach and coastline: start in the East and '\n",
      "           'travel southwards.',\n",
      "           '\\n',\n",
      "           'If you are more into mountains, I recommend the area of '\n",
      "           'Strasbourg, Luxembourg and Alps.',\n",
      "           '\\n',\n",
      "           '\\n',\n",
      "           'Please drop me a comment below if you need help with planning your '\n",
      "           'itinerary.',\n",
      "           '\\n',\n",
      "           'Hotels and Hostels in France',\n",
      "           '\\n',\n",
      "           'You can find all hotels in France with ',\n",
      "           'Booking.com',\n",
      "           '\\n',\n",
      "           'Booking.com is the only website you need to book your '\n",
      "           'accommodation. You can book the accommodation without any '\n",
      "           'prepayment. There is also a free cancellation policy.',\n",
      "           '\\n',\n",
      "           'Booking covers the widest selection of accommodations in Europe.',\n",
      "           '\\n',\n",
      "           'This includes',\n",
      "           '\\n',\n",
      "           '\\n',\n",
      "           'hotels',\n",
      "           '\\n',\n",
      "           'resorts',\n",
      "           '\\n',\n",
      "           'guesthouses',\n",
      "           '\\n',\n",
      "           'B&Bs',\n",
      "           '\\n',\n",
      "           'campings',\n",
      "           '\\n',\n",
      "           'Villas',\n",
      "           '\\n',\n",
      "           '\\n',\n",
      "           'Just check out ',\n",
      "           'Booking.com',\n",
      "           '.',\n",
      "           '\\n',\n",
      "           'We have written a detailed guide on ',\n",
      "           'where to stay in Paris France',\n",
      "           ' here.',\n",
      "           '\\n',\n",
      "           'Here’s a guide to the ',\n",
      "           'best hostels in France',\n",
      "           ', including the coastal towns and the cities such as:',\n",
      "           '\\n',\n",
      "           '\\n',\n",
      "           'Paris: ',\n",
      "           'Generator Paris',\n",
      "           '\\n',\n",
      "           'Lille: ',\n",
      "           'Gastama Hostel',\n",
      "           '\\n',\n",
      "           'Near Mont Saint Michel: ',\n",
      "           'Edd Hostel',\n",
      "           '\\n',\n",
      "           'Strasbourg: ',\n",
      "           'Ciarus',\n",
      "           '\\n',\n",
      "           'Marseille: ',\n",
      "           'Vertigo Vieux-Port',\n",
      "           '\\n',\n",
      "           'Nice: ',\n",
      "           'Villa Saint Exupery Beach Hostel',\n",
      "           '\\n',\n",
      "           'Sète: ',\n",
      "           'Georges Hostel & Cafe',\n",
      "           '\\n',\n",
      "           'Soorts-Hoosegor: ',\n",
      "           'Jo&Joes Hostel',\n",
      "           '\\n',\n",
      "           '\\n',\n",
      "           'More Guides to France',\n",
      "           '\\n',\n",
      "           'Get Your Guide',\n",
      "           ' is my favorite way to find',\n",
      "           '\\n',\n",
      "           '\\n',\n",
      "           'things to do',\n",
      "           '\\n',\n",
      "           'day tours',\n",
      "           '\\n',\n",
      "           'activities',\n",
      "           '\\n',\n",
      "           '\\n',\n",
      "           'It is also the best way to get inspired.',\n",
      "           '\\n',\n",
      "           'Here’s my favorite guides to France:',\n",
      "           '\\n',\n",
      "           '\\n',\n",
      "           'Lonely Planet for France',\n",
      "           ' (my favorite!)',\n",
      "           '\\n',\n",
      "           'Rick Steves Best of France',\n",
      "           '\\n',\n",
      "           'DK Eyewitness Travel Guide France',\n",
      "           '\\n',\n",
      "           '\\n',\n",
      "           'Summary: Beautiful Cities to visit in France',\n",
      "           '\\n',\n",
      "           'I hope this list gave you a lot of inspiration.',\n",
      "           '\\n',\n",
      "           'France is simply awesome. Whether you are coming over for One '\n",
      "           'Week, two weeks or a full month, make sure you spend your time '\n",
      "           'wisely. Try not to get overwhelmed by all these points of '\n",
      "           'interests in France.',\n",
      "           '\\n',\n",
      "           'As long as you do following things during your holiday, you are '\n",
      "           'good:',\n",
      "           '\\n',\n",
      "           '\\n',\n",
      "           'Try Local cheese',\n",
      "           '\\n',\n",
      "           'Try local wine',\n",
      "           '\\n',\n",
      "           'Visit a chateau aka. castle',\n",
      "           '\\n',\n",
      "           'Visit a small village',\n",
      "           '\\n',\n",
      "           'lean back and enjoy the journey',\n",
      "           '\\n',\n",
      "           '\\n',\n",
      "           'Before you run off, remember we also collected much more cool '\n",
      "           'guides for your Europe adventure:',\n",
      "           '\\n',\n",
      "           '\\n',\n",
      "           '41 most beautiful cities in Spain',\n",
      "           '\\n',\n",
      "           'best Christmas markets in Europe',\n",
      "           '\\n',\n",
      "           '34 most beautiful cities in Germany',\n",
      "           '\\n',\n",
      "           '25 best European Winter Destinations',\n",
      "           '\\n',\n",
      "           '\\n',\n",
      "           'Do you have any questions? Did I miss any village?',\n",
      "           '\\n',\n",
      "           'Please let me know. I would love to have this list completed.',\n",
      "           '\\n',\n",
      "           '– – –',\n",
      "           '\\nPin it for later:',\n",
      "           '\\n',\n",
      "           '\\n\\n        ',\n",
      "           '\\n            ',\n",
      "           'Travel Europe Smarter in 2022',\n",
      "           '\\n            ',\n",
      "           'Reliable Car Rental',\n",
      "           '\\n            ',\n",
      "           'Discover Cars.com',\n",
      "           ' is a top website for renting cars. Read our ',\n",
      "           'full review',\n",
      "           '.\\n            \\n            ',\n",
      "           'Book great Accommodation',\n",
      "           '\\n            ',\n",
      "           'Booking.com',\n",
      "           ' is the best site to find great hotels deals. ',\n",
      "           'Vrbo',\n",
      "           ' is the best alternative to ',\n",
      "           'Airbnb',\n",
      "           ' for renting apartments.',\n",
      "           '\\n            \\n            ',\n",
      "           'Safety: Travel Insurance',\n",
      "           '\\n            ',\n",
      "           'World Nomads',\n",
      "           ' and ',\n",
      "           'Safetywing',\n",
      "           ' are the best travel insurances.',\n",
      "           '\\n\\n            ',\n",
      "           'Find better Flight Deals',\n",
      "           '\\n            ',\n",
      "           'Famous ',\n",
      "           'Skyscanner',\n",
      "           ' is the #1 tool to find great deals for flying to Europe.',\n",
      "           '\\n\\n            ',\n",
      "           'Need a Guide?',\n",
      "           '\\n            ',\n",
      "           'Take Walks',\n",
      "           ' run small walking tours all over Europe. They offer high-quality '\n",
      "           'walking tours with exceptional guides.',\n",
      "           '\\n            \\n            ',\n",
      "           '\\n                ',\n",
      "           'More Money-Saving Travel websites',\n",
      "           '\\n                ',\n",
      "           '\\n                    ',\n",
      "           'Check out our guide to the ',\n",
      "           'best 16 Travel Websites for Europe',\n",
      "           '.\\n                    ',\n",
      "           'Bookmark this site; it will easily save you money using these '\n",
      "           'recommended websites.',\n",
      "           '\\n                ',\n",
      "           '\\n                ',\n",
      "           '\\n                    ',\n",
      "           '\\n                ',\n",
      "           '\\n            ',\n",
      "           '\\n        ',\n",
      "           '\\t\\t\\t\\t\\t\\t\\t\\t\\t'],)}\n"
     ]
    }
   ],
   "source": [
    "pprint(top_35_cities)"
   ]
  },
  {
   "cell_type": "code",
   "execution_count": 7,
   "metadata": {},
   "outputs": [
    {
     "data": {
      "text/plain": [
       "['1. Mont Saint Michel',\n",
       " '2. St Malo',\n",
       " '3. Bayeux',\n",
       " '4. Le Havre',\n",
       " '5. Rouen',\n",
       " '6. Paris',\n",
       " '7. Amiens',\n",
       " '8. Lille',\n",
       " '9. Strasbourg',\n",
       " '10. Chateau du Haut Koenigsbourg',\n",
       " '11. Colmar',\n",
       " '12. Eguisheim',\n",
       " '13. Besancon',\n",
       " '14. Dijon',\n",
       " '15. Annecy',\n",
       " '16. Lyon',\n",
       " '17. Grenoble',\n",
       " '18. Verdon Gorge',\n",
       " '19. Bormes les Mimosas',\n",
       " '20. Cassis',\n",
       " '21. Marseille',\n",
       " '22. Aix en Provence',\n",
       " '23. Avignon (my favorite!)',\n",
       " '24. Uzès',\n",
       " '25. Nimmes',\n",
       " '26. Aigues Mortes',\n",
       " '27. Saintes Maries de la Mer',\n",
       " '28. Collioure',\n",
       " '29. Carcassonne',\n",
       " '30. Ariege',\n",
       " '31. Toulouse',\n",
       " '32. Montauban',\n",
       " '33. Biarritz',\n",
       " '34. Bayonne',\n",
       " '35. La Rochelle']"
      ]
     },
     "execution_count": 7,
     "metadata": {},
     "output_type": "execute_result"
    }
   ],
   "source": [
    "select_35 = top_35_cities['city'][0][1:-5]\n",
    "select_35"
   ]
  },
  {
   "cell_type": "code",
   "execution_count": 8,
   "metadata": {},
   "outputs": [
    {
     "data": {
      "text/html": [
       "<div>\n",
       "<style scoped>\n",
       "    .dataframe tbody tr th:only-of-type {\n",
       "        vertical-align: middle;\n",
       "    }\n",
       "\n",
       "    .dataframe tbody tr th {\n",
       "        vertical-align: top;\n",
       "    }\n",
       "\n",
       "    .dataframe thead th {\n",
       "        text-align: right;\n",
       "    }\n",
       "</style>\n",
       "<table border=\"1\" class=\"dataframe\">\n",
       "  <thead>\n",
       "    <tr style=\"text-align: right;\">\n",
       "      <th></th>\n",
       "      <th>City</th>\n",
       "    </tr>\n",
       "  </thead>\n",
       "  <tbody>\n",
       "    <tr>\n",
       "      <th>0</th>\n",
       "      <td>1. Mont Saint Michel</td>\n",
       "    </tr>\n",
       "    <tr>\n",
       "      <th>1</th>\n",
       "      <td>2. St Malo</td>\n",
       "    </tr>\n",
       "    <tr>\n",
       "      <th>2</th>\n",
       "      <td>3. Bayeux</td>\n",
       "    </tr>\n",
       "    <tr>\n",
       "      <th>3</th>\n",
       "      <td>4. Le Havre</td>\n",
       "    </tr>\n",
       "    <tr>\n",
       "      <th>4</th>\n",
       "      <td>5. Rouen</td>\n",
       "    </tr>\n",
       "    <tr>\n",
       "      <th>5</th>\n",
       "      <td>6. Paris</td>\n",
       "    </tr>\n",
       "    <tr>\n",
       "      <th>6</th>\n",
       "      <td>7. Amiens</td>\n",
       "    </tr>\n",
       "    <tr>\n",
       "      <th>7</th>\n",
       "      <td>8. Lille</td>\n",
       "    </tr>\n",
       "    <tr>\n",
       "      <th>8</th>\n",
       "      <td>9. Strasbourg</td>\n",
       "    </tr>\n",
       "    <tr>\n",
       "      <th>9</th>\n",
       "      <td>10. Chateau du Haut Koenigsbourg</td>\n",
       "    </tr>\n",
       "    <tr>\n",
       "      <th>10</th>\n",
       "      <td>11. Colmar</td>\n",
       "    </tr>\n",
       "    <tr>\n",
       "      <th>11</th>\n",
       "      <td>12. Eguisheim</td>\n",
       "    </tr>\n",
       "    <tr>\n",
       "      <th>12</th>\n",
       "      <td>13. Besancon</td>\n",
       "    </tr>\n",
       "    <tr>\n",
       "      <th>13</th>\n",
       "      <td>14. Dijon</td>\n",
       "    </tr>\n",
       "    <tr>\n",
       "      <th>14</th>\n",
       "      <td>15. Annecy</td>\n",
       "    </tr>\n",
       "    <tr>\n",
       "      <th>15</th>\n",
       "      <td>16. Lyon</td>\n",
       "    </tr>\n",
       "    <tr>\n",
       "      <th>16</th>\n",
       "      <td>17. Grenoble</td>\n",
       "    </tr>\n",
       "    <tr>\n",
       "      <th>17</th>\n",
       "      <td>18. Verdon Gorge</td>\n",
       "    </tr>\n",
       "    <tr>\n",
       "      <th>18</th>\n",
       "      <td>19. Bormes les Mimosas</td>\n",
       "    </tr>\n",
       "    <tr>\n",
       "      <th>19</th>\n",
       "      <td>20. Cassis</td>\n",
       "    </tr>\n",
       "    <tr>\n",
       "      <th>20</th>\n",
       "      <td>21. Marseille</td>\n",
       "    </tr>\n",
       "    <tr>\n",
       "      <th>21</th>\n",
       "      <td>22. Aix en Provence</td>\n",
       "    </tr>\n",
       "    <tr>\n",
       "      <th>22</th>\n",
       "      <td>23. Avignon (my favorite!)</td>\n",
       "    </tr>\n",
       "    <tr>\n",
       "      <th>23</th>\n",
       "      <td>24. Uzès</td>\n",
       "    </tr>\n",
       "    <tr>\n",
       "      <th>24</th>\n",
       "      <td>25. Nimmes</td>\n",
       "    </tr>\n",
       "    <tr>\n",
       "      <th>25</th>\n",
       "      <td>26. Aigues Mortes</td>\n",
       "    </tr>\n",
       "    <tr>\n",
       "      <th>26</th>\n",
       "      <td>27. Saintes Maries de la Mer</td>\n",
       "    </tr>\n",
       "    <tr>\n",
       "      <th>27</th>\n",
       "      <td>28. Collioure</td>\n",
       "    </tr>\n",
       "    <tr>\n",
       "      <th>28</th>\n",
       "      <td>29. Carcassonne</td>\n",
       "    </tr>\n",
       "    <tr>\n",
       "      <th>29</th>\n",
       "      <td>30. Ariege</td>\n",
       "    </tr>\n",
       "    <tr>\n",
       "      <th>30</th>\n",
       "      <td>31. Toulouse</td>\n",
       "    </tr>\n",
       "    <tr>\n",
       "      <th>31</th>\n",
       "      <td>32. Montauban</td>\n",
       "    </tr>\n",
       "    <tr>\n",
       "      <th>32</th>\n",
       "      <td>33. Biarritz</td>\n",
       "    </tr>\n",
       "    <tr>\n",
       "      <th>33</th>\n",
       "      <td>34. Bayonne</td>\n",
       "    </tr>\n",
       "    <tr>\n",
       "      <th>34</th>\n",
       "      <td>35. La Rochelle</td>\n",
       "    </tr>\n",
       "  </tbody>\n",
       "</table>\n",
       "</div>"
      ],
      "text/plain": [
       "                                City\n",
       "0               1. Mont Saint Michel\n",
       "1                         2. St Malo\n",
       "2                          3. Bayeux\n",
       "3                        4. Le Havre\n",
       "4                           5. Rouen\n",
       "5                           6. Paris\n",
       "6                          7. Amiens\n",
       "7                           8. Lille\n",
       "8                      9. Strasbourg\n",
       "9   10. Chateau du Haut Koenigsbourg\n",
       "10                        11. Colmar\n",
       "11                     12. Eguisheim\n",
       "12                      13. Besancon\n",
       "13                         14. Dijon\n",
       "14                        15. Annecy\n",
       "15                          16. Lyon\n",
       "16                      17. Grenoble\n",
       "17                  18. Verdon Gorge\n",
       "18            19. Bormes les Mimosas\n",
       "19                        20. Cassis\n",
       "20                     21. Marseille\n",
       "21               22. Aix en Provence\n",
       "22        23. Avignon (my favorite!)\n",
       "23                          24. Uzès\n",
       "24                        25. Nimmes\n",
       "25                 26. Aigues Mortes\n",
       "26      27. Saintes Maries de la Mer\n",
       "27                     28. Collioure\n",
       "28                   29. Carcassonne\n",
       "29                        30. Ariege\n",
       "30                      31. Toulouse\n",
       "31                     32. Montauban\n",
       "32                      33. Biarritz\n",
       "33                       34. Bayonne\n",
       "34                   35. La Rochelle"
      ]
     },
     "execution_count": 8,
     "metadata": {},
     "output_type": "execute_result"
    }
   ],
   "source": [
    "top_35_df = pd.DataFrame(data= select_35, columns=['City'])\n",
    "top_35_df"
   ]
  },
  {
   "cell_type": "code",
   "execution_count": 9,
   "metadata": {},
   "outputs": [
    {
     "name": "stderr",
     "output_type": "stream",
     "text": [
      "2022-07-26 14:25:46 [py.warnings] WARNING: C:\\Users\\javie\\AppData\\Local\\Temp\\ipykernel_9652\\1683024109.py:9: FutureWarning: The default value of regex will change from True to False in a future version.\n",
      "  top_35_df['City'] = top_35_df['City'].str.replace(regex, '')\n",
      "\n"
     ]
    },
    {
     "data": {
      "text/html": [
       "<div>\n",
       "<style scoped>\n",
       "    .dataframe tbody tr th:only-of-type {\n",
       "        vertical-align: middle;\n",
       "    }\n",
       "\n",
       "    .dataframe tbody tr th {\n",
       "        vertical-align: top;\n",
       "    }\n",
       "\n",
       "    .dataframe thead th {\n",
       "        text-align: right;\n",
       "    }\n",
       "</style>\n",
       "<table border=\"1\" class=\"dataframe\">\n",
       "  <thead>\n",
       "    <tr style=\"text-align: right;\">\n",
       "      <th></th>\n",
       "      <th>City</th>\n",
       "    </tr>\n",
       "  </thead>\n",
       "  <tbody>\n",
       "    <tr>\n",
       "      <th>0</th>\n",
       "      <td>Mont Saint Michel</td>\n",
       "    </tr>\n",
       "    <tr>\n",
       "      <th>1</th>\n",
       "      <td>St Malo</td>\n",
       "    </tr>\n",
       "    <tr>\n",
       "      <th>2</th>\n",
       "      <td>Bayeux</td>\n",
       "    </tr>\n",
       "    <tr>\n",
       "      <th>3</th>\n",
       "      <td>Le Havre</td>\n",
       "    </tr>\n",
       "    <tr>\n",
       "      <th>4</th>\n",
       "      <td>Rouen</td>\n",
       "    </tr>\n",
       "  </tbody>\n",
       "</table>\n",
       "</div>"
      ],
      "text/plain": [
       "                City\n",
       "0  Mont Saint Michel\n",
       "1            St Malo\n",
       "2             Bayeux\n",
       "3           Le Havre\n",
       "4              Rouen"
      ]
     },
     "execution_count": 9,
     "metadata": {},
     "output_type": "execute_result"
    }
   ],
   "source": [
    "\n",
    "# \\d Digit\n",
    "# Once or more: +\n",
    "# Zero or more times: *\n",
    "# Match any character (except newline): .\n",
    "# Escape operator: \\\n",
    "# Vertical bar or pipe: |\n",
    "\n",
    "regex = r\"\\d+.\\s|\\(.*\\)\"\n",
    "top_35_df['City'] = top_35_df['City'].str.replace(regex, '')\n",
    "top_35_df.head()"
   ]
  },
  {
   "cell_type": "markdown",
   "metadata": {},
   "source": [
    "### PART 2: HOTELS\n",
    "\n",
    "0️⃣ [Part 0](#PART-0:-BEGINNING) Top </br>\n",
    "1️⃣ [Part 1](#PART-1:-SCRAPY) Scrapy </br>\n",
    "2️⃣ [Part 2](#PART-2:-HOTELS): API Yelp </br>\n",
    "3️⃣ [Part 3](#PART-3:-API-COORDINATES): API coordinates </br>\n",
    "4️⃣ [Part 4](#PART-4:-API-WEATHER): API weather </br>\n",
    "5️⃣ [Part 5](#PART-5:-AWS-S3): AWS S3 </br>\n",
    "6️⃣ [Part 6](#PART-6:-AWS-RDS): AWS RDS PostgreSQL </br>\n",
    "7️⃣ [Part 7](#PART-7:-EDA): EDA </br>\n"
   ]
  },
  {
   "cell_type": "code",
   "execution_count": 5,
   "metadata": {},
   "outputs": [
    {
     "ename": "NameError",
     "evalue": "name 'top_35_df' is not defined",
     "output_type": "error",
     "traceback": [
      "\u001b[1;31m---------------------------------------------------------------------------\u001b[0m",
      "\u001b[1;31mNameError\u001b[0m                                 Traceback (most recent call last)",
      "\u001b[1;32ms:\\03_DATA_DEV\\01_JEDHA_FULLSTACK\\00_Projects\\01_Bloc_n1_Construction_et_alimentation_dune_infrastructure_de_gestion_de_données\\Bloc_1_KAYAK.ipynb Cell 24\u001b[0m in \u001b[0;36m<cell line: 9>\u001b[1;34m()\u001b[0m\n\u001b[0;32m      <a href='vscode-notebook-cell:/s%3A/03_DATA_DEV/01_JEDHA_FULLSTACK/00_Projects/01_Bloc_n1_Construction_et_alimentation_dune_infrastructure_de_gestion_de_donn%C3%A9es/Bloc_1_KAYAK.ipynb#X32sZmlsZQ%3D%3D?line=6'>7</a>\u001b[0m results_conca \u001b[39m=\u001b[39m pd\u001b[39m.\u001b[39mDataFrame(columns\u001b[39m=\u001b[39m[\u001b[39m'\u001b[39m\u001b[39mid\u001b[39m\u001b[39m'\u001b[39m, \u001b[39m'\u001b[39m\u001b[39malias\u001b[39m\u001b[39m'\u001b[39m, \u001b[39m'\u001b[39m\u001b[39mname\u001b[39m\u001b[39m'\u001b[39m, \u001b[39m'\u001b[39m\u001b[39mimage_url\u001b[39m\u001b[39m'\u001b[39m, \u001b[39m'\u001b[39m\u001b[39mis_closed\u001b[39m\u001b[39m'\u001b[39m, \u001b[39m'\u001b[39m\u001b[39murl\u001b[39m\u001b[39m'\u001b[39m, \u001b[39m'\u001b[39m\u001b[39mreview_count\u001b[39m\u001b[39m'\u001b[39m, \u001b[39m'\u001b[39m\u001b[39mcategories\u001b[39m\u001b[39m'\u001b[39m, \u001b[39m'\u001b[39m\u001b[39mrating\u001b[39m\u001b[39m'\u001b[39m, \u001b[39m'\u001b[39m\u001b[39mcoordinates\u001b[39m\u001b[39m'\u001b[39m, \u001b[39m'\u001b[39m\u001b[39mtransactions\u001b[39m\u001b[39m'\u001b[39m, \u001b[39m'\u001b[39m\u001b[39mprice\u001b[39m\u001b[39m'\u001b[39m, \u001b[39m'\u001b[39m\u001b[39mlocation\u001b[39m\u001b[39m'\u001b[39m, \u001b[39m'\u001b[39m\u001b[39mphone\u001b[39m\u001b[39m'\u001b[39m, \u001b[39m'\u001b[39m\u001b[39mdisplay_phone\u001b[39m\u001b[39m'\u001b[39m, \u001b[39m'\u001b[39m\u001b[39mdistance\u001b[39m\u001b[39m'\u001b[39m])\n\u001b[0;32m      <a href='vscode-notebook-cell:/s%3A/03_DATA_DEV/01_JEDHA_FULLSTACK/00_Projects/01_Bloc_n1_Construction_et_alimentation_dune_infrastructure_de_gestion_de_donn%C3%A9es/Bloc_1_KAYAK.ipynb#X32sZmlsZQ%3D%3D?line=7'>8</a>\u001b[0m \u001b[39m# for item in top_35_df['City']:\u001b[39;00m\n\u001b[1;32m----> <a href='vscode-notebook-cell:/s%3A/03_DATA_DEV/01_JEDHA_FULLSTACK/00_Projects/01_Bloc_n1_Construction_et_alimentation_dune_infrastructure_de_gestion_de_donn%C3%A9es/Bloc_1_KAYAK.ipynb#X32sZmlsZQ%3D%3D?line=8'>9</a>\u001b[0m \u001b[39mfor\u001b[39;00m item \u001b[39min\u001b[39;00m top_35_df[\u001b[39m'\u001b[39m\u001b[39mCity\u001b[39m\u001b[39m'\u001b[39m]:\n\u001b[0;32m     <a href='vscode-notebook-cell:/s%3A/03_DATA_DEV/01_JEDHA_FULLSTACK/00_Projects/01_Bloc_n1_Construction_et_alimentation_dune_infrastructure_de_gestion_de_donn%C3%A9es/Bloc_1_KAYAK.ipynb#X32sZmlsZQ%3D%3D?line=9'>10</a>\u001b[0m     \u001b[39m# Avoid outputs\u001b[39;00m\n\u001b[0;32m     <a href='vscode-notebook-cell:/s%3A/03_DATA_DEV/01_JEDHA_FULLSTACK/00_Projects/01_Bloc_n1_Construction_et_alimentation_dune_infrastructure_de_gestion_de_donn%C3%A9es/Bloc_1_KAYAK.ipynb#X32sZmlsZQ%3D%3D?line=10'>11</a>\u001b[0m     clear_output(wait\u001b[39m=\u001b[39m\u001b[39mTrue\u001b[39;00m)\n\u001b[0;32m     <a href='vscode-notebook-cell:/s%3A/03_DATA_DEV/01_JEDHA_FULLSTACK/00_Projects/01_Bloc_n1_Construction_et_alimentation_dune_infrastructure_de_gestion_de_donn%C3%A9es/Bloc_1_KAYAK.ipynb#X32sZmlsZQ%3D%3D?line=11'>12</a>\u001b[0m     params \u001b[39m=\u001b[39m {\u001b[39m\"\u001b[39m\u001b[39mterm\u001b[39m\u001b[39m\"\u001b[39m: \u001b[39m\"\u001b[39m\u001b[39mhotels\u001b[39m\u001b[39m\"\u001b[39m, \u001b[39m\"\u001b[39m\u001b[39mlocation\u001b[39m\u001b[39m\"\u001b[39m: item}\n",
      "\u001b[1;31mNameError\u001b[0m: name 'top_35_df' is not defined"
     ]
    }
   ],
   "source": [
    "# API end-point\n",
    "api_url = \"https://api.yelp.com/v3/businesses/search\"\n",
    "# Set up header dictionary with API key according to documentation\n",
    "headers = {\"Authorization\": \"Bearer {}\".format(YELP_API_KEY)}\n",
    "\n",
    "i = 0\n",
    "results_conca = pd.DataFrame(columns=['id', 'alias', 'name', 'image_url', 'is_closed', 'url', 'review_count', 'categories', 'rating', 'coordinates', 'transactions', 'price', 'location', 'phone', 'display_phone', 'distance'])\n",
    "# for item in top_35_df['City']:\n",
    "for item in top_35_df['City']:\n",
    "    # Avoid outputs\n",
    "    clear_output(wait=True)\n",
    "    params = {\"term\": \"hotels\", \"location\": item}\n",
    "    # Get data about Hotels from the Yelp API\n",
    "    results = requests.get(api_url,\n",
    "                    headers=headers,\n",
    "                    params=params)\n",
    "    data = results.json()\n",
    "    results_conca = results_conca.append(pd.json_normalize(data['businesses']), ignore_index=True)\n",
    "    i += 1\n",
    "    print(f\"{i}\")\n",
    "results_conca.to_csv('./yelp_results.csv')\n"
   ]
  },
  {
   "cell_type": "code",
   "execution_count": 6,
   "metadata": {},
   "outputs": [
    {
     "name": "stdout",
     "output_type": "stream",
     "text": [
      "['id', 'alias', 'name', 'image_url', 'is_closed', 'url', 'review_count', 'categories', 'rating', 'coordinates', 'transactions', 'price', 'location', 'phone', 'display_phone', 'distance', 'coordinates.latitude', 'coordinates.longitude', 'location.address1', 'location.address2', 'location.address3', 'location.city', 'location.zip_code', 'location.country', 'location.state', 'location.display_address']\n"
     ]
    }
   ],
   "source": [
    "df = pd.read_csv('yelp_results.csv', index_col=0)\n",
    "print(df.columns.tolist())"
   ]
  },
  {
   "cell_type": "code",
   "execution_count": 12,
   "metadata": {},
   "outputs": [
    {
     "name": "stdout",
     "output_type": "stream",
     "text": [
      "['name', 'url', 'rating', 'coordinates.latitude', 'coordinates.longitude', 'location.city']\n"
     ]
    },
    {
     "data": {
      "text/html": [
       "<div>\n",
       "<style scoped>\n",
       "    .dataframe tbody tr th:only-of-type {\n",
       "        vertical-align: middle;\n",
       "    }\n",
       "\n",
       "    .dataframe tbody tr th {\n",
       "        vertical-align: top;\n",
       "    }\n",
       "\n",
       "    .dataframe thead th {\n",
       "        text-align: right;\n",
       "    }\n",
       "</style>\n",
       "<table border=\"1\" class=\"dataframe\">\n",
       "  <thead>\n",
       "    <tr style=\"text-align: right;\">\n",
       "      <th></th>\n",
       "      <th>name</th>\n",
       "      <th>url</th>\n",
       "      <th>rating</th>\n",
       "      <th>coordinates.latitude</th>\n",
       "      <th>coordinates.longitude</th>\n",
       "      <th>location.city</th>\n",
       "    </tr>\n",
       "  </thead>\n",
       "  <tbody>\n",
       "    <tr>\n",
       "      <th>0</th>\n",
       "      <td>Auberge Saint-Pierre</td>\n",
       "      <td>https://www.yelp.com/biz/auberge-saint-pierre-...</td>\n",
       "      <td>3.0</td>\n",
       "      <td>48.636199</td>\n",
       "      <td>-1.510107</td>\n",
       "      <td>Le Mont-Saint-Michel</td>\n",
       "    </tr>\n",
       "    <tr>\n",
       "      <th>1</th>\n",
       "      <td>La Vieille Auberge</td>\n",
       "      <td>https://www.yelp.com/biz/la-vieille-auberge-mo...</td>\n",
       "      <td>4.0</td>\n",
       "      <td>48.637487</td>\n",
       "      <td>-1.512002</td>\n",
       "      <td>Mont Saint-Michel</td>\n",
       "    </tr>\n",
       "    <tr>\n",
       "      <th>2</th>\n",
       "      <td>Hôtel du Guesclin</td>\n",
       "      <td>https://www.yelp.com/biz/h%C3%B4tel-du-guescli...</td>\n",
       "      <td>3.5</td>\n",
       "      <td>48.635616</td>\n",
       "      <td>-1.509860</td>\n",
       "      <td>Le Mont Saint-Michel</td>\n",
       "    </tr>\n",
       "    <tr>\n",
       "      <th>3</th>\n",
       "      <td>Hôtel du Mouton Blanc</td>\n",
       "      <td>https://www.yelp.com/biz/h%C3%B4tel-du-mouton-...</td>\n",
       "      <td>2.5</td>\n",
       "      <td>48.635569</td>\n",
       "      <td>-1.509939</td>\n",
       "      <td>Le Mont St Michel</td>\n",
       "    </tr>\n",
       "    <tr>\n",
       "      <th>4</th>\n",
       "      <td>Hotel Mercure</td>\n",
       "      <td>https://www.yelp.com/biz/hotel-mercure-le-mont...</td>\n",
       "      <td>5.0</td>\n",
       "      <td>48.614325</td>\n",
       "      <td>-1.510715</td>\n",
       "      <td>Le Mont Saint Michel</td>\n",
       "    </tr>\n",
       "    <tr>\n",
       "      <th>...</th>\n",
       "      <td>...</td>\n",
       "      <td>...</td>\n",
       "      <td>...</td>\n",
       "      <td>...</td>\n",
       "      <td>...</td>\n",
       "      <td>...</td>\n",
       "    </tr>\n",
       "    <tr>\n",
       "      <th>644</th>\n",
       "      <td>Hôtel Les 3 Iles</td>\n",
       "      <td>https://www.yelp.com/biz/h%C3%B4tel-les-3-iles...</td>\n",
       "      <td>3.0</td>\n",
       "      <td>46.060247</td>\n",
       "      <td>-1.089928</td>\n",
       "      <td>Châtelaillon Plage</td>\n",
       "    </tr>\n",
       "    <tr>\n",
       "      <th>645</th>\n",
       "      <td>Formule 1</td>\n",
       "      <td>https://www.yelp.com/biz/formule-1-angoulins?a...</td>\n",
       "      <td>2.0</td>\n",
       "      <td>46.103866</td>\n",
       "      <td>-1.110261</td>\n",
       "      <td>Angoulins</td>\n",
       "    </tr>\n",
       "    <tr>\n",
       "      <th>646</th>\n",
       "      <td>La Baronnie Hôtel &amp; Spa - L'Hôtel</td>\n",
       "      <td>https://www.yelp.com/biz/la-baronnie-h%C3%B4te...</td>\n",
       "      <td>3.5</td>\n",
       "      <td>46.203825</td>\n",
       "      <td>-1.367237</td>\n",
       "      <td>Saint-Martin-De-Ré</td>\n",
       "    </tr>\n",
       "    <tr>\n",
       "      <th>647</th>\n",
       "      <td>Hôtel de la Marée - Ile de Ré</td>\n",
       "      <td>https://www.yelp.com/biz/h%C3%B4tel-de-la-mar%...</td>\n",
       "      <td>3.5</td>\n",
       "      <td>46.163150</td>\n",
       "      <td>-1.279900</td>\n",
       "      <td>Rivedoux Plage</td>\n",
       "    </tr>\n",
       "    <tr>\n",
       "      <th>648</th>\n",
       "      <td>B&amp;B Hôtel La Rochelle Angoulins Sur Mer</td>\n",
       "      <td>https://www.yelp.com/biz/b-et-b-h%C3%B4tel-la-...</td>\n",
       "      <td>4.0</td>\n",
       "      <td>46.107156</td>\n",
       "      <td>-1.100867</td>\n",
       "      <td>Angoulins</td>\n",
       "    </tr>\n",
       "  </tbody>\n",
       "</table>\n",
       "<p>649 rows × 6 columns</p>\n",
       "</div>"
      ],
      "text/plain": [
       "                                        name  \\\n",
       "0                       Auberge Saint-Pierre   \n",
       "1                         La Vieille Auberge   \n",
       "2                          Hôtel du Guesclin   \n",
       "3                      Hôtel du Mouton Blanc   \n",
       "4                              Hotel Mercure   \n",
       "..                                       ...   \n",
       "644                         Hôtel Les 3 Iles   \n",
       "645                                Formule 1   \n",
       "646        La Baronnie Hôtel & Spa - L'Hôtel   \n",
       "647            Hôtel de la Marée - Ile de Ré   \n",
       "648  B&B Hôtel La Rochelle Angoulins Sur Mer   \n",
       "\n",
       "                                                   url  rating  \\\n",
       "0    https://www.yelp.com/biz/auberge-saint-pierre-...     3.0   \n",
       "1    https://www.yelp.com/biz/la-vieille-auberge-mo...     4.0   \n",
       "2    https://www.yelp.com/biz/h%C3%B4tel-du-guescli...     3.5   \n",
       "3    https://www.yelp.com/biz/h%C3%B4tel-du-mouton-...     2.5   \n",
       "4    https://www.yelp.com/biz/hotel-mercure-le-mont...     5.0   \n",
       "..                                                 ...     ...   \n",
       "644  https://www.yelp.com/biz/h%C3%B4tel-les-3-iles...     3.0   \n",
       "645  https://www.yelp.com/biz/formule-1-angoulins?a...     2.0   \n",
       "646  https://www.yelp.com/biz/la-baronnie-h%C3%B4te...     3.5   \n",
       "647  https://www.yelp.com/biz/h%C3%B4tel-de-la-mar%...     3.5   \n",
       "648  https://www.yelp.com/biz/b-et-b-h%C3%B4tel-la-...     4.0   \n",
       "\n",
       "     coordinates.latitude  coordinates.longitude         location.city  \n",
       "0               48.636199              -1.510107  Le Mont-Saint-Michel  \n",
       "1               48.637487              -1.512002     Mont Saint-Michel  \n",
       "2               48.635616              -1.509860  Le Mont Saint-Michel  \n",
       "3               48.635569              -1.509939     Le Mont St Michel  \n",
       "4               48.614325              -1.510715  Le Mont Saint Michel  \n",
       "..                    ...                    ...                   ...  \n",
       "644             46.060247              -1.089928    Châtelaillon Plage  \n",
       "645             46.103866              -1.110261             Angoulins  \n",
       "646             46.203825              -1.367237    Saint-Martin-De-Ré  \n",
       "647             46.163150              -1.279900        Rivedoux Plage  \n",
       "648             46.107156              -1.100867             Angoulins  \n",
       "\n",
       "[649 rows x 6 columns]"
      ]
     },
     "execution_count": 12,
     "metadata": {},
     "output_type": "execute_result"
    }
   ],
   "source": [
    "columns_to_keep = ['name', 'coordinates.latitude', 'coordinates.longitude', 'location.city', 'rating', 'url']\n",
    "\n",
    "# for col in df.columns:\n",
    "#     if col in columns_to_keep:\n",
    "#         print(col)\n",
    "        \n",
    "keep = [col for col in df.columns if col in columns_to_keep]\n",
    "print(keep)\n",
    "df_hotels = df.loc[:,keep]\n",
    "df_hotels"
   ]
  },
  {
   "cell_type": "markdown",
   "metadata": {},
   "source": [
    "### PART 3: API COORDINATES\n",
    "\n",
    "0️⃣ [Part 0](#PART-0:-BEGINNING) Top </br>\n",
    "1️⃣ [Part 1](#PART-1:-SCRAPY) Scrapy </br>\n",
    "2️⃣ [Part 2](#PART-2:-HOTELS): API Yelp </br>\n",
    "3️⃣ [Part 3](#PART-3:-API-COORDINATES): API coordinates </br>\n",
    "4️⃣ [Part 4](#PART-4:-API-WEATHER): API weather </br>\n",
    "5️⃣ [Part 5](#PART-5:-AWS-S3): AWS S3 </br>\n",
    "6️⃣ [Part 6](#PART-6:-AWS-RDS): AWS RDS PostgreSQL </br>\n",
    "7️⃣ [Part 7](#PART-7:-EDA): EDA </br>"
   ]
  },
  {
   "cell_type": "code",
   "execution_count": 16,
   "metadata": {},
   "outputs": [
    {
     "data": {
      "text/html": [
       "<div>\n",
       "<style scoped>\n",
       "    .dataframe tbody tr th:only-of-type {\n",
       "        vertical-align: middle;\n",
       "    }\n",
       "\n",
       "    .dataframe tbody tr th {\n",
       "        vertical-align: top;\n",
       "    }\n",
       "\n",
       "    .dataframe thead th {\n",
       "        text-align: right;\n",
       "    }\n",
       "</style>\n",
       "<table border=\"1\" class=\"dataframe\">\n",
       "  <thead>\n",
       "    <tr style=\"text-align: right;\">\n",
       "      <th></th>\n",
       "      <th>City</th>\n",
       "    </tr>\n",
       "  </thead>\n",
       "  <tbody>\n",
       "    <tr>\n",
       "      <th>0</th>\n",
       "      <td>Mont Saint Michel</td>\n",
       "    </tr>\n",
       "    <tr>\n",
       "      <th>1</th>\n",
       "      <td>St Malo</td>\n",
       "    </tr>\n",
       "    <tr>\n",
       "      <th>2</th>\n",
       "      <td>Bayeux</td>\n",
       "    </tr>\n",
       "    <tr>\n",
       "      <th>3</th>\n",
       "      <td>Le Havre</td>\n",
       "    </tr>\n",
       "    <tr>\n",
       "      <th>4</th>\n",
       "      <td>Rouen</td>\n",
       "    </tr>\n",
       "  </tbody>\n",
       "</table>\n",
       "</div>"
      ],
      "text/plain": [
       "                City\n",
       "0  Mont Saint Michel\n",
       "1            St Malo\n",
       "2             Bayeux\n",
       "3           Le Havre\n",
       "4              Rouen"
      ]
     },
     "execution_count": 16,
     "metadata": {},
     "output_type": "execute_result"
    }
   ],
   "source": [
    "top_35_df.head()"
   ]
  },
  {
   "cell_type": "code",
   "execution_count": 14,
   "metadata": {},
   "outputs": [],
   "source": [
    "def get_coordinates(dataframe):\n",
    "    for city in dataframe:\n",
    "        gps = requests.get(f\"https://nominatim.openstreetmap.org/search?city={city}&format=json&limit=1\")\n",
    "        data = gps.json()\n",
    "        yield data"
   ]
  },
  {
   "cell_type": "code",
   "execution_count": 17,
   "metadata": {},
   "outputs": [
    {
     "name": "stderr",
     "output_type": "stream",
     "text": [
      "2022-07-26 14:30:21 [urllib3.connectionpool] DEBUG: Starting new HTTPS connection (1): nominatim.openstreetmap.org:443\n",
      "2022-07-26 14:30:22 [urllib3.connectionpool] DEBUG: https://nominatim.openstreetmap.org:443 \"GET /search?city=La%20Rochelle&format=json&limit=1 HTTP/1.1\" 200 None\n"
     ]
    }
   ],
   "source": [
    "top_35_coords_lat = []\n",
    "top_35_coords_lon = []\n",
    "for data in get_coordinates(top_35_df['City']):\n",
    "    clear_output(wait=True)\n",
    "    if data ==[]:\n",
    "        # print('No data')\n",
    "        top_35_coords_lat.append('No data')\n",
    "        top_35_coords_lon.append('No data')\n",
    "    else:\n",
    "        # print(data[0]['lat'], data[0]['lon'])\n",
    "        top_35_coords_lat.append(data[0]['lat'])\n",
    "        top_35_coords_lon.append(data[0]['lon'])"
   ]
  },
  {
   "cell_type": "code",
   "execution_count": 18,
   "metadata": {},
   "outputs": [
    {
     "data": {
      "text/html": [
       "<div>\n",
       "<style scoped>\n",
       "    .dataframe tbody tr th:only-of-type {\n",
       "        vertical-align: middle;\n",
       "    }\n",
       "\n",
       "    .dataframe tbody tr th {\n",
       "        vertical-align: top;\n",
       "    }\n",
       "\n",
       "    .dataframe thead th {\n",
       "        text-align: right;\n",
       "    }\n",
       "</style>\n",
       "<table border=\"1\" class=\"dataframe\">\n",
       "  <thead>\n",
       "    <tr style=\"text-align: right;\">\n",
       "      <th></th>\n",
       "      <th>lat</th>\n",
       "      <th>lon</th>\n",
       "    </tr>\n",
       "  </thead>\n",
       "  <tbody>\n",
       "    <tr>\n",
       "      <th>0</th>\n",
       "      <td>48.6359541</td>\n",
       "      <td>-1.511459954959514</td>\n",
       "    </tr>\n",
       "    <tr>\n",
       "      <th>1</th>\n",
       "      <td>48.649518</td>\n",
       "      <td>-2.0260409</td>\n",
       "    </tr>\n",
       "    <tr>\n",
       "      <th>2</th>\n",
       "      <td>49.2764624</td>\n",
       "      <td>-0.7024738</td>\n",
       "    </tr>\n",
       "    <tr>\n",
       "      <th>3</th>\n",
       "      <td>49.4938975</td>\n",
       "      <td>0.1079732</td>\n",
       "    </tr>\n",
       "    <tr>\n",
       "      <th>4</th>\n",
       "      <td>49.4404591</td>\n",
       "      <td>1.0939658</td>\n",
       "    </tr>\n",
       "    <tr>\n",
       "      <th>5</th>\n",
       "      <td>48.8588897</td>\n",
       "      <td>2.3200410217200766</td>\n",
       "    </tr>\n",
       "    <tr>\n",
       "      <th>6</th>\n",
       "      <td>49.8941708</td>\n",
       "      <td>2.2956951</td>\n",
       "    </tr>\n",
       "    <tr>\n",
       "      <th>7</th>\n",
       "      <td>50.6365654</td>\n",
       "      <td>3.0635282</td>\n",
       "    </tr>\n",
       "    <tr>\n",
       "      <th>8</th>\n",
       "      <td>48.584614</td>\n",
       "      <td>7.7507127</td>\n",
       "    </tr>\n",
       "    <tr>\n",
       "      <th>9</th>\n",
       "      <td>48.2495226</td>\n",
       "      <td>7.3454923</td>\n",
       "    </tr>\n",
       "    <tr>\n",
       "      <th>10</th>\n",
       "      <td>48.0777517</td>\n",
       "      <td>7.3579641</td>\n",
       "    </tr>\n",
       "    <tr>\n",
       "      <th>11</th>\n",
       "      <td>48.0447968</td>\n",
       "      <td>7.3079618</td>\n",
       "    </tr>\n",
       "    <tr>\n",
       "      <th>12</th>\n",
       "      <td>47.2380222</td>\n",
       "      <td>6.0243622</td>\n",
       "    </tr>\n",
       "    <tr>\n",
       "      <th>13</th>\n",
       "      <td>47.3215806</td>\n",
       "      <td>5.0414701</td>\n",
       "    </tr>\n",
       "    <tr>\n",
       "      <th>14</th>\n",
       "      <td>45.8992348</td>\n",
       "      <td>6.1288847</td>\n",
       "    </tr>\n",
       "    <tr>\n",
       "      <th>15</th>\n",
       "      <td>45.7578137</td>\n",
       "      <td>4.8320114</td>\n",
       "    </tr>\n",
       "    <tr>\n",
       "      <th>16</th>\n",
       "      <td>45.1875602</td>\n",
       "      <td>5.7357819</td>\n",
       "    </tr>\n",
       "    <tr>\n",
       "      <th>17</th>\n",
       "      <td>No data</td>\n",
       "      <td>No data</td>\n",
       "    </tr>\n",
       "    <tr>\n",
       "      <th>18</th>\n",
       "      <td>43.1506968</td>\n",
       "      <td>6.3419285</td>\n",
       "    </tr>\n",
       "    <tr>\n",
       "      <th>19</th>\n",
       "      <td>43.2140359</td>\n",
       "      <td>5.5396318</td>\n",
       "    </tr>\n",
       "    <tr>\n",
       "      <th>20</th>\n",
       "      <td>43.2961743</td>\n",
       "      <td>5.3699525</td>\n",
       "    </tr>\n",
       "    <tr>\n",
       "      <th>21</th>\n",
       "      <td>43.5298424</td>\n",
       "      <td>5.4474738</td>\n",
       "    </tr>\n",
       "    <tr>\n",
       "      <th>22</th>\n",
       "      <td>43.9492493</td>\n",
       "      <td>4.8059012</td>\n",
       "    </tr>\n",
       "    <tr>\n",
       "      <th>23</th>\n",
       "      <td>44.0121279</td>\n",
       "      <td>4.4196718</td>\n",
       "    </tr>\n",
       "    <tr>\n",
       "      <th>24</th>\n",
       "      <td>No data</td>\n",
       "      <td>No data</td>\n",
       "    </tr>\n",
       "    <tr>\n",
       "      <th>25</th>\n",
       "      <td>43.5658225</td>\n",
       "      <td>4.1912837</td>\n",
       "    </tr>\n",
       "    <tr>\n",
       "      <th>26</th>\n",
       "      <td>43.4522771</td>\n",
       "      <td>4.4287172</td>\n",
       "    </tr>\n",
       "    <tr>\n",
       "      <th>27</th>\n",
       "      <td>42.52505</td>\n",
       "      <td>3.0831554</td>\n",
       "    </tr>\n",
       "    <tr>\n",
       "      <th>28</th>\n",
       "      <td>43.2130358</td>\n",
       "      <td>2.3491069</td>\n",
       "    </tr>\n",
       "    <tr>\n",
       "      <th>29</th>\n",
       "      <td>No data</td>\n",
       "      <td>No data</td>\n",
       "    </tr>\n",
       "    <tr>\n",
       "      <th>30</th>\n",
       "      <td>43.6044622</td>\n",
       "      <td>1.4442469</td>\n",
       "    </tr>\n",
       "    <tr>\n",
       "      <th>31</th>\n",
       "      <td>44.0175835</td>\n",
       "      <td>1.3549991</td>\n",
       "    </tr>\n",
       "    <tr>\n",
       "      <th>32</th>\n",
       "      <td>43.4832523</td>\n",
       "      <td>-1.5592776</td>\n",
       "    </tr>\n",
       "    <tr>\n",
       "      <th>33</th>\n",
       "      <td>43.4945144</td>\n",
       "      <td>-1.4736657</td>\n",
       "    </tr>\n",
       "    <tr>\n",
       "      <th>34</th>\n",
       "      <td>46.1591126</td>\n",
       "      <td>-1.1520434</td>\n",
       "    </tr>\n",
       "  </tbody>\n",
       "</table>\n",
       "</div>"
      ],
      "text/plain": [
       "           lat                 lon\n",
       "0   48.6359541  -1.511459954959514\n",
       "1    48.649518          -2.0260409\n",
       "2   49.2764624          -0.7024738\n",
       "3   49.4938975           0.1079732\n",
       "4   49.4404591           1.0939658\n",
       "5   48.8588897  2.3200410217200766\n",
       "6   49.8941708           2.2956951\n",
       "7   50.6365654           3.0635282\n",
       "8    48.584614           7.7507127\n",
       "9   48.2495226           7.3454923\n",
       "10  48.0777517           7.3579641\n",
       "11  48.0447968           7.3079618\n",
       "12  47.2380222           6.0243622\n",
       "13  47.3215806           5.0414701\n",
       "14  45.8992348           6.1288847\n",
       "15  45.7578137           4.8320114\n",
       "16  45.1875602           5.7357819\n",
       "17     No data             No data\n",
       "18  43.1506968           6.3419285\n",
       "19  43.2140359           5.5396318\n",
       "20  43.2961743           5.3699525\n",
       "21  43.5298424           5.4474738\n",
       "22  43.9492493           4.8059012\n",
       "23  44.0121279           4.4196718\n",
       "24     No data             No data\n",
       "25  43.5658225           4.1912837\n",
       "26  43.4522771           4.4287172\n",
       "27    42.52505           3.0831554\n",
       "28  43.2130358           2.3491069\n",
       "29     No data             No data\n",
       "30  43.6044622           1.4442469\n",
       "31  44.0175835           1.3549991\n",
       "32  43.4832523          -1.5592776\n",
       "33  43.4945144          -1.4736657\n",
       "34  46.1591126          -1.1520434"
      ]
     },
     "execution_count": 18,
     "metadata": {},
     "output_type": "execute_result"
    }
   ],
   "source": [
    "top_35_coords_final = pd.DataFrame([top_35_coords_lat, top_35_coords_lon], index=['lat', 'lon']).T\n",
    "top_35_coords_final"
   ]
  },
  {
   "cell_type": "markdown",
   "metadata": {},
   "source": [
    "### PART 4: API WEATHER\n",
    "\n",
    "0️⃣ [Part 0](#PART-0:-BEGINNING) Top </br>\n",
    "1️⃣ [Part 1](#PART-1:-SCRAPY) Scrapy </br>\n",
    "2️⃣ [Part 2](#PART-2:-HOTELS): API Yelp </br>\n",
    "3️⃣ [Part 3](#PART-3:-API-COORDINATES): API coordinates </br>\n",
    "4️⃣ [Part 4](#PART-4:-API-WEATHER): API weather </br>\n",
    "5️⃣ [Part 5](#PART-5:-AWS-S3): AWS S3 </br>\n",
    "6️⃣ [Part 6](#PART-6:-AWS-RDS): AWS RDS PostgreSQL </br>\n",
    "7️⃣ [Part 7](#PART-7:-EDA): EDA </br>\n"
   ]
  },
  {
   "cell_type": "code",
   "execution_count": 19,
   "metadata": {},
   "outputs": [
    {
     "data": {
      "text/html": [
       "<div>\n",
       "<style scoped>\n",
       "    .dataframe tbody tr th:only-of-type {\n",
       "        vertical-align: middle;\n",
       "    }\n",
       "\n",
       "    .dataframe tbody tr th {\n",
       "        vertical-align: top;\n",
       "    }\n",
       "\n",
       "    .dataframe thead th {\n",
       "        text-align: right;\n",
       "    }\n",
       "</style>\n",
       "<table border=\"1\" class=\"dataframe\">\n",
       "  <thead>\n",
       "    <tr style=\"text-align: right;\">\n",
       "      <th></th>\n",
       "      <th>City</th>\n",
       "      <th>lat</th>\n",
       "      <th>lon</th>\n",
       "    </tr>\n",
       "  </thead>\n",
       "  <tbody>\n",
       "    <tr>\n",
       "      <th>0</th>\n",
       "      <td>Mont Saint Michel</td>\n",
       "      <td>48.6359541</td>\n",
       "      <td>-1.511459954959514</td>\n",
       "    </tr>\n",
       "    <tr>\n",
       "      <th>1</th>\n",
       "      <td>St Malo</td>\n",
       "      <td>48.649518</td>\n",
       "      <td>-2.0260409</td>\n",
       "    </tr>\n",
       "    <tr>\n",
       "      <th>2</th>\n",
       "      <td>Bayeux</td>\n",
       "      <td>49.2764624</td>\n",
       "      <td>-0.7024738</td>\n",
       "    </tr>\n",
       "    <tr>\n",
       "      <th>3</th>\n",
       "      <td>Le Havre</td>\n",
       "      <td>49.4938975</td>\n",
       "      <td>0.1079732</td>\n",
       "    </tr>\n",
       "    <tr>\n",
       "      <th>4</th>\n",
       "      <td>Rouen</td>\n",
       "      <td>49.4404591</td>\n",
       "      <td>1.0939658</td>\n",
       "    </tr>\n",
       "    <tr>\n",
       "      <th>5</th>\n",
       "      <td>Paris</td>\n",
       "      <td>48.8588897</td>\n",
       "      <td>2.3200410217200766</td>\n",
       "    </tr>\n",
       "    <tr>\n",
       "      <th>6</th>\n",
       "      <td>Amiens</td>\n",
       "      <td>49.8941708</td>\n",
       "      <td>2.2956951</td>\n",
       "    </tr>\n",
       "    <tr>\n",
       "      <th>7</th>\n",
       "      <td>Lille</td>\n",
       "      <td>50.6365654</td>\n",
       "      <td>3.0635282</td>\n",
       "    </tr>\n",
       "    <tr>\n",
       "      <th>8</th>\n",
       "      <td>Strasbourg</td>\n",
       "      <td>48.584614</td>\n",
       "      <td>7.7507127</td>\n",
       "    </tr>\n",
       "    <tr>\n",
       "      <th>9</th>\n",
       "      <td>Chateau du Haut Koenigsbourg</td>\n",
       "      <td>48.2495226</td>\n",
       "      <td>7.3454923</td>\n",
       "    </tr>\n",
       "    <tr>\n",
       "      <th>10</th>\n",
       "      <td>Colmar</td>\n",
       "      <td>48.0777517</td>\n",
       "      <td>7.3579641</td>\n",
       "    </tr>\n",
       "    <tr>\n",
       "      <th>11</th>\n",
       "      <td>Eguisheim</td>\n",
       "      <td>48.0447968</td>\n",
       "      <td>7.3079618</td>\n",
       "    </tr>\n",
       "    <tr>\n",
       "      <th>12</th>\n",
       "      <td>Besancon</td>\n",
       "      <td>47.2380222</td>\n",
       "      <td>6.0243622</td>\n",
       "    </tr>\n",
       "    <tr>\n",
       "      <th>13</th>\n",
       "      <td>Dijon</td>\n",
       "      <td>47.3215806</td>\n",
       "      <td>5.0414701</td>\n",
       "    </tr>\n",
       "    <tr>\n",
       "      <th>14</th>\n",
       "      <td>Annecy</td>\n",
       "      <td>45.8992348</td>\n",
       "      <td>6.1288847</td>\n",
       "    </tr>\n",
       "    <tr>\n",
       "      <th>15</th>\n",
       "      <td>Lyon</td>\n",
       "      <td>45.7578137</td>\n",
       "      <td>4.8320114</td>\n",
       "    </tr>\n",
       "    <tr>\n",
       "      <th>16</th>\n",
       "      <td>Grenoble</td>\n",
       "      <td>45.1875602</td>\n",
       "      <td>5.7357819</td>\n",
       "    </tr>\n",
       "    <tr>\n",
       "      <th>17</th>\n",
       "      <td>Verdon Gorge</td>\n",
       "      <td>No data</td>\n",
       "      <td>No data</td>\n",
       "    </tr>\n",
       "    <tr>\n",
       "      <th>18</th>\n",
       "      <td>Bormes les Mimosas</td>\n",
       "      <td>43.1506968</td>\n",
       "      <td>6.3419285</td>\n",
       "    </tr>\n",
       "    <tr>\n",
       "      <th>19</th>\n",
       "      <td>Cassis</td>\n",
       "      <td>43.2140359</td>\n",
       "      <td>5.5396318</td>\n",
       "    </tr>\n",
       "    <tr>\n",
       "      <th>20</th>\n",
       "      <td>Marseille</td>\n",
       "      <td>43.2961743</td>\n",
       "      <td>5.3699525</td>\n",
       "    </tr>\n",
       "    <tr>\n",
       "      <th>21</th>\n",
       "      <td>Aix en Provence</td>\n",
       "      <td>43.5298424</td>\n",
       "      <td>5.4474738</td>\n",
       "    </tr>\n",
       "    <tr>\n",
       "      <th>22</th>\n",
       "      <td>Avignon</td>\n",
       "      <td>43.9492493</td>\n",
       "      <td>4.8059012</td>\n",
       "    </tr>\n",
       "    <tr>\n",
       "      <th>23</th>\n",
       "      <td>Uzès</td>\n",
       "      <td>44.0121279</td>\n",
       "      <td>4.4196718</td>\n",
       "    </tr>\n",
       "    <tr>\n",
       "      <th>24</th>\n",
       "      <td>Nimmes</td>\n",
       "      <td>No data</td>\n",
       "      <td>No data</td>\n",
       "    </tr>\n",
       "    <tr>\n",
       "      <th>25</th>\n",
       "      <td>Aigues Mortes</td>\n",
       "      <td>43.5658225</td>\n",
       "      <td>4.1912837</td>\n",
       "    </tr>\n",
       "    <tr>\n",
       "      <th>26</th>\n",
       "      <td>Saintes Maries de la Mer</td>\n",
       "      <td>43.4522771</td>\n",
       "      <td>4.4287172</td>\n",
       "    </tr>\n",
       "    <tr>\n",
       "      <th>27</th>\n",
       "      <td>Collioure</td>\n",
       "      <td>42.52505</td>\n",
       "      <td>3.0831554</td>\n",
       "    </tr>\n",
       "    <tr>\n",
       "      <th>28</th>\n",
       "      <td>Carcassonne</td>\n",
       "      <td>43.2130358</td>\n",
       "      <td>2.3491069</td>\n",
       "    </tr>\n",
       "    <tr>\n",
       "      <th>29</th>\n",
       "      <td>Ariege</td>\n",
       "      <td>No data</td>\n",
       "      <td>No data</td>\n",
       "    </tr>\n",
       "    <tr>\n",
       "      <th>30</th>\n",
       "      <td>Toulouse</td>\n",
       "      <td>43.6044622</td>\n",
       "      <td>1.4442469</td>\n",
       "    </tr>\n",
       "    <tr>\n",
       "      <th>31</th>\n",
       "      <td>Montauban</td>\n",
       "      <td>44.0175835</td>\n",
       "      <td>1.3549991</td>\n",
       "    </tr>\n",
       "    <tr>\n",
       "      <th>32</th>\n",
       "      <td>Biarritz</td>\n",
       "      <td>43.4832523</td>\n",
       "      <td>-1.5592776</td>\n",
       "    </tr>\n",
       "    <tr>\n",
       "      <th>33</th>\n",
       "      <td>Bayonne</td>\n",
       "      <td>43.4945144</td>\n",
       "      <td>-1.4736657</td>\n",
       "    </tr>\n",
       "    <tr>\n",
       "      <th>34</th>\n",
       "      <td>La Rochelle</td>\n",
       "      <td>46.1591126</td>\n",
       "      <td>-1.1520434</td>\n",
       "    </tr>\n",
       "  </tbody>\n",
       "</table>\n",
       "</div>"
      ],
      "text/plain": [
       "                            City         lat                 lon\n",
       "0              Mont Saint Michel  48.6359541  -1.511459954959514\n",
       "1                        St Malo   48.649518          -2.0260409\n",
       "2                         Bayeux  49.2764624          -0.7024738\n",
       "3                       Le Havre  49.4938975           0.1079732\n",
       "4                          Rouen  49.4404591           1.0939658\n",
       "5                          Paris  48.8588897  2.3200410217200766\n",
       "6                         Amiens  49.8941708           2.2956951\n",
       "7                          Lille  50.6365654           3.0635282\n",
       "8                     Strasbourg   48.584614           7.7507127\n",
       "9   Chateau du Haut Koenigsbourg  48.2495226           7.3454923\n",
       "10                        Colmar  48.0777517           7.3579641\n",
       "11                     Eguisheim  48.0447968           7.3079618\n",
       "12                      Besancon  47.2380222           6.0243622\n",
       "13                         Dijon  47.3215806           5.0414701\n",
       "14                        Annecy  45.8992348           6.1288847\n",
       "15                          Lyon  45.7578137           4.8320114\n",
       "16                      Grenoble  45.1875602           5.7357819\n",
       "17                  Verdon Gorge     No data             No data\n",
       "18            Bormes les Mimosas  43.1506968           6.3419285\n",
       "19                        Cassis  43.2140359           5.5396318\n",
       "20                     Marseille  43.2961743           5.3699525\n",
       "21               Aix en Provence  43.5298424           5.4474738\n",
       "22                      Avignon   43.9492493           4.8059012\n",
       "23                          Uzès  44.0121279           4.4196718\n",
       "24                        Nimmes     No data             No data\n",
       "25                 Aigues Mortes  43.5658225           4.1912837\n",
       "26      Saintes Maries de la Mer  43.4522771           4.4287172\n",
       "27                     Collioure    42.52505           3.0831554\n",
       "28                   Carcassonne  43.2130358           2.3491069\n",
       "29                        Ariege     No data             No data\n",
       "30                      Toulouse  43.6044622           1.4442469\n",
       "31                     Montauban  44.0175835           1.3549991\n",
       "32                      Biarritz  43.4832523          -1.5592776\n",
       "33                       Bayonne  43.4945144          -1.4736657\n",
       "34                   La Rochelle  46.1591126          -1.1520434"
      ]
     },
     "execution_count": 19,
     "metadata": {},
     "output_type": "execute_result"
    }
   ],
   "source": [
    "df_cities_coords = pd.merge(top_35_df, top_35_coords_final, left_index=True, right_index=True)\n",
    "df_cities_coords"
   ]
  },
  {
   "cell_type": "code",
   "execution_count": 20,
   "metadata": {},
   "outputs": [
    {
     "name": "stderr",
     "output_type": "stream",
     "text": [
      "2022-07-26 14:31:31 [urllib3.connectionpool] DEBUG: Starting new HTTPS connection (1): api.openweathermap.org:443\n",
      "2022-07-26 14:31:32 [urllib3.connectionpool] DEBUG: https://api.openweathermap.org:443 \"GET /data/2.5/weather?lat=46.1591126&lon=-1.1520434&appid=6ebf19659f091baa13503f5e57103c3a HTTP/1.1\" 200 468\n"
     ]
    }
   ],
   "source": [
    "top_35_temperature = []\n",
    "for lat, lon in zip(df_cities_coords['lat'], df_cities_coords['lon']):\n",
    "    clear_output(wait=True)\n",
    "    response = requests.get(f\"https://api.openweathermap.org/data/2.5/weather?lat={lat}&lon={lon}&appid={KEY_API_WEATHER}\")\n",
    "    data_coords = response.json()\n",
    "    # print(data_coords)\n",
    "    \n",
    "    if data_coords['cod'] == 200:\n",
    "        top_35_temperature.append(data_coords['main']['temp'])\n",
    "    elif data_coords['cod'] == 400:\n",
    "        top_35_temperature.append(0)\n",
    "    else:\n",
    "        top_35_temperature.append(0)\n",
    "        \n",
    "        "
   ]
  },
  {
   "cell_type": "code",
   "execution_count": 21,
   "metadata": {},
   "outputs": [
    {
     "data": {
      "text/html": [
       "<div>\n",
       "<style scoped>\n",
       "    .dataframe tbody tr th:only-of-type {\n",
       "        vertical-align: middle;\n",
       "    }\n",
       "\n",
       "    .dataframe tbody tr th {\n",
       "        vertical-align: top;\n",
       "    }\n",
       "\n",
       "    .dataframe thead th {\n",
       "        text-align: right;\n",
       "    }\n",
       "</style>\n",
       "<table border=\"1\" class=\"dataframe\">\n",
       "  <thead>\n",
       "    <tr style=\"text-align: right;\">\n",
       "      <th></th>\n",
       "      <th>temp_K</th>\n",
       "    </tr>\n",
       "  </thead>\n",
       "  <tbody>\n",
       "    <tr>\n",
       "      <th>0</th>\n",
       "      <td>293.54</td>\n",
       "    </tr>\n",
       "    <tr>\n",
       "      <th>1</th>\n",
       "      <td>293.47</td>\n",
       "    </tr>\n",
       "    <tr>\n",
       "      <th>2</th>\n",
       "      <td>293.29</td>\n",
       "    </tr>\n",
       "    <tr>\n",
       "      <th>3</th>\n",
       "      <td>292.66</td>\n",
       "    </tr>\n",
       "    <tr>\n",
       "      <th>4</th>\n",
       "      <td>294.81</td>\n",
       "    </tr>\n",
       "  </tbody>\n",
       "</table>\n",
       "</div>"
      ],
      "text/plain": [
       "   temp_K\n",
       "0  293.54\n",
       "1  293.47\n",
       "2  293.29\n",
       "3  292.66\n",
       "4  294.81"
      ]
     },
     "execution_count": 21,
     "metadata": {},
     "output_type": "execute_result"
    }
   ],
   "source": [
    "top_35_temperature_final = pd.DataFrame(top_35_temperature)\n",
    "top_35_temperature_final.columns = ['temp_K']\n",
    "top_35_temperature_final.head()"
   ]
  },
  {
   "cell_type": "code",
   "execution_count": 22,
   "metadata": {},
   "outputs": [
    {
     "data": {
      "text/html": [
       "<div>\n",
       "<style scoped>\n",
       "    .dataframe tbody tr th:only-of-type {\n",
       "        vertical-align: middle;\n",
       "    }\n",
       "\n",
       "    .dataframe tbody tr th {\n",
       "        vertical-align: top;\n",
       "    }\n",
       "\n",
       "    .dataframe thead th {\n",
       "        text-align: right;\n",
       "    }\n",
       "</style>\n",
       "<table border=\"1\" class=\"dataframe\">\n",
       "  <thead>\n",
       "    <tr style=\"text-align: right;\">\n",
       "      <th></th>\n",
       "      <th>temp_K</th>\n",
       "      <th>temp_C</th>\n",
       "    </tr>\n",
       "  </thead>\n",
       "  <tbody>\n",
       "    <tr>\n",
       "      <th>0</th>\n",
       "      <td>293.54</td>\n",
       "      <td>20.39</td>\n",
       "    </tr>\n",
       "    <tr>\n",
       "      <th>1</th>\n",
       "      <td>293.47</td>\n",
       "      <td>20.32</td>\n",
       "    </tr>\n",
       "    <tr>\n",
       "      <th>2</th>\n",
       "      <td>293.29</td>\n",
       "      <td>20.14</td>\n",
       "    </tr>\n",
       "    <tr>\n",
       "      <th>3</th>\n",
       "      <td>292.66</td>\n",
       "      <td>19.51</td>\n",
       "    </tr>\n",
       "    <tr>\n",
       "      <th>4</th>\n",
       "      <td>294.81</td>\n",
       "      <td>21.66</td>\n",
       "    </tr>\n",
       "  </tbody>\n",
       "</table>\n",
       "</div>"
      ],
      "text/plain": [
       "   temp_K  temp_C\n",
       "0  293.54   20.39\n",
       "1  293.47   20.32\n",
       "2  293.29   20.14\n",
       "3  292.66   19.51\n",
       "4  294.81   21.66"
      ]
     },
     "execution_count": 22,
     "metadata": {},
     "output_type": "execute_result"
    }
   ],
   "source": [
    "for row in top_35_temperature_final['temp_K']:\n",
    "    top_35_temperature_final['temp_C'] = top_35_temperature_final.apply(lambda x: x['temp_K']+(-273.15) ,axis=1)\n",
    "top_35_temperature_final.head()"
   ]
  },
  {
   "cell_type": "code",
   "execution_count": 24,
   "metadata": {},
   "outputs": [
    {
     "name": "stdout",
     "output_type": "stream",
     "text": [
      "<class 'pandas.core.frame.DataFrame'>\n",
      "RangeIndex: 35 entries, 0 to 34\n",
      "Data columns (total 5 columns):\n",
      " #   Column  Non-Null Count  Dtype  \n",
      "---  ------  --------------  -----  \n",
      " 0   City    35 non-null     object \n",
      " 1   lat     35 non-null     object \n",
      " 2   lon     35 non-null     object \n",
      " 3   temp_K  35 non-null     float64\n",
      " 4   temp_C  35 non-null     float64\n",
      "dtypes: float64(2), object(3)\n",
      "memory usage: 1.5+ KB\n",
      "None\n",
      "<class 'pandas.core.frame.DataFrame'>\n",
      "RangeIndex: 35 entries, 0 to 34\n",
      "Data columns (total 5 columns):\n",
      " #   Column  Non-Null Count  Dtype  \n",
      "---  ------  --------------  -----  \n",
      " 0   City    35 non-null     object \n",
      " 1   lat     32 non-null     float64\n",
      " 2   lon     32 non-null     float64\n",
      " 3   temp_K  35 non-null     float64\n",
      " 4   temp_C  35 non-null     float64\n",
      "dtypes: float64(4), object(1)\n",
      "memory usage: 1.5+ KB\n",
      "None\n"
     ]
    }
   ],
   "source": [
    "df_cities_coords_temp = pd.merge(df_cities_coords, top_35_temperature_final, left_index=True, right_index=True)\n",
    "print(df_cities_coords_temp.info())\n",
    "df_cities_coords_temp['lat'] = pd.to_numeric(df_cities_coords_temp['lat'], errors='coerce')\n",
    "df_cities_coords_temp['lon'] = pd.to_numeric(df_cities_coords_temp['lon'], errors='coerce')\n",
    "print(df_cities_coords_temp.info())\n"
   ]
  },
  {
   "cell_type": "code",
   "execution_count": 25,
   "metadata": {},
   "outputs": [
    {
     "name": "stdout",
     "output_type": "stream",
     "text": [
      "<class 'pandas.core.frame.DataFrame'>\n",
      "Int64Index: 649 entries, 0 to 648\n",
      "Data columns (total 6 columns):\n",
      " #   Column                 Non-Null Count  Dtype  \n",
      "---  ------                 --------------  -----  \n",
      " 0   name                   649 non-null    object \n",
      " 1   url                    649 non-null    object \n",
      " 2   rating                 649 non-null    float64\n",
      " 3   coordinates.latitude   649 non-null    float64\n",
      " 4   coordinates.longitude  649 non-null    float64\n",
      " 5   location.city          649 non-null    object \n",
      "dtypes: float64(3), object(3)\n",
      "memory usage: 35.5+ KB\n"
     ]
    }
   ],
   "source": [
    "df_hotels.info()"
   ]
  },
  {
   "cell_type": "markdown",
   "metadata": {},
   "source": [
    "### PART 5: AWS S3\n",
    "\n",
    "0️⃣ [Part 0](#PART-0:-BEGINNING) Top </br>\n",
    "1️⃣ [Part 1](#PART-1:-SCRAPY) Scrapy </br>\n",
    "2️⃣ [Part 2](#PART-2:-HOTELS): API Yelp </br>\n",
    "3️⃣ [Part 3](#PART-3:-API-COORDINATES): API coordinates </br>\n",
    "4️⃣ [Part 4](#PART-4:-API-WEATHER): API weather </br>\n",
    "5️⃣ [Part 5](#PART-5:-AWS-S3): AWS S3 </br>\n",
    "6️⃣ [Part 6](#PART-6:-AWS-RDS): AWS RDS PostgreSQL </br>\n",
    "7️⃣ [Part 7](#PART-7:-EDA): EDA </br>"
   ]
  },
  {
   "cell_type": "code",
   "execution_count": null,
   "metadata": {},
   "outputs": [],
   "source": [
    "# Generate the boto3 client for interacting with S3\n",
    "s3 = boto3.client('s3', region_name='eu-west-3', \n",
    "                        # Set up AWS credentials\n",
    "                        aws_access_key_id=AWS_KEY_ID,\n",
    "                        aws_secret_access_key=AWS_SECRET)\n",
    "s3\n"
   ]
  },
  {
   "cell_type": "code",
   "execution_count": 27,
   "metadata": {},
   "outputs": [
    {
     "name": "stdout",
     "output_type": "stream",
     "text": [
      "Existing buckets:\n",
      "\n",
      "aws-de-project-javi\n",
      "flights-datacamp\n",
      "gid-processed-javi\n",
      "gid-staging-javi\n",
      "gim-processed-javi\n",
      "gim-staging-javi\n",
      "gim-test-javi\n",
      "plan-your-trip-kayak\n",
      "sd-vehicle-data-javi\n"
     ]
    }
   ],
   "source": [
    "# Retrieve the list of existing buckets\n",
    "response = s3.list_buckets()\n",
    "clear_output(wait=True)\n",
    "# Output the bucket names\n",
    "print('Existing buckets:')\n",
    "print()\n",
    "for bucket in response['Buckets']:\n",
    "    print(f'{bucket[\"Name\"]}')"
   ]
  },
  {
   "cell_type": "code",
   "execution_count": 73,
   "metadata": {},
   "outputs": [],
   "source": [
    "def create_bucket(bucket_name, region):\n",
    "    \"\"\"Create an S3 bucket in a specified region\n",
    "\n",
    "    If a region is not specified, the bucket is created in the S3 default\n",
    "    region (us-east-1).\n",
    "\n",
    "    :param bucket_name: Bucket to create\n",
    "    :param region: String region to create bucket in, e.g., 'us-west-2'\n",
    "    :return: True if bucket created, else False\n",
    "    \"\"\"\n",
    "\n",
    "    # Create bucket\n",
    "    try:\n",
    "        if region is None:\n",
    "            s3.create_bucket(Bucket=bucket_name)\n",
    "        else:\n",
    "            location = {'LocationConstraint': region}\n",
    "            s3.create_bucket(Bucket=bucket_name,\n",
    "                                    CreateBucketConfiguration=location)\n",
    "    except ClientError as e:\n",
    "        logging.error(e)\n",
    "        return False\n",
    "    return True"
   ]
  },
  {
   "cell_type": "code",
   "execution_count": null,
   "metadata": {},
   "outputs": [],
   "source": [
    "# create_bucket(\"plan-your-trip-kayak\", 'eu-west-3')"
   ]
  },
  {
   "cell_type": "code",
   "execution_count": 31,
   "metadata": {},
   "outputs": [],
   "source": [
    "df_cities_coords_temp.to_csv('df_city.csv')\n",
    "df_hotels.to_csv('df_hotels.csv')"
   ]
  },
  {
   "cell_type": "code",
   "execution_count": null,
   "metadata": {},
   "outputs": [],
   "source": [
    "# Upload final_report.csv to gid-staging\n",
    "s3.upload_file(Bucket='plan-your-trip-kayak',\n",
    "              # Set filename and key\n",
    "               Filename='df_city.csv',\n",
    "               Key='df_city.csv')"
   ]
  },
  {
   "cell_type": "code",
   "execution_count": null,
   "metadata": {},
   "outputs": [],
   "source": [
    "# Upload final_report.csv to gid-staging\n",
    "s3.upload_file(Bucket='plan-your-trip-kayak',\n",
    "              # Set filename and key\n",
    "               Filename='df_hotels.csv',\n",
    "               Key='df_hotels.csv')\n"
   ]
  },
  {
   "cell_type": "code",
   "execution_count": null,
   "metadata": {},
   "outputs": [],
   "source": [
    "bucket = \"plan-your-trip-kayak\"\n",
    "file_name = \"df_city.csv\"\n",
    "# get object and file (key) from bucket\n",
    "obj = s3.get_object(Bucket= bucket, Key= file_name)"
   ]
  },
  {
   "cell_type": "code",
   "execution_count": 30,
   "metadata": {},
   "outputs": [],
   "source": [
    "url =\"https://{}.s3.eu-west-3.amazonaws.com/{}\".format(\"plan-your-trip-kayak\",\"df_city.csv\")"
   ]
  },
  {
   "cell_type": "code",
   "execution_count": 31,
   "metadata": {},
   "outputs": [],
   "source": [
    "path_city = 's3://{}:{}@{}/{}'.format(AWS_KEY_ID, AWS_SECRET, 'plan-your-trip-kayak', 'df_city.csv')\n",
    "path_hotels = 's3://{}:{}@{}/{}'.format(AWS_KEY_ID, AWS_SECRET, 'plan-your-trip-kayak', 'df_hotels.csv')"
   ]
  },
  {
   "cell_type": "code",
   "execution_count": null,
   "metadata": {},
   "outputs": [],
   "source": [
    "df_city_s3 = pd.read_csv(smart_open(path_city), index_col=[0])\n",
    "df_city_s3.head()"
   ]
  },
  {
   "cell_type": "code",
   "execution_count": null,
   "metadata": {},
   "outputs": [],
   "source": [
    "df_hotels_s3 = pd.read_csv(smart_open(path_hotels), index_col=[0])\n",
    "df_hotels_s3.head()"
   ]
  },
  {
   "cell_type": "markdown",
   "metadata": {},
   "source": [
    "### PART 6: AWS RDS\n",
    "\n",
    "0️⃣ [Part 0](#PART-0:-BEGINNING) Top </br>\n",
    "1️⃣ [Part 1](#PART-1:-SCRAPY) Scrapy </br>\n",
    "2️⃣ [Part 2](#PART-2:-HOTELS): API Yelp </br>\n",
    "3️⃣ [Part 3](#PART-3:-API-COORDINATES): API coordinates </br>\n",
    "4️⃣ [Part 4](#PART-4:-API-WEATHER): API weather </br>\n",
    "5️⃣ [Part 5](#PART-5:-AWS-S3): AWS S3 </br>\n",
    "6️⃣ [Part 6](#PART-6:-AWS-RDS): AWS RDS PostgreSQL </br>\n",
    "7️⃣ [Part 7](#PART-7:-EDA): EDA </br>\n"
   ]
  },
  {
   "cell_type": "code",
   "execution_count": 41,
   "metadata": {},
   "outputs": [],
   "source": [
    "url = f\"postgresql://{DBUSER_RDS_POSTGRE}:{DBPASS_RDS_POSTGRE}@{DBHOST_RDS_POSTGRE}:{DBPORT_RDS_POSTGRE}/{DBNAME_RDS_POSTGRE}\"\n",
    "engine = create_engine(url)\n",
    "connect = engine.connect()"
   ]
  },
  {
   "cell_type": "code",
   "execution_count": 44,
   "metadata": {},
   "outputs": [
    {
     "name": "stderr",
     "output_type": "stream",
     "text": [
      "2022-07-26 14:40:11 [py.warnings] WARNING: C:\\Users\\javie\\AppData\\Local\\Temp\\ipykernel_9652\\1043810782.py:1: SADeprecationWarning: The Engine.table_names() method is deprecated and will be removed in a future release.  Please refer to Inspector.get_table_names(). (deprecated since: 1.4)\n",
      "  print(engine.table_names())\n",
      "\n"
     ]
    },
    {
     "name": "stdout",
     "output_type": "stream",
     "text": [
      "['city']\n"
     ]
    }
   ],
   "source": [
    "print(engine.table_names())"
   ]
  },
  {
   "cell_type": "code",
   "execution_count": 43,
   "metadata": {},
   "outputs": [
    {
     "name": "stdout",
     "output_type": "stream",
     "text": [
      "\n",
      "['name', 'url', 'rating', 'coordinates.latitude', 'coordinates.longitude', 'location.city']\n",
      "\n",
      "Table dropped!\n"
     ]
    }
   ],
   "source": [
    "try:\n",
    "    metadata = MetaData()\n",
    "    df_hotels_s3 = Table('hotels', metadata, autoload=True,   autoload_with=engine)\n",
    "    print()\n",
    "    print(df_hotels_s3.columns.keys())\n",
    "    print()\n",
    "except:\n",
    "    print(\"Table does not exist!\")\n",
    "# Drop a table\n",
    "try:\n",
    "    df_hotels_s3.drop(engine)\n",
    "    print(\"Table dropped!\")\n",
    "except:\n",
    "    print(\"Already dropped!\")"
   ]
  },
  {
   "cell_type": "code",
   "execution_count": 45,
   "metadata": {},
   "outputs": [
    {
     "data": {
      "text/plain": [
       "35"
      ]
     },
     "execution_count": 45,
     "metadata": {},
     "output_type": "execute_result"
    }
   ],
   "source": [
    "df_city_s3.to_sql(name='city', con=connect, if_exists='append', index=False)"
   ]
  },
  {
   "cell_type": "code",
   "execution_count": 48,
   "metadata": {},
   "outputs": [
    {
     "data": {
      "text/plain": [
       "649"
      ]
     },
     "execution_count": 48,
     "metadata": {},
     "output_type": "execute_result"
    }
   ],
   "source": [
    "df_hotels_s3.to_sql(name='hotels', con=connect, if_exists='append', index=False)"
   ]
  },
  {
   "cell_type": "code",
   "execution_count": 49,
   "metadata": {},
   "outputs": [
    {
     "name": "stderr",
     "output_type": "stream",
     "text": [
      "2022-07-26 14:40:40 [py.warnings] WARNING: C:\\Users\\javie\\AppData\\Local\\Temp\\ipykernel_9652\\1043810782.py:1: SADeprecationWarning: The Engine.table_names() method is deprecated and will be removed in a future release.  Please refer to Inspector.get_table_names(). (deprecated since: 1.4)\n",
      "  print(engine.table_names())\n",
      "\n"
     ]
    },
    {
     "name": "stdout",
     "output_type": "stream",
     "text": [
      "['city', 'hotels']\n"
     ]
    }
   ],
   "source": [
    "print(engine.table_names())"
   ]
  },
  {
   "cell_type": "code",
   "execution_count": 50,
   "metadata": {},
   "outputs": [],
   "source": [
    "metadata = MetaData()"
   ]
  },
  {
   "cell_type": "code",
   "execution_count": 54,
   "metadata": {},
   "outputs": [
    {
     "name": "stdout",
     "output_type": "stream",
     "text": [
      "\n",
      "['City', 'lat', 'lon', 'temp_K', 'temp_C']\n",
      "\n"
     ]
    },
    {
     "data": {
      "text/plain": [
       "[('Mont Saint Michel', 48.6359541, -1.511459954959514, 292.54, 19.390000000000043),\n",
       " ('St Malo', 48.649518, -2.0260409, 292.58, 19.430000000000007),\n",
       " ('Bayeux', 49.2764624, -0.7024738, 293.29, 20.140000000000043),\n",
       " ('Le Havre', 49.4938975, 0.1079732, 292.66, 19.510000000000048),\n",
       " ('Rouen', 49.4404591, 1.0939658, 293.38, 20.230000000000015),\n",
       " ('Paris', 48.8588897, 2.3200410217200766, 297.01, 23.860000000000014),\n",
       " ('Amiens', 49.8941708, 2.2956951, 293.81, 20.660000000000025),\n",
       " ('Lille', 50.6365654, 3.0635282, 295.09, 21.94),\n",
       " ('Strasbourg', 48.584614, 7.7507127, 302.83, 29.680000000000007),\n",
       " ('Chateau du Haut Koenigsbourg', 48.2495226, 7.3454923, 299.52, 26.370000000000005),\n",
       " ('Colmar', 48.0777517, 7.3579641, 303.37, 30.220000000000027),\n",
       " ('Eguisheim', 48.0447968, 7.3079618, 304.69, 31.54000000000002),\n",
       " ('Besancon', 47.2380222, 6.0243622, 304.14, 30.99000000000001),\n",
       " ('Dijon', 47.3215806, 5.0414701, 298.95, 25.80000000000001),\n",
       " ('Annecy', 45.8992348, 6.1288847, 303.36, 30.21000000000004),\n",
       " ('Lyon', 45.7578137, 4.8320114, 305.03, 31.879999999999995),\n",
       " ('Grenoble', 45.1875602, 5.7357819, 304.78, 31.629999999999995),\n",
       " ('Verdon Gorge', None, None, 0.0, -273.15),\n",
       " ('Bormes les Mimosas', 43.1506968, 6.3419285, 302.17, 29.02000000000004),\n",
       " ('Cassis', 43.2140359, 5.5396318, 303.58, 30.430000000000007)]"
      ]
     },
     "execution_count": 54,
     "metadata": {},
     "output_type": "execute_result"
    }
   ],
   "source": [
    "city = Table('city', metadata, autoload=True, autoload_with=engine)\n",
    "print()\n",
    "print(city.columns.keys())\n",
    "print()\n",
    "query = \"SELECT * FROM city\"\n",
    "results = connect.execute(query).fetchmany(size=20) # .fetchall()\n",
    "results"
   ]
  },
  {
   "cell_type": "code",
   "execution_count": 55,
   "metadata": {},
   "outputs": [
    {
     "data": {
      "text/html": [
       "<div>\n",
       "<style scoped>\n",
       "    .dataframe tbody tr th:only-of-type {\n",
       "        vertical-align: middle;\n",
       "    }\n",
       "\n",
       "    .dataframe tbody tr th {\n",
       "        vertical-align: top;\n",
       "    }\n",
       "\n",
       "    .dataframe thead th {\n",
       "        text-align: right;\n",
       "    }\n",
       "</style>\n",
       "<table border=\"1\" class=\"dataframe\">\n",
       "  <thead>\n",
       "    <tr style=\"text-align: right;\">\n",
       "      <th></th>\n",
       "      <th>City</th>\n",
       "      <th>lat</th>\n",
       "      <th>lon</th>\n",
       "      <th>temp_K</th>\n",
       "      <th>temp_C</th>\n",
       "    </tr>\n",
       "  </thead>\n",
       "  <tbody>\n",
       "    <tr>\n",
       "      <th>0</th>\n",
       "      <td>Mont Saint Michel</td>\n",
       "      <td>48.635954</td>\n",
       "      <td>-1.511460</td>\n",
       "      <td>292.54</td>\n",
       "      <td>19.39</td>\n",
       "    </tr>\n",
       "    <tr>\n",
       "      <th>1</th>\n",
       "      <td>St Malo</td>\n",
       "      <td>48.649518</td>\n",
       "      <td>-2.026041</td>\n",
       "      <td>292.58</td>\n",
       "      <td>19.43</td>\n",
       "    </tr>\n",
       "    <tr>\n",
       "      <th>2</th>\n",
       "      <td>Bayeux</td>\n",
       "      <td>49.276462</td>\n",
       "      <td>-0.702474</td>\n",
       "      <td>293.29</td>\n",
       "      <td>20.14</td>\n",
       "    </tr>\n",
       "    <tr>\n",
       "      <th>3</th>\n",
       "      <td>Le Havre</td>\n",
       "      <td>49.493898</td>\n",
       "      <td>0.107973</td>\n",
       "      <td>292.66</td>\n",
       "      <td>19.51</td>\n",
       "    </tr>\n",
       "    <tr>\n",
       "      <th>4</th>\n",
       "      <td>Rouen</td>\n",
       "      <td>49.440459</td>\n",
       "      <td>1.093966</td>\n",
       "      <td>293.38</td>\n",
       "      <td>20.23</td>\n",
       "    </tr>\n",
       "    <tr>\n",
       "      <th>5</th>\n",
       "      <td>Paris</td>\n",
       "      <td>48.858890</td>\n",
       "      <td>2.320041</td>\n",
       "      <td>297.01</td>\n",
       "      <td>23.86</td>\n",
       "    </tr>\n",
       "    <tr>\n",
       "      <th>6</th>\n",
       "      <td>Amiens</td>\n",
       "      <td>49.894171</td>\n",
       "      <td>2.295695</td>\n",
       "      <td>293.81</td>\n",
       "      <td>20.66</td>\n",
       "    </tr>\n",
       "    <tr>\n",
       "      <th>7</th>\n",
       "      <td>Lille</td>\n",
       "      <td>50.636565</td>\n",
       "      <td>3.063528</td>\n",
       "      <td>295.09</td>\n",
       "      <td>21.94</td>\n",
       "    </tr>\n",
       "    <tr>\n",
       "      <th>8</th>\n",
       "      <td>Strasbourg</td>\n",
       "      <td>48.584614</td>\n",
       "      <td>7.750713</td>\n",
       "      <td>302.83</td>\n",
       "      <td>29.68</td>\n",
       "    </tr>\n",
       "    <tr>\n",
       "      <th>9</th>\n",
       "      <td>Chateau du Haut Koenigsbourg</td>\n",
       "      <td>48.249523</td>\n",
       "      <td>7.345492</td>\n",
       "      <td>299.52</td>\n",
       "      <td>26.37</td>\n",
       "    </tr>\n",
       "    <tr>\n",
       "      <th>10</th>\n",
       "      <td>Colmar</td>\n",
       "      <td>48.077752</td>\n",
       "      <td>7.357964</td>\n",
       "      <td>303.37</td>\n",
       "      <td>30.22</td>\n",
       "    </tr>\n",
       "    <tr>\n",
       "      <th>11</th>\n",
       "      <td>Eguisheim</td>\n",
       "      <td>48.044797</td>\n",
       "      <td>7.307962</td>\n",
       "      <td>304.69</td>\n",
       "      <td>31.54</td>\n",
       "    </tr>\n",
       "    <tr>\n",
       "      <th>12</th>\n",
       "      <td>Besancon</td>\n",
       "      <td>47.238022</td>\n",
       "      <td>6.024362</td>\n",
       "      <td>304.14</td>\n",
       "      <td>30.99</td>\n",
       "    </tr>\n",
       "    <tr>\n",
       "      <th>13</th>\n",
       "      <td>Dijon</td>\n",
       "      <td>47.321581</td>\n",
       "      <td>5.041470</td>\n",
       "      <td>298.95</td>\n",
       "      <td>25.80</td>\n",
       "    </tr>\n",
       "    <tr>\n",
       "      <th>14</th>\n",
       "      <td>Annecy</td>\n",
       "      <td>45.899235</td>\n",
       "      <td>6.128885</td>\n",
       "      <td>303.36</td>\n",
       "      <td>30.21</td>\n",
       "    </tr>\n",
       "    <tr>\n",
       "      <th>15</th>\n",
       "      <td>Lyon</td>\n",
       "      <td>45.757814</td>\n",
       "      <td>4.832011</td>\n",
       "      <td>305.03</td>\n",
       "      <td>31.88</td>\n",
       "    </tr>\n",
       "    <tr>\n",
       "      <th>16</th>\n",
       "      <td>Grenoble</td>\n",
       "      <td>45.187560</td>\n",
       "      <td>5.735782</td>\n",
       "      <td>304.78</td>\n",
       "      <td>31.63</td>\n",
       "    </tr>\n",
       "    <tr>\n",
       "      <th>17</th>\n",
       "      <td>Verdon Gorge</td>\n",
       "      <td>NaN</td>\n",
       "      <td>NaN</td>\n",
       "      <td>0.00</td>\n",
       "      <td>-273.15</td>\n",
       "    </tr>\n",
       "    <tr>\n",
       "      <th>18</th>\n",
       "      <td>Bormes les Mimosas</td>\n",
       "      <td>43.150697</td>\n",
       "      <td>6.341928</td>\n",
       "      <td>302.17</td>\n",
       "      <td>29.02</td>\n",
       "    </tr>\n",
       "    <tr>\n",
       "      <th>19</th>\n",
       "      <td>Cassis</td>\n",
       "      <td>43.214036</td>\n",
       "      <td>5.539632</td>\n",
       "      <td>303.58</td>\n",
       "      <td>30.43</td>\n",
       "    </tr>\n",
       "  </tbody>\n",
       "</table>\n",
       "</div>"
      ],
      "text/plain": [
       "                            City        lat       lon  temp_K  temp_C\n",
       "0              Mont Saint Michel  48.635954 -1.511460  292.54   19.39\n",
       "1                        St Malo  48.649518 -2.026041  292.58   19.43\n",
       "2                         Bayeux  49.276462 -0.702474  293.29   20.14\n",
       "3                       Le Havre  49.493898  0.107973  292.66   19.51\n",
       "4                          Rouen  49.440459  1.093966  293.38   20.23\n",
       "5                          Paris  48.858890  2.320041  297.01   23.86\n",
       "6                         Amiens  49.894171  2.295695  293.81   20.66\n",
       "7                          Lille  50.636565  3.063528  295.09   21.94\n",
       "8                     Strasbourg  48.584614  7.750713  302.83   29.68\n",
       "9   Chateau du Haut Koenigsbourg  48.249523  7.345492  299.52   26.37\n",
       "10                        Colmar  48.077752  7.357964  303.37   30.22\n",
       "11                     Eguisheim  48.044797  7.307962  304.69   31.54\n",
       "12                      Besancon  47.238022  6.024362  304.14   30.99\n",
       "13                         Dijon  47.321581  5.041470  298.95   25.80\n",
       "14                        Annecy  45.899235  6.128885  303.36   30.21\n",
       "15                          Lyon  45.757814  4.832011  305.03   31.88\n",
       "16                      Grenoble  45.187560  5.735782  304.78   31.63\n",
       "17                  Verdon Gorge        NaN       NaN    0.00 -273.15\n",
       "18            Bormes les Mimosas  43.150697  6.341928  302.17   29.02\n",
       "19                        Cassis  43.214036  5.539632  303.58   30.43"
      ]
     },
     "execution_count": 55,
     "metadata": {},
     "output_type": "execute_result"
    }
   ],
   "source": [
    "df_plot_cities = pd.DataFrame(results)\n",
    "df_plot_cities"
   ]
  },
  {
   "cell_type": "code",
   "execution_count": 57,
   "metadata": {},
   "outputs": [
    {
     "name": "stdout",
     "output_type": "stream",
     "text": [
      "\n",
      "['name', 'url', 'rating', 'coordinates.latitude', 'coordinates.longitude', 'location.city']\n",
      "\n",
      "649\n"
     ]
    },
    {
     "data": {
      "text/plain": [
       "[('Auberge Saint-Pierre', 'https://www.yelp.com/biz/auberge-saint-pierre-le-mont-saint-michel?adjust_creative=GXwWFx9ItkABO5LjjHHpQg&utm_campaign=yelp_api_v3&utm_medium=api_v3_business_search&utm_source=GXwWFx9ItkABO5LjjHHpQg', 3.0, 48.636199, -1.510107, 'Le Mont-Saint-Michel'),\n",
       " ('La Vieille Auberge', 'https://www.yelp.com/biz/la-vieille-auberge-mont-saint-michel?adjust_creative=GXwWFx9ItkABO5LjjHHpQg&utm_campaign=yelp_api_v3&utm_medium=api_v3_business_search&utm_source=GXwWFx9ItkABO5LjjHHpQg', 4.0, 48.6374866464272, -1.51200185046206, 'Mont Saint-Michel')]"
      ]
     },
     "execution_count": 57,
     "metadata": {},
     "output_type": "execute_result"
    }
   ],
   "source": [
    "metadata = MetaData()\n",
    "city = Table('hotels', metadata, autoload=True,   autoload_with=engine)\n",
    "print()\n",
    "print(city.columns.keys())\n",
    "print()\n",
    "query = \"SELECT * FROM hotels\"\n",
    "results = connect.execute(query).fetchall()\n",
    "# results = result_proxy.fetchall()\n",
    "# results = result_proxy.fetchmany(size=10)\n",
    "print(len(results))\n",
    "results[0:2]"
   ]
  },
  {
   "cell_type": "code",
   "execution_count": 58,
   "metadata": {},
   "outputs": [
    {
     "name": "stdout",
     "output_type": "stream",
     "text": [
      "113\n"
     ]
    }
   ],
   "source": [
    "query_1 = \"SELECT * FROM hotels WHERE rating >= 4.9\"\n",
    "results_query_1 = connect.execute(query_1).fetchall()\n",
    "print(len(results_query_1))"
   ]
  },
  {
   "cell_type": "code",
   "execution_count": 59,
   "metadata": {},
   "outputs": [
    {
     "data": {
      "text/html": [
       "<div>\n",
       "<style scoped>\n",
       "    .dataframe tbody tr th:only-of-type {\n",
       "        vertical-align: middle;\n",
       "    }\n",
       "\n",
       "    .dataframe tbody tr th {\n",
       "        vertical-align: top;\n",
       "    }\n",
       "\n",
       "    .dataframe thead th {\n",
       "        text-align: right;\n",
       "    }\n",
       "</style>\n",
       "<table border=\"1\" class=\"dataframe\">\n",
       "  <thead>\n",
       "    <tr style=\"text-align: right;\">\n",
       "      <th></th>\n",
       "      <th>name</th>\n",
       "      <th>url</th>\n",
       "      <th>rating</th>\n",
       "      <th>coordinates.latitude</th>\n",
       "      <th>coordinates.longitude</th>\n",
       "      <th>location.city</th>\n",
       "    </tr>\n",
       "  </thead>\n",
       "  <tbody>\n",
       "    <tr>\n",
       "      <th>0</th>\n",
       "      <td>Hotel Mercure</td>\n",
       "      <td>https://www.yelp.com/biz/hotel-mercure-le-mont...</td>\n",
       "      <td>5.0</td>\n",
       "      <td>48.614325</td>\n",
       "      <td>-1.510715</td>\n",
       "      <td>Le Mont Saint Michel</td>\n",
       "    </tr>\n",
       "    <tr>\n",
       "      <th>1</th>\n",
       "      <td>Hôtel Mercure Balmoral</td>\n",
       "      <td>https://www.yelp.com/biz/h%C3%B4tel-mercure-ba...</td>\n",
       "      <td>5.0</td>\n",
       "      <td>48.646423</td>\n",
       "      <td>-2.006214</td>\n",
       "      <td>Saint-Malo</td>\n",
       "    </tr>\n",
       "    <tr>\n",
       "      <th>2</th>\n",
       "      <td>Maison des Armateurs</td>\n",
       "      <td>https://www.yelp.com/biz/maison-des-armateurs-...</td>\n",
       "      <td>5.0</td>\n",
       "      <td>48.649200</td>\n",
       "      <td>-2.024590</td>\n",
       "      <td>Saint Malo</td>\n",
       "    </tr>\n",
       "    <tr>\n",
       "      <th>3</th>\n",
       "      <td>Alba Hôtel</td>\n",
       "      <td>https://www.yelp.com/biz/alba-h%C3%B4tel-st-ma...</td>\n",
       "      <td>5.0</td>\n",
       "      <td>48.656580</td>\n",
       "      <td>-2.003363</td>\n",
       "      <td>St Malo</td>\n",
       "    </tr>\n",
       "    <tr>\n",
       "      <th>4</th>\n",
       "      <td>Hôtel Antinéa</td>\n",
       "      <td>https://www.yelp.com/biz/h%C3%B4tel-antin%C3%A...</td>\n",
       "      <td>5.0</td>\n",
       "      <td>48.655415</td>\n",
       "      <td>-2.005287</td>\n",
       "      <td>Saint-Malo</td>\n",
       "    </tr>\n",
       "  </tbody>\n",
       "</table>\n",
       "</div>"
      ],
      "text/plain": [
       "                     name                                                url  \\\n",
       "0           Hotel Mercure  https://www.yelp.com/biz/hotel-mercure-le-mont...   \n",
       "1  Hôtel Mercure Balmoral  https://www.yelp.com/biz/h%C3%B4tel-mercure-ba...   \n",
       "2    Maison des Armateurs  https://www.yelp.com/biz/maison-des-armateurs-...   \n",
       "3              Alba Hôtel  https://www.yelp.com/biz/alba-h%C3%B4tel-st-ma...   \n",
       "4           Hôtel Antinéa  https://www.yelp.com/biz/h%C3%B4tel-antin%C3%A...   \n",
       "\n",
       "   rating  coordinates.latitude  coordinates.longitude         location.city  \n",
       "0     5.0             48.614325              -1.510715  Le Mont Saint Michel  \n",
       "1     5.0             48.646423              -2.006214            Saint-Malo  \n",
       "2     5.0             48.649200              -2.024590            Saint Malo  \n",
       "3     5.0             48.656580              -2.003363               St Malo  \n",
       "4     5.0             48.655415              -2.005287            Saint-Malo  "
      ]
     },
     "execution_count": 59,
     "metadata": {},
     "output_type": "execute_result"
    }
   ],
   "source": [
    "df_high_rated = pd.DataFrame(results_query_1)\n",
    "df_high_rated.head(5)"
   ]
  },
  {
   "cell_type": "markdown",
   "metadata": {},
   "source": [
    "### PART 7: EDA\n",
    "\n",
    "0️⃣ [Part 0](#PART-0:-BEGINNING) Top </br>\n",
    "1️⃣ [Part 1](#PART-1:-SCRAPY) Scrapy </br>\n",
    "2️⃣ [Part 2](#PART-2:-HOTELS): API Yelp </br>\n",
    "3️⃣ [Part 3](#PART-3:-API-COORDINATES): API coordinates </br>\n",
    "4️⃣ [Part 4](#PART-4:-API-WEATHER): API weather </br>\n",
    "5️⃣ [Part 5](#PART-5:-AWS-S3): AWS S3 </br>\n",
    "6️⃣ [Part 6](#PART-6:-AWS-RDS): AWS RDS PostgreSQL </br>\n",
    "7️⃣ [Part 7](#PART-7:-EDA): EDA </br>"
   ]
  },
  {
   "cell_type": "markdown",
   "metadata": {},
   "source": [
    "### TOP 5 WITH TEMP"
   ]
  },
  {
   "cell_type": "code",
   "execution_count": 56,
   "metadata": {},
   "outputs": [
    {
     "data": {
      "application/vnd.plotly.v1+json": {
       "config": {
        "plotlyServerURL": "https://plot.ly"
       },
       "data": [
        {
         "hovertemplate": "temp_K=%{marker.size}<br>lat=%{lat}<br>lon=%{lon}<br>temp_C=%{marker.color}<extra></extra>",
         "lat": [
          48.6359541,
          48.649518,
          49.2764624,
          49.4938975,
          49.4404591,
          48.8588897,
          49.8941708,
          50.6365654,
          48.584614,
          48.2495226,
          48.0777517,
          48.0447968,
          47.2380222,
          47.3215806,
          45.8992348,
          45.7578137,
          45.1875602,
          null,
          43.1506968,
          43.2140359
         ],
         "legendgroup": "",
         "lon": [
          -1.511459954959514,
          -2.0260409,
          -0.7024738,
          0.1079732,
          1.0939658,
          2.3200410217200766,
          2.2956951,
          3.0635282,
          7.7507127,
          7.3454923,
          7.3579641,
          7.3079618,
          6.0243622,
          5.0414701,
          6.1288847,
          4.8320114,
          5.7357819,
          null,
          6.3419285,
          5.5396318
         ],
         "marker": {
          "color": [
           19.390000000000043,
           19.430000000000007,
           20.140000000000043,
           19.510000000000048,
           20.230000000000015,
           23.860000000000014,
           20.660000000000025,
           21.94,
           29.680000000000007,
           26.370000000000005,
           30.220000000000027,
           31.54000000000002,
           30.99000000000001,
           25.80000000000001,
           30.21000000000004,
           31.879999999999995,
           31.629999999999995,
           -273.15,
           29.02000000000004,
           30.430000000000007
          ],
          "coloraxis": "coloraxis",
          "size": [
           292.54,
           292.58,
           293.29,
           292.66,
           293.38,
           297.01,
           293.81,
           295.09,
           302.83,
           299.52,
           303.37,
           304.69,
           304.14,
           298.95,
           303.36,
           305.03,
           304.78,
           0,
           302.17,
           303.58
          ],
          "sizemode": "area",
          "sizeref": 0.7625749999999999
         },
         "mode": "markers",
         "name": "",
         "showlegend": false,
         "subplot": "mapbox",
         "type": "scattermapbox"
        }
       ],
       "layout": {
        "coloraxis": {
         "colorbar": {
          "title": {
           "text": "temp_C"
          }
         },
         "colorscale": [
          [
           0,
           "#0d0887"
          ],
          [
           0.1111111111111111,
           "#46039f"
          ],
          [
           0.2222222222222222,
           "#7201a8"
          ],
          [
           0.3333333333333333,
           "#9c179e"
          ],
          [
           0.4444444444444444,
           "#bd3786"
          ],
          [
           0.5555555555555556,
           "#d8576b"
          ],
          [
           0.6666666666666666,
           "#ed7953"
          ],
          [
           0.7777777777777778,
           "#fb9f3a"
          ],
          [
           0.8888888888888888,
           "#fdca26"
          ],
          [
           1,
           "#f0f921"
          ]
         ]
        },
        "legend": {
         "itemsizing": "constant",
         "tracegroupgap": 0
        },
        "mapbox": {
         "center": {
          "lat": 47.663765594736844,
          "lon": 3.8972331666716085
         },
         "domain": {
          "x": [
           0,
           1
          ],
          "y": [
           0,
           1
          ]
         },
         "style": "carto-positron",
         "zoom": 4.5
        },
        "margin": {
         "t": 60
        },
        "template": {
         "data": {
          "bar": [
           {
            "error_x": {
             "color": "#2a3f5f"
            },
            "error_y": {
             "color": "#2a3f5f"
            },
            "marker": {
             "line": {
              "color": "#E5ECF6",
              "width": 0.5
             },
             "pattern": {
              "fillmode": "overlay",
              "size": 10,
              "solidity": 0.2
             }
            },
            "type": "bar"
           }
          ],
          "barpolar": [
           {
            "marker": {
             "line": {
              "color": "#E5ECF6",
              "width": 0.5
             },
             "pattern": {
              "fillmode": "overlay",
              "size": 10,
              "solidity": 0.2
             }
            },
            "type": "barpolar"
           }
          ],
          "carpet": [
           {
            "aaxis": {
             "endlinecolor": "#2a3f5f",
             "gridcolor": "white",
             "linecolor": "white",
             "minorgridcolor": "white",
             "startlinecolor": "#2a3f5f"
            },
            "baxis": {
             "endlinecolor": "#2a3f5f",
             "gridcolor": "white",
             "linecolor": "white",
             "minorgridcolor": "white",
             "startlinecolor": "#2a3f5f"
            },
            "type": "carpet"
           }
          ],
          "choropleth": [
           {
            "colorbar": {
             "outlinewidth": 0,
             "ticks": ""
            },
            "type": "choropleth"
           }
          ],
          "contour": [
           {
            "colorbar": {
             "outlinewidth": 0,
             "ticks": ""
            },
            "colorscale": [
             [
              0,
              "#0d0887"
             ],
             [
              0.1111111111111111,
              "#46039f"
             ],
             [
              0.2222222222222222,
              "#7201a8"
             ],
             [
              0.3333333333333333,
              "#9c179e"
             ],
             [
              0.4444444444444444,
              "#bd3786"
             ],
             [
              0.5555555555555556,
              "#d8576b"
             ],
             [
              0.6666666666666666,
              "#ed7953"
             ],
             [
              0.7777777777777778,
              "#fb9f3a"
             ],
             [
              0.8888888888888888,
              "#fdca26"
             ],
             [
              1,
              "#f0f921"
             ]
            ],
            "type": "contour"
           }
          ],
          "contourcarpet": [
           {
            "colorbar": {
             "outlinewidth": 0,
             "ticks": ""
            },
            "type": "contourcarpet"
           }
          ],
          "heatmap": [
           {
            "colorbar": {
             "outlinewidth": 0,
             "ticks": ""
            },
            "colorscale": [
             [
              0,
              "#0d0887"
             ],
             [
              0.1111111111111111,
              "#46039f"
             ],
             [
              0.2222222222222222,
              "#7201a8"
             ],
             [
              0.3333333333333333,
              "#9c179e"
             ],
             [
              0.4444444444444444,
              "#bd3786"
             ],
             [
              0.5555555555555556,
              "#d8576b"
             ],
             [
              0.6666666666666666,
              "#ed7953"
             ],
             [
              0.7777777777777778,
              "#fb9f3a"
             ],
             [
              0.8888888888888888,
              "#fdca26"
             ],
             [
              1,
              "#f0f921"
             ]
            ],
            "type": "heatmap"
           }
          ],
          "heatmapgl": [
           {
            "colorbar": {
             "outlinewidth": 0,
             "ticks": ""
            },
            "colorscale": [
             [
              0,
              "#0d0887"
             ],
             [
              0.1111111111111111,
              "#46039f"
             ],
             [
              0.2222222222222222,
              "#7201a8"
             ],
             [
              0.3333333333333333,
              "#9c179e"
             ],
             [
              0.4444444444444444,
              "#bd3786"
             ],
             [
              0.5555555555555556,
              "#d8576b"
             ],
             [
              0.6666666666666666,
              "#ed7953"
             ],
             [
              0.7777777777777778,
              "#fb9f3a"
             ],
             [
              0.8888888888888888,
              "#fdca26"
             ],
             [
              1,
              "#f0f921"
             ]
            ],
            "type": "heatmapgl"
           }
          ],
          "histogram": [
           {
            "marker": {
             "pattern": {
              "fillmode": "overlay",
              "size": 10,
              "solidity": 0.2
             }
            },
            "type": "histogram"
           }
          ],
          "histogram2d": [
           {
            "colorbar": {
             "outlinewidth": 0,
             "ticks": ""
            },
            "colorscale": [
             [
              0,
              "#0d0887"
             ],
             [
              0.1111111111111111,
              "#46039f"
             ],
             [
              0.2222222222222222,
              "#7201a8"
             ],
             [
              0.3333333333333333,
              "#9c179e"
             ],
             [
              0.4444444444444444,
              "#bd3786"
             ],
             [
              0.5555555555555556,
              "#d8576b"
             ],
             [
              0.6666666666666666,
              "#ed7953"
             ],
             [
              0.7777777777777778,
              "#fb9f3a"
             ],
             [
              0.8888888888888888,
              "#fdca26"
             ],
             [
              1,
              "#f0f921"
             ]
            ],
            "type": "histogram2d"
           }
          ],
          "histogram2dcontour": [
           {
            "colorbar": {
             "outlinewidth": 0,
             "ticks": ""
            },
            "colorscale": [
             [
              0,
              "#0d0887"
             ],
             [
              0.1111111111111111,
              "#46039f"
             ],
             [
              0.2222222222222222,
              "#7201a8"
             ],
             [
              0.3333333333333333,
              "#9c179e"
             ],
             [
              0.4444444444444444,
              "#bd3786"
             ],
             [
              0.5555555555555556,
              "#d8576b"
             ],
             [
              0.6666666666666666,
              "#ed7953"
             ],
             [
              0.7777777777777778,
              "#fb9f3a"
             ],
             [
              0.8888888888888888,
              "#fdca26"
             ],
             [
              1,
              "#f0f921"
             ]
            ],
            "type": "histogram2dcontour"
           }
          ],
          "mesh3d": [
           {
            "colorbar": {
             "outlinewidth": 0,
             "ticks": ""
            },
            "type": "mesh3d"
           }
          ],
          "parcoords": [
           {
            "line": {
             "colorbar": {
              "outlinewidth": 0,
              "ticks": ""
             }
            },
            "type": "parcoords"
           }
          ],
          "pie": [
           {
            "automargin": true,
            "type": "pie"
           }
          ],
          "scatter": [
           {
            "fillpattern": {
             "fillmode": "overlay",
             "size": 10,
             "solidity": 0.2
            },
            "type": "scatter"
           }
          ],
          "scatter3d": [
           {
            "line": {
             "colorbar": {
              "outlinewidth": 0,
              "ticks": ""
             }
            },
            "marker": {
             "colorbar": {
              "outlinewidth": 0,
              "ticks": ""
             }
            },
            "type": "scatter3d"
           }
          ],
          "scattercarpet": [
           {
            "marker": {
             "colorbar": {
              "outlinewidth": 0,
              "ticks": ""
             }
            },
            "type": "scattercarpet"
           }
          ],
          "scattergeo": [
           {
            "marker": {
             "colorbar": {
              "outlinewidth": 0,
              "ticks": ""
             }
            },
            "type": "scattergeo"
           }
          ],
          "scattergl": [
           {
            "marker": {
             "colorbar": {
              "outlinewidth": 0,
              "ticks": ""
             }
            },
            "type": "scattergl"
           }
          ],
          "scattermapbox": [
           {
            "marker": {
             "colorbar": {
              "outlinewidth": 0,
              "ticks": ""
             }
            },
            "type": "scattermapbox"
           }
          ],
          "scatterpolar": [
           {
            "marker": {
             "colorbar": {
              "outlinewidth": 0,
              "ticks": ""
             }
            },
            "type": "scatterpolar"
           }
          ],
          "scatterpolargl": [
           {
            "marker": {
             "colorbar": {
              "outlinewidth": 0,
              "ticks": ""
             }
            },
            "type": "scatterpolargl"
           }
          ],
          "scatterternary": [
           {
            "marker": {
             "colorbar": {
              "outlinewidth": 0,
              "ticks": ""
             }
            },
            "type": "scatterternary"
           }
          ],
          "surface": [
           {
            "colorbar": {
             "outlinewidth": 0,
             "ticks": ""
            },
            "colorscale": [
             [
              0,
              "#0d0887"
             ],
             [
              0.1111111111111111,
              "#46039f"
             ],
             [
              0.2222222222222222,
              "#7201a8"
             ],
             [
              0.3333333333333333,
              "#9c179e"
             ],
             [
              0.4444444444444444,
              "#bd3786"
             ],
             [
              0.5555555555555556,
              "#d8576b"
             ],
             [
              0.6666666666666666,
              "#ed7953"
             ],
             [
              0.7777777777777778,
              "#fb9f3a"
             ],
             [
              0.8888888888888888,
              "#fdca26"
             ],
             [
              1,
              "#f0f921"
             ]
            ],
            "type": "surface"
           }
          ],
          "table": [
           {
            "cells": {
             "fill": {
              "color": "#EBF0F8"
             },
             "line": {
              "color": "white"
             }
            },
            "header": {
             "fill": {
              "color": "#C8D4E3"
             },
             "line": {
              "color": "white"
             }
            },
            "type": "table"
           }
          ]
         },
         "layout": {
          "annotationdefaults": {
           "arrowcolor": "#2a3f5f",
           "arrowhead": 0,
           "arrowwidth": 1
          },
          "autotypenumbers": "strict",
          "coloraxis": {
           "colorbar": {
            "outlinewidth": 0,
            "ticks": ""
           }
          },
          "colorscale": {
           "diverging": [
            [
             0,
             "#8e0152"
            ],
            [
             0.1,
             "#c51b7d"
            ],
            [
             0.2,
             "#de77ae"
            ],
            [
             0.3,
             "#f1b6da"
            ],
            [
             0.4,
             "#fde0ef"
            ],
            [
             0.5,
             "#f7f7f7"
            ],
            [
             0.6,
             "#e6f5d0"
            ],
            [
             0.7,
             "#b8e186"
            ],
            [
             0.8,
             "#7fbc41"
            ],
            [
             0.9,
             "#4d9221"
            ],
            [
             1,
             "#276419"
            ]
           ],
           "sequential": [
            [
             0,
             "#0d0887"
            ],
            [
             0.1111111111111111,
             "#46039f"
            ],
            [
             0.2222222222222222,
             "#7201a8"
            ],
            [
             0.3333333333333333,
             "#9c179e"
            ],
            [
             0.4444444444444444,
             "#bd3786"
            ],
            [
             0.5555555555555556,
             "#d8576b"
            ],
            [
             0.6666666666666666,
             "#ed7953"
            ],
            [
             0.7777777777777778,
             "#fb9f3a"
            ],
            [
             0.8888888888888888,
             "#fdca26"
            ],
            [
             1,
             "#f0f921"
            ]
           ],
           "sequentialminus": [
            [
             0,
             "#0d0887"
            ],
            [
             0.1111111111111111,
             "#46039f"
            ],
            [
             0.2222222222222222,
             "#7201a8"
            ],
            [
             0.3333333333333333,
             "#9c179e"
            ],
            [
             0.4444444444444444,
             "#bd3786"
            ],
            [
             0.5555555555555556,
             "#d8576b"
            ],
            [
             0.6666666666666666,
             "#ed7953"
            ],
            [
             0.7777777777777778,
             "#fb9f3a"
            ],
            [
             0.8888888888888888,
             "#fdca26"
            ],
            [
             1,
             "#f0f921"
            ]
           ]
          },
          "colorway": [
           "#636efa",
           "#EF553B",
           "#00cc96",
           "#ab63fa",
           "#FFA15A",
           "#19d3f3",
           "#FF6692",
           "#B6E880",
           "#FF97FF",
           "#FECB52"
          ],
          "font": {
           "color": "#2a3f5f"
          },
          "geo": {
           "bgcolor": "white",
           "lakecolor": "white",
           "landcolor": "#E5ECF6",
           "showlakes": true,
           "showland": true,
           "subunitcolor": "white"
          },
          "hoverlabel": {
           "align": "left"
          },
          "hovermode": "closest",
          "mapbox": {
           "style": "light"
          },
          "paper_bgcolor": "white",
          "plot_bgcolor": "#E5ECF6",
          "polar": {
           "angularaxis": {
            "gridcolor": "white",
            "linecolor": "white",
            "ticks": ""
           },
           "bgcolor": "#E5ECF6",
           "radialaxis": {
            "gridcolor": "white",
            "linecolor": "white",
            "ticks": ""
           }
          },
          "scene": {
           "xaxis": {
            "backgroundcolor": "#E5ECF6",
            "gridcolor": "white",
            "gridwidth": 2,
            "linecolor": "white",
            "showbackground": true,
            "ticks": "",
            "zerolinecolor": "white"
           },
           "yaxis": {
            "backgroundcolor": "#E5ECF6",
            "gridcolor": "white",
            "gridwidth": 2,
            "linecolor": "white",
            "showbackground": true,
            "ticks": "",
            "zerolinecolor": "white"
           },
           "zaxis": {
            "backgroundcolor": "#E5ECF6",
            "gridcolor": "white",
            "gridwidth": 2,
            "linecolor": "white",
            "showbackground": true,
            "ticks": "",
            "zerolinecolor": "white"
           }
          },
          "shapedefaults": {
           "line": {
            "color": "#2a3f5f"
           }
          },
          "ternary": {
           "aaxis": {
            "gridcolor": "white",
            "linecolor": "white",
            "ticks": ""
           },
           "baxis": {
            "gridcolor": "white",
            "linecolor": "white",
            "ticks": ""
           },
           "bgcolor": "#E5ECF6",
           "caxis": {
            "gridcolor": "white",
            "linecolor": "white",
            "ticks": ""
           }
          },
          "title": {
           "x": 0.05
          },
          "xaxis": {
           "automargin": true,
           "gridcolor": "white",
           "linecolor": "white",
           "ticks": "",
           "title": {
            "standoff": 15
           },
           "zerolinecolor": "white",
           "zerolinewidth": 2
          },
          "yaxis": {
           "automargin": true,
           "gridcolor": "white",
           "linecolor": "white",
           "ticks": "",
           "title": {
            "standoff": 15
           },
           "zerolinecolor": "white",
           "zerolinewidth": 2
          }
         }
        }
       }
      }
     },
     "metadata": {},
     "output_type": "display_data"
    }
   ],
   "source": [
    "fig = px.scatter_mapbox(df_plot_cities, lat=\"lat\", lon=\"lon\", color=\"temp_C\", size=\"temp_K\", zoom=4.5, mapbox_style=\"carto-positron\")\n",
    "fig.show()"
   ]
  },
  {
   "cell_type": "markdown",
   "metadata": {},
   "source": [
    "### TOP 20 HOTELS"
   ]
  },
  {
   "cell_type": "code",
   "execution_count": 60,
   "metadata": {},
   "outputs": [
    {
     "data": {
      "text/html": [
       "<div>\n",
       "<style scoped>\n",
       "    .dataframe tbody tr th:only-of-type {\n",
       "        vertical-align: middle;\n",
       "    }\n",
       "\n",
       "    .dataframe tbody tr th {\n",
       "        vertical-align: top;\n",
       "    }\n",
       "\n",
       "    .dataframe thead th {\n",
       "        text-align: right;\n",
       "    }\n",
       "</style>\n",
       "<table border=\"1\" class=\"dataframe\">\n",
       "  <thead>\n",
       "    <tr style=\"text-align: right;\">\n",
       "      <th></th>\n",
       "      <th>name</th>\n",
       "      <th>url</th>\n",
       "      <th>rating</th>\n",
       "      <th>coordinates.latitude</th>\n",
       "      <th>coordinates.longitude</th>\n",
       "      <th>location.city</th>\n",
       "    </tr>\n",
       "  </thead>\n",
       "  <tbody>\n",
       "    <tr>\n",
       "      <th>0</th>\n",
       "      <td>Hotel Mercure</td>\n",
       "      <td>https://www.yelp.com/biz/hotel-mercure-le-mont...</td>\n",
       "      <td>5.0</td>\n",
       "      <td>48.614325</td>\n",
       "      <td>-1.510715</td>\n",
       "      <td>Le Mont Saint Michel</td>\n",
       "    </tr>\n",
       "    <tr>\n",
       "      <th>1</th>\n",
       "      <td>Hôtel Mercure Balmoral</td>\n",
       "      <td>https://www.yelp.com/biz/h%C3%B4tel-mercure-ba...</td>\n",
       "      <td>5.0</td>\n",
       "      <td>48.646423</td>\n",
       "      <td>-2.006214</td>\n",
       "      <td>Saint-Malo</td>\n",
       "    </tr>\n",
       "    <tr>\n",
       "      <th>2</th>\n",
       "      <td>Maison des Armateurs</td>\n",
       "      <td>https://www.yelp.com/biz/maison-des-armateurs-...</td>\n",
       "      <td>5.0</td>\n",
       "      <td>48.649200</td>\n",
       "      <td>-2.024590</td>\n",
       "      <td>Saint Malo</td>\n",
       "    </tr>\n",
       "    <tr>\n",
       "      <th>3</th>\n",
       "      <td>Alba Hôtel</td>\n",
       "      <td>https://www.yelp.com/biz/alba-h%C3%B4tel-st-ma...</td>\n",
       "      <td>5.0</td>\n",
       "      <td>48.656580</td>\n",
       "      <td>-2.003363</td>\n",
       "      <td>St Malo</td>\n",
       "    </tr>\n",
       "    <tr>\n",
       "      <th>4</th>\n",
       "      <td>Hôtel Antinéa</td>\n",
       "      <td>https://www.yelp.com/biz/h%C3%B4tel-antin%C3%A...</td>\n",
       "      <td>5.0</td>\n",
       "      <td>48.655415</td>\n",
       "      <td>-2.005287</td>\n",
       "      <td>Saint-Malo</td>\n",
       "    </tr>\n",
       "    <tr>\n",
       "      <th>...</th>\n",
       "      <td>...</td>\n",
       "      <td>...</td>\n",
       "      <td>...</td>\n",
       "      <td>...</td>\n",
       "      <td>...</td>\n",
       "      <td>...</td>\n",
       "    </tr>\n",
       "    <tr>\n",
       "      <th>108</th>\n",
       "      <td>Au Saint James</td>\n",
       "      <td>https://www.yelp.com/biz/au-saint-james-biarri...</td>\n",
       "      <td>5.0</td>\n",
       "      <td>43.481337</td>\n",
       "      <td>-1.562986</td>\n",
       "      <td>Biarritz</td>\n",
       "    </tr>\n",
       "    <tr>\n",
       "      <th>109</th>\n",
       "      <td>Cityami</td>\n",
       "      <td>https://www.yelp.com/biz/cityami-new-york?adju...</td>\n",
       "      <td>5.0</td>\n",
       "      <td>40.720087</td>\n",
       "      <td>-74.000892</td>\n",
       "      <td>New York</td>\n",
       "    </tr>\n",
       "    <tr>\n",
       "      <th>110</th>\n",
       "      <td>Best Western Masqhotel La Rochelle</td>\n",
       "      <td>https://www.yelp.com/biz/best-western-masqhote...</td>\n",
       "      <td>5.0</td>\n",
       "      <td>46.154980</td>\n",
       "      <td>-1.145297</td>\n",
       "      <td>La Rochelle</td>\n",
       "    </tr>\n",
       "    <tr>\n",
       "      <th>111</th>\n",
       "      <td>Le Clos Saint-Martin</td>\n",
       "      <td>https://www.yelp.com/biz/le-clos-saint-martin-...</td>\n",
       "      <td>5.0</td>\n",
       "      <td>46.204790</td>\n",
       "      <td>-1.372870</td>\n",
       "      <td>St Martin De Re</td>\n",
       "    </tr>\n",
       "    <tr>\n",
       "      <th>112</th>\n",
       "      <td>Hotel Le Grand Large</td>\n",
       "      <td>https://www.yelp.com/biz/hotel-le-grand-large-...</td>\n",
       "      <td>5.0</td>\n",
       "      <td>46.156010</td>\n",
       "      <td>-1.268250</td>\n",
       "      <td>Rivedoux Plage</td>\n",
       "    </tr>\n",
       "  </tbody>\n",
       "</table>\n",
       "<p>113 rows × 6 columns</p>\n",
       "</div>"
      ],
      "text/plain": [
       "                                   name  \\\n",
       "0                         Hotel Mercure   \n",
       "1                Hôtel Mercure Balmoral   \n",
       "2                  Maison des Armateurs   \n",
       "3                            Alba Hôtel   \n",
       "4                         Hôtel Antinéa   \n",
       "..                                  ...   \n",
       "108                      Au Saint James   \n",
       "109                             Cityami   \n",
       "110  Best Western Masqhotel La Rochelle   \n",
       "111                Le Clos Saint-Martin   \n",
       "112                Hotel Le Grand Large   \n",
       "\n",
       "                                                   url  rating  \\\n",
       "0    https://www.yelp.com/biz/hotel-mercure-le-mont...     5.0   \n",
       "1    https://www.yelp.com/biz/h%C3%B4tel-mercure-ba...     5.0   \n",
       "2    https://www.yelp.com/biz/maison-des-armateurs-...     5.0   \n",
       "3    https://www.yelp.com/biz/alba-h%C3%B4tel-st-ma...     5.0   \n",
       "4    https://www.yelp.com/biz/h%C3%B4tel-antin%C3%A...     5.0   \n",
       "..                                                 ...     ...   \n",
       "108  https://www.yelp.com/biz/au-saint-james-biarri...     5.0   \n",
       "109  https://www.yelp.com/biz/cityami-new-york?adju...     5.0   \n",
       "110  https://www.yelp.com/biz/best-western-masqhote...     5.0   \n",
       "111  https://www.yelp.com/biz/le-clos-saint-martin-...     5.0   \n",
       "112  https://www.yelp.com/biz/hotel-le-grand-large-...     5.0   \n",
       "\n",
       "     coordinates.latitude  coordinates.longitude         location.city  \n",
       "0               48.614325              -1.510715  Le Mont Saint Michel  \n",
       "1               48.646423              -2.006214            Saint-Malo  \n",
       "2               48.649200              -2.024590            Saint Malo  \n",
       "3               48.656580              -2.003363               St Malo  \n",
       "4               48.655415              -2.005287            Saint-Malo  \n",
       "..                    ...                    ...                   ...  \n",
       "108             43.481337              -1.562986              Biarritz  \n",
       "109             40.720087             -74.000892              New York  \n",
       "110             46.154980              -1.145297           La Rochelle  \n",
       "111             46.204790              -1.372870       St Martin De Re  \n",
       "112             46.156010              -1.268250        Rivedoux Plage  \n",
       "\n",
       "[113 rows x 6 columns]"
      ]
     },
     "execution_count": 60,
     "metadata": {},
     "output_type": "execute_result"
    }
   ],
   "source": [
    "df_high_rated"
   ]
  },
  {
   "cell_type": "code",
   "execution_count": 61,
   "metadata": {},
   "outputs": [
    {
     "data": {
      "application/vnd.plotly.v1+json": {
       "config": {
        "plotlyServerURL": "https://plot.ly"
       },
       "data": [
        {
         "hovertemplate": "location.city=Le Mont Saint Michel<br>coordinates.latitude=%{lat}<br>coordinates.longitude=%{lon}<extra></extra>",
         "lat": [
          48.614325
         ],
         "legendgroup": "Le Mont Saint Michel",
         "lon": [
          -1.510715
         ],
         "marker": {
          "color": "#636efa"
         },
         "mode": "markers",
         "name": "Le Mont Saint Michel",
         "showlegend": true,
         "subplot": "mapbox",
         "type": "scattermapbox"
        },
        {
         "hovertemplate": "location.city=Saint-Malo<br>coordinates.latitude=%{lat}<br>coordinates.longitude=%{lon}<extra></extra>",
         "lat": [
          48.6464228,
          48.6554147,
          48.63839,
          48.6504712
         ],
         "legendgroup": "Saint-Malo",
         "lon": [
          -2.0062143,
          -2.00528708,
          -1.99005,
          -2.024936
         ],
         "marker": {
          "color": "#EF553B"
         },
         "mode": "markers",
         "name": "Saint-Malo",
         "showlegend": true,
         "subplot": "mapbox",
         "type": "scattermapbox"
        },
        {
         "hovertemplate": "location.city=Saint Malo<br>coordinates.latitude=%{lat}<br>coordinates.longitude=%{lon}<extra></extra>",
         "lat": [
          48.6492
         ],
         "legendgroup": "Saint Malo",
         "lon": [
          -2.02459
         ],
         "marker": {
          "color": "#00cc96"
         },
         "mode": "markers",
         "name": "Saint Malo",
         "showlegend": true,
         "subplot": "mapbox",
         "type": "scattermapbox"
        },
        {
         "hovertemplate": "location.city=St Malo<br>coordinates.latitude=%{lat}<br>coordinates.longitude=%{lon}<extra></extra>",
         "lat": [
          48.6565796,
          48.6505906
         ],
         "legendgroup": "St Malo",
         "lon": [
          -2.0033635,
          -2.0248252
         ],
         "marker": {
          "color": "#ab63fa"
         },
         "mode": "markers",
         "name": "St Malo",
         "showlegend": true,
         "subplot": "mapbox",
         "type": "scattermapbox"
        },
        {
         "hovertemplate": "location.city=Dinard<br>coordinates.latitude=%{lat}<br>coordinates.longitude=%{lon}<extra></extra>",
         "lat": [
          48.633
         ],
         "legendgroup": "Dinard",
         "lon": [
          -2.05141
         ],
         "marker": {
          "color": "#FFA15A"
         },
         "mode": "markers",
         "name": "Dinard",
         "showlegend": true,
         "subplot": "mapbox",
         "type": "scattermapbox"
        },
        {
         "hovertemplate": "location.city=Bayeux<br>coordinates.latitude=%{lat}<br>coordinates.longitude=%{lon}<extra></extra>",
         "lat": [
          49.276164,
          49.2769,
          49.276975945372,
          49.274666
         ],
         "legendgroup": "Bayeux",
         "lon": [
          -0.700342,
          -0.70743,
          -0.70201,
          -0.707067
         ],
         "marker": {
          "color": "#19d3f3"
         },
         "mode": "markers",
         "name": "Bayeux",
         "showlegend": true,
         "subplot": "mapbox",
         "type": "scattermapbox"
        },
        {
         "hovertemplate": "location.city=Le Havre<br>coordinates.latitude=%{lat}<br>coordinates.longitude=%{lon}<extra></extra>",
         "lat": [
          49.494872,
          49.4915115
         ],
         "legendgroup": "Le Havre",
         "lon": [
          0.105591,
          0.100746
         ],
         "marker": {
          "color": "#FF6692"
         },
         "mode": "markers",
         "name": "Le Havre",
         "showlegend": true,
         "subplot": "mapbox",
         "type": "scattermapbox"
        },
        {
         "hovertemplate": "location.city=Villerville<br>coordinates.latitude=%{lat}<br>coordinates.longitude=%{lon}<extra></extra>",
         "lat": [
          49.40202
         ],
         "legendgroup": "Villerville",
         "lon": [
          0.12997
         ],
         "marker": {
          "color": "#B6E880"
         },
         "mode": "markers",
         "name": "Villerville",
         "showlegend": true,
         "subplot": "mapbox",
         "type": "scattermapbox"
        },
        {
         "hovertemplate": "location.city=Pennedepie<br>coordinates.latitude=%{lat}<br>coordinates.longitude=%{lon}<extra></extra>",
         "lat": [
          49.397682711963
         ],
         "legendgroup": "Pennedepie",
         "lon": [
          0.147039374844269
         ],
         "marker": {
          "color": "#FF97FF"
         },
         "mode": "markers",
         "name": "Pennedepie",
         "showlegend": true,
         "subplot": "mapbox",
         "type": "scattermapbox"
        },
        {
         "hovertemplate": "location.city=Rouen<br>coordinates.latitude=%{lat}<br>coordinates.longitude=%{lon}<extra></extra>",
         "lat": [
          49.442634
         ],
         "legendgroup": "Rouen",
         "lon": [
          1.076554
         ],
         "marker": {
          "color": "#FECB52"
         },
         "mode": "markers",
         "name": "Rouen",
         "showlegend": true,
         "subplot": "mapbox",
         "type": "scattermapbox"
        },
        {
         "hovertemplate": "location.city=Paris<br>coordinates.latitude=%{lat}<br>coordinates.longitude=%{lon}<extra></extra>",
         "lat": [
          48.85811,
          48.863619,
          48.84863
         ],
         "legendgroup": "Paris",
         "lon": [
          2.30145,
          2.360799,
          2.34804
         ],
         "marker": {
          "color": "#636efa"
         },
         "mode": "markers",
         "name": "Paris",
         "showlegend": true,
         "subplot": "mapbox",
         "type": "scattermapbox"
        },
        {
         "hovertemplate": "location.city=Paris 06<br>coordinates.latitude=%{lat}<br>coordinates.longitude=%{lon}<extra></extra>",
         "lat": [
          48.8543934
         ],
         "legendgroup": "Paris 06",
         "lon": [
          2.3401563
         ],
         "marker": {
          "color": "#EF553B"
         },
         "mode": "markers",
         "name": "Paris 06",
         "showlegend": true,
         "subplot": "mapbox",
         "type": "scattermapbox"
        },
        {
         "hovertemplate": "location.city=Lille<br>coordinates.latitude=%{lat}<br>coordinates.longitude=%{lon}<extra></extra>",
         "lat": [
          50.6388273814396,
          50.6451471,
          50.6374807081592,
          50.639742
         ],
         "legendgroup": "Lille",
         "lon": [
          3.0578139497462,
          3.0562635,
          3.0665293214264,
          3.067427
         ],
         "marker": {
          "color": "#00cc96"
         },
         "mode": "markers",
         "name": "Lille",
         "showlegend": true,
         "subplot": "mapbox",
         "type": "scattermapbox"
        },
        {
         "hovertemplate": "location.city=Strasbourg<br>coordinates.latitude=%{lat}<br>coordinates.longitude=%{lon}<extra></extra>",
         "lat": [
          48.58046,
          48.5857582,
          48.574114,
          48.577606,
          48.5833645051162
         ],
         "legendgroup": "Strasbourg",
         "lon": [
          7.74375,
          7.7513299,
          7.765539,
          7.742828,
          7.73571677361065
         ],
         "marker": {
          "color": "#ab63fa"
         },
         "mode": "markers",
         "name": "Strasbourg",
         "showlegend": true,
         "subplot": "mapbox",
         "type": "scattermapbox"
        },
        {
         "hovertemplate": "location.city=Saint-Hippolyte<br>coordinates.latitude=%{lat}<br>coordinates.longitude=%{lon}<extra></extra>",
         "lat": [
          48.2332687,
          48.23302,
          48.232004
         ],
         "legendgroup": "Saint-Hippolyte",
         "lon": [
          7.3681798,
          7.367535,
          7.365017
         ],
         "marker": {
          "color": "#FFA15A"
         },
         "mode": "markers",
         "name": "Saint-Hippolyte",
         "showlegend": true,
         "subplot": "mapbox",
         "type": "scattermapbox"
        },
        {
         "hovertemplate": "location.city=Vancelle Village (La)<br>coordinates.latitude=%{lat}<br>coordinates.longitude=%{lon}<extra></extra>",
         "lat": [
          48.28353
         ],
         "legendgroup": "Vancelle Village (La)",
         "lon": [
          7.30272
         ],
         "marker": {
          "color": "#19d3f3"
         },
         "mode": "markers",
         "name": "Vancelle Village (La)",
         "showlegend": true,
         "subplot": "mapbox",
         "type": "scattermapbox"
        },
        {
         "hovertemplate": "location.city=Kintzheim<br>coordinates.latitude=%{lat}<br>coordinates.longitude=%{lon}<extra></extra>",
         "lat": [
          48.25471
         ],
         "legendgroup": "Kintzheim",
         "lon": [
          7.39512
         ],
         "marker": {
          "color": "#FF6692"
         },
         "mode": "markers",
         "name": "Kintzheim",
         "showlegend": true,
         "subplot": "mapbox",
         "type": "scattermapbox"
        },
        {
         "hovertemplate": "location.city=Thannenkirch<br>coordinates.latitude=%{lat}<br>coordinates.longitude=%{lon}<extra></extra>",
         "lat": [
          48.230986,
          48.2316
         ],
         "legendgroup": "Thannenkirch",
         "lon": [
          7.292687,
          7.3022
         ],
         "marker": {
          "color": "#B6E880"
         },
         "mode": "markers",
         "name": "Thannenkirch",
         "showlegend": true,
         "subplot": "mapbox",
         "type": "scattermapbox"
        },
        {
         "hovertemplate": "location.city=Colmar<br>coordinates.latitude=%{lat}<br>coordinates.longitude=%{lon}<extra></extra>",
         "lat": [
          48.0793513,
          48.07642,
          48.0793513
         ],
         "legendgroup": "Colmar",
         "lon": [
          7.364207,
          7.35605,
          7.364207
         ],
         "marker": {
          "color": "#FF97FF"
         },
         "mode": "markers",
         "name": "Colmar",
         "showlegend": true,
         "subplot": "mapbox",
         "type": "scattermapbox"
        },
        {
         "hovertemplate": "location.city=Hohrod<br>coordinates.latitude=%{lat}<br>coordinates.longitude=%{lon}<extra></extra>",
         "lat": [
          48.0653
         ],
         "legendgroup": "Hohrod",
         "lon": [
          7.13422
         ],
         "marker": {
          "color": "#FECB52"
         },
         "mode": "markers",
         "name": "Hohrod",
         "showlegend": true,
         "subplot": "mapbox",
         "type": "scattermapbox"
        },
        {
         "hovertemplate": "location.city=Besançon<br>coordinates.latitude=%{lat}<br>coordinates.longitude=%{lon}<extra></extra>",
         "lat": [
          47.2265486
         ],
         "legendgroup": "Besançon",
         "lon": [
          6.0506327
         ],
         "marker": {
          "color": "#636efa"
         },
         "mode": "markers",
         "name": "Besançon",
         "showlegend": true,
         "subplot": "mapbox",
         "type": "scattermapbox"
        },
        {
         "hovertemplate": "location.city=Dijon<br>coordinates.latitude=%{lat}<br>coordinates.longitude=%{lon}<extra></extra>",
         "lat": [
          47.3182769815708,
          47.3161315
         ],
         "legendgroup": "Dijon",
         "lon": [
          5.04015706479549,
          5.0424909
         ],
         "marker": {
          "color": "#EF553B"
         },
         "mode": "markers",
         "name": "Dijon",
         "showlegend": true,
         "subplot": "mapbox",
         "type": "scattermapbox"
        },
        {
         "hovertemplate": "location.city=Annecy<br>coordinates.latitude=%{lat}<br>coordinates.longitude=%{lon}<extra></extra>",
         "lat": [
          45.9014,
          45.9001122
         ],
         "legendgroup": "Annecy",
         "lon": [
          6.12535,
          6.1234734
         ],
         "marker": {
          "color": "#00cc96"
         },
         "mode": "markers",
         "name": "Annecy",
         "showlegend": true,
         "subplot": "mapbox",
         "type": "scattermapbox"
        },
        {
         "hovertemplate": "location.city=Lyon<br>coordinates.latitude=%{lat}<br>coordinates.longitude=%{lon}<extra></extra>",
         "lat": [
          45.740948
         ],
         "legendgroup": "Lyon",
         "lon": [
          4.886224
         ],
         "marker": {
          "color": "#ab63fa"
         },
         "mode": "markers",
         "name": "Lyon",
         "showlegend": true,
         "subplot": "mapbox",
         "type": "scattermapbox"
        },
        {
         "hovertemplate": "location.city=Grenoble<br>coordinates.latitude=%{lat}<br>coordinates.longitude=%{lon}<extra></extra>",
         "lat": [
          45.1849539609911,
          45.189317,
          45.1840988
         ],
         "legendgroup": "Grenoble",
         "lon": [
          5.72604881796872,
          5.7186323,
          5.7329177
         ],
         "marker": {
          "color": "#FFA15A"
         },
         "mode": "markers",
         "name": "Grenoble",
         "showlegend": true,
         "subplot": "mapbox",
         "type": "scattermapbox"
        },
        {
         "hovertemplate": "location.city=Rougon<br>coordinates.latitude=%{lat}<br>coordinates.longitude=%{lon}<extra></extra>",
         "lat": [
          43.794279024643
         ],
         "legendgroup": "Rougon",
         "lon": [
          6.39870100047722
         ],
         "marker": {
          "color": "#19d3f3"
         },
         "mode": "markers",
         "name": "Rougon",
         "showlegend": true,
         "subplot": "mapbox",
         "type": "scattermapbox"
        },
        {
         "hovertemplate": "location.city=Les Salles sur Verdon<br>coordinates.latitude=%{lat}<br>coordinates.longitude=%{lon}<extra></extra>",
         "lat": [
          43.7724
         ],
         "legendgroup": "Les Salles sur Verdon",
         "lon": [
          6.20855
         ],
         "marker": {
          "color": "#FF6692"
         },
         "mode": "markers",
         "name": "Les Salles sur Verdon",
         "showlegend": true,
         "subplot": "mapbox",
         "type": "scattermapbox"
        },
        {
         "hovertemplate": "location.city=Les Baux de Provence<br>coordinates.latitude=%{lat}<br>coordinates.longitude=%{lon}<extra></extra>",
         "lat": [
          43.792601
         ],
         "legendgroup": "Les Baux de Provence",
         "lon": [
          6.6571948
         ],
         "marker": {
          "color": "#B6E880"
         },
         "mode": "markers",
         "name": "Les Baux de Provence",
         "showlegend": true,
         "subplot": "mapbox",
         "type": "scattermapbox"
        },
        {
         "hovertemplate": "location.city=Tourtour<br>coordinates.latitude=%{lat}<br>coordinates.longitude=%{lon}<extra></extra>",
         "lat": [
          43.5991118
         ],
         "legendgroup": "Tourtour",
         "lon": [
          6.2850726
         ],
         "marker": {
          "color": "#FF97FF"
         },
         "mode": "markers",
         "name": "Tourtour",
         "showlegend": true,
         "subplot": "mapbox",
         "type": "scattermapbox"
        },
        {
         "hovertemplate": "location.city=Saint Laurent Du Verdon<br>coordinates.latitude=%{lat}<br>coordinates.longitude=%{lon}<extra></extra>",
         "lat": [
          43.72442
         ],
         "legendgroup": "Saint Laurent Du Verdon",
         "lon": [
          6.06803
         ],
         "marker": {
          "color": "#FECB52"
         },
         "mode": "markers",
         "name": "Saint Laurent Du Verdon",
         "showlegend": true,
         "subplot": "mapbox",
         "type": "scattermapbox"
        },
        {
         "hovertemplate": "location.city=Trigance<br>coordinates.latitude=%{lat}<br>coordinates.longitude=%{lon}<extra></extra>",
         "lat": [
          43.7619292225732
         ],
         "legendgroup": "Trigance",
         "lon": [
          6.44408459117301
         ],
         "marker": {
          "color": "#636efa"
         },
         "mode": "markers",
         "name": "Trigance",
         "showlegend": true,
         "subplot": "mapbox",
         "type": "scattermapbox"
        },
        {
         "hovertemplate": "location.city=Moustiers Sainte Marie<br>coordinates.latitude=%{lat}<br>coordinates.longitude=%{lon}<extra></extra>",
         "lat": [
          43.84848
         ],
         "legendgroup": "Moustiers Sainte Marie",
         "lon": [
          6.22034
         ],
         "marker": {
          "color": "#EF553B"
         },
         "mode": "markers",
         "name": "Moustiers Sainte Marie",
         "showlegend": true,
         "subplot": "mapbox",
         "type": "scattermapbox"
        },
        {
         "hovertemplate": "location.city=Tourrettes<br>coordinates.latitude=%{lat}<br>coordinates.longitude=%{lon}<extra></extra>",
         "lat": [
          43.62388
         ],
         "legendgroup": "Tourrettes",
         "lon": [
          6.70208
         ],
         "marker": {
          "color": "#00cc96"
         },
         "mode": "markers",
         "name": "Tourrettes",
         "showlegend": true,
         "subplot": "mapbox",
         "type": "scattermapbox"
        },
        {
         "hovertemplate": "location.city=Bormes les Mimosas<br>coordinates.latitude=%{lat}<br>coordinates.longitude=%{lon}<extra></extra>",
         "lat": [
          43.1244693133986
         ],
         "legendgroup": "Bormes les Mimosas",
         "lon": [
          6.3573770851807
         ],
         "marker": {
          "color": "#ab63fa"
         },
         "mode": "markers",
         "name": "Bormes les Mimosas",
         "showlegend": true,
         "subplot": "mapbox",
         "type": "scattermapbox"
        },
        {
         "hovertemplate": "location.city=Cavalaire Sur Mer<br>coordinates.latitude=%{lat}<br>coordinates.longitude=%{lon}<extra></extra>",
         "lat": [
          43.176826
         ],
         "legendgroup": "Cavalaire Sur Mer",
         "lon": [
          6.5263453
         ],
         "marker": {
          "color": "#FFA15A"
         },
         "mode": "markers",
         "name": "Cavalaire Sur Mer",
         "showlegend": true,
         "subplot": "mapbox",
         "type": "scattermapbox"
        },
        {
         "hovertemplate": "location.city=Grimaud<br>coordinates.latitude=%{lat}<br>coordinates.longitude=%{lon}<extra></extra>",
         "lat": [
          43.272144
         ],
         "legendgroup": "Grimaud",
         "lon": [
          6.508114
         ],
         "marker": {
          "color": "#19d3f3"
         },
         "mode": "markers",
         "name": "Grimaud",
         "showlegend": true,
         "subplot": "mapbox",
         "type": "scattermapbox"
        },
        {
         "hovertemplate": "location.city=Le Lavandou<br>coordinates.latitude=%{lat}<br>coordinates.longitude=%{lon}<extra></extra>",
         "lat": [
          43.145810808101
         ],
         "legendgroup": "Le Lavandou",
         "lon": [
          6.39675990380705
         ],
         "marker": {
          "color": "#FF6692"
         },
         "mode": "markers",
         "name": "Le Lavandou",
         "showlegend": true,
         "subplot": "mapbox",
         "type": "scattermapbox"
        },
        {
         "hovertemplate": "location.city=Marseille<br>coordinates.latitude=%{lat}<br>coordinates.longitude=%{lon}<extra></extra>",
         "lat": [
          43.308007,
          43.281328,
          43.289711
         ],
         "legendgroup": "Marseille",
         "lon": [
          5.367526,
          5.429338,
          5.37325
         ],
         "marker": {
          "color": "#B6E880"
         },
         "mode": "markers",
         "name": "Marseille",
         "showlegend": true,
         "subplot": "mapbox",
         "type": "scattermapbox"
        },
        {
         "hovertemplate": "location.city=Aix-en-Provence<br>coordinates.latitude=%{lat}<br>coordinates.longitude=%{lon}<extra></extra>",
         "lat": [
          43.5260506
         ],
         "legendgroup": "Aix-en-Provence",
         "lon": [
          5.44877
         ],
         "marker": {
          "color": "#FF97FF"
         },
         "mode": "markers",
         "name": "Aix-en-Provence",
         "showlegend": true,
         "subplot": "mapbox",
         "type": "scattermapbox"
        },
        {
         "hovertemplate": "location.city=Avignon<br>coordinates.latitude=%{lat}<br>coordinates.longitude=%{lon}<extra></extra>",
         "lat": [
          43.9524586,
          43.9438
         ],
         "legendgroup": "Avignon",
         "lon": [
          4.8102622,
          4.805527
         ],
         "marker": {
          "color": "#FECB52"
         },
         "mode": "markers",
         "name": "Avignon",
         "showlegend": true,
         "subplot": "mapbox",
         "type": "scattermapbox"
        },
        {
         "hovertemplate": "location.city=Cabrières<br>coordinates.latitude=%{lat}<br>coordinates.longitude=%{lon}<extra></extra>",
         "lat": [
          43.9042217,
          43.9042217
         ],
         "legendgroup": "Cabrières",
         "lon": [
          4.470648,
          4.470648
         ],
         "marker": {
          "color": "#636efa"
         },
         "mode": "markers",
         "name": "Cabrières",
         "showlegend": true,
         "subplot": "mapbox",
         "type": "scattermapbox"
        },
        {
         "hovertemplate": "location.city=Collias<br>coordinates.latitude=%{lat}<br>coordinates.longitude=%{lon}<extra></extra>",
         "lat": [
          43.953398,
          43.953398
         ],
         "legendgroup": "Collias",
         "lon": [
          4.4770023,
          4.4770023
         ],
         "marker": {
          "color": "#EF553B"
         },
         "mode": "markers",
         "name": "Collias",
         "showlegend": true,
         "subplot": "mapbox",
         "type": "scattermapbox"
        },
        {
         "hovertemplate": "location.city=Saint Hilaire d'Ozilhan<br>coordinates.latitude=%{lat}<br>coordinates.longitude=%{lon}<extra></extra>",
         "lat": [
          43.97113
         ],
         "legendgroup": "Saint Hilaire d'Ozilhan",
         "lon": [
          4.58858
         ],
         "marker": {
          "color": "#00cc96"
         },
         "mode": "markers",
         "name": "Saint Hilaire d'Ozilhan",
         "showlegend": true,
         "subplot": "mapbox",
         "type": "scattermapbox"
        },
        {
         "hovertemplate": "location.city=Nîmes<br>coordinates.latitude=%{lat}<br>coordinates.longitude=%{lon}<extra></extra>",
         "lat": [
          43.83575,
          43.83421,
          43.83575
         ],
         "legendgroup": "Nîmes",
         "lon": [
          4.35907,
          4.362805,
          4.35907
         ],
         "marker": {
          "color": "#ab63fa"
         },
         "mode": "markers",
         "name": "Nîmes",
         "showlegend": true,
         "subplot": "mapbox",
         "type": "scattermapbox"
        },
        {
         "hovertemplate": "location.city=Alès<br>coordinates.latitude=%{lat}<br>coordinates.longitude=%{lon}<extra></extra>",
         "lat": [
          44.1271279813212
         ],
         "legendgroup": "Alès",
         "lon": [
          4.07852865855447
         ],
         "marker": {
          "color": "#FFA15A"
         },
         "mode": "markers",
         "name": "Alès",
         "showlegend": true,
         "subplot": "mapbox",
         "type": "scattermapbox"
        },
        {
         "hovertemplate": "location.city=Palavas-Les-Flots<br>coordinates.latitude=%{lat}<br>coordinates.longitude=%{lon}<extra></extra>",
         "lat": [
          43.5360258,
          43.5360258
         ],
         "legendgroup": "Palavas-Les-Flots",
         "lon": [
          3.9556063,
          3.9556063
         ],
         "marker": {
          "color": "#19d3f3"
         },
         "mode": "markers",
         "name": "Palavas-Les-Flots",
         "showlegend": true,
         "subplot": "mapbox",
         "type": "scattermapbox"
        },
        {
         "hovertemplate": "location.city=Mauguio<br>coordinates.latitude=%{lat}<br>coordinates.longitude=%{lon}<extra></extra>",
         "lat": [
          43.619808
         ],
         "legendgroup": "Mauguio",
         "lon": [
          4.0675904
         ],
         "marker": {
          "color": "#FF6692"
         },
         "mode": "markers",
         "name": "Mauguio",
         "showlegend": true,
         "subplot": "mapbox",
         "type": "scattermapbox"
        },
        {
         "hovertemplate": "location.city=Châteauneuf du Pape<br>coordinates.latitude=%{lat}<br>coordinates.longitude=%{lon}<extra></extra>",
         "lat": [
          44.0491
         ],
         "legendgroup": "Châteauneuf du Pape",
         "lon": [
          4.8357
         ],
         "marker": {
          "color": "#B6E880"
         },
         "mode": "markers",
         "name": "Châteauneuf du Pape",
         "showlegend": true,
         "subplot": "mapbox",
         "type": "scattermapbox"
        },
        {
         "hovertemplate": "location.city=Montpellier<br>coordinates.latitude=%{lat}<br>coordinates.longitude=%{lon}<extra></extra>",
         "lat": [
          43.6319941
         ],
         "legendgroup": "Montpellier",
         "lon": [
          3.8544934
         ],
         "marker": {
          "color": "#FF97FF"
         },
         "mode": "markers",
         "name": "Montpellier",
         "showlegend": true,
         "subplot": "mapbox",
         "type": "scattermapbox"
        },
        {
         "hovertemplate": "location.city=Saintes-Maries-De-La-Mer<br>coordinates.latitude=%{lat}<br>coordinates.longitude=%{lon}<extra></extra>",
         "lat": [
          43.453833,
          43.469716
         ],
         "legendgroup": "Saintes-Maries-De-La-Mer",
         "lon": [
          4.427771,
          4.435556
         ],
         "marker": {
          "color": "#FECB52"
         },
         "mode": "markers",
         "name": "Saintes-Maries-De-La-Mer",
         "showlegend": true,
         "subplot": "mapbox",
         "type": "scattermapbox"
        },
        {
         "hovertemplate": "location.city=Salon De Provence<br>coordinates.latitude=%{lat}<br>coordinates.longitude=%{lon}<extra></extra>",
         "lat": [
          43.6425674
         ],
         "legendgroup": "Salon De Provence",
         "lon": [
          5.0962195
         ],
         "marker": {
          "color": "#636efa"
         },
         "mode": "markers",
         "name": "Salon De Provence",
         "showlegend": true,
         "subplot": "mapbox",
         "type": "scattermapbox"
        },
        {
         "hovertemplate": "location.city=Sète<br>coordinates.latitude=%{lat}<br>coordinates.longitude=%{lon}<extra></extra>",
         "lat": [
          43.40015
         ],
         "legendgroup": "Sète",
         "lon": [
          3.69778
         ],
         "marker": {
          "color": "#EF553B"
         },
         "mode": "markers",
         "name": "Sète",
         "showlegend": true,
         "subplot": "mapbox",
         "type": "scattermapbox"
        },
        {
         "hovertemplate": "location.city=Banyuls-Sur-Mer<br>coordinates.latitude=%{lat}<br>coordinates.longitude=%{lon}<extra></extra>",
         "lat": [
          42.480192
         ],
         "legendgroup": "Banyuls-Sur-Mer",
         "lon": [
          3.133523
         ],
         "marker": {
          "color": "#00cc96"
         },
         "mode": "markers",
         "name": "Banyuls-Sur-Mer",
         "showlegend": true,
         "subplot": "mapbox",
         "type": "scattermapbox"
        },
        {
         "hovertemplate": "location.city=Carcassonne<br>coordinates.latitude=%{lat}<br>coordinates.longitude=%{lon}<extra></extra>",
         "lat": [
          43.207376,
          43.211628,
          43.21576,
          43.2124096,
          43.2157043,
          43.20837
         ],
         "legendgroup": "Carcassonne",
         "lon": [
          2.370396,
          2.357775,
          2.34607,
          2.3450364,
          2.3496984,
          2.31298
         ],
         "marker": {
          "color": "#ab63fa"
         },
         "mode": "markers",
         "name": "Carcassonne",
         "showlegend": true,
         "subplot": "mapbox",
         "type": "scattermapbox"
        },
        {
         "hovertemplate": "location.city=Floure<br>coordinates.latitude=%{lat}<br>coordinates.longitude=%{lon}<extra></extra>",
         "lat": [
          43.224085
         ],
         "legendgroup": "Floure",
         "lon": [
          2.346921
         ],
         "marker": {
          "color": "#FFA15A"
         },
         "mode": "markers",
         "name": "Floure",
         "showlegend": true,
         "subplot": "mapbox",
         "type": "scattermapbox"
        },
        {
         "hovertemplate": "location.city=Foix<br>coordinates.latitude=%{lat}<br>coordinates.longitude=%{lon}<extra></extra>",
         "lat": [
          42.960997
         ],
         "legendgroup": "Foix",
         "lon": [
          1.558698
         ],
         "marker": {
          "color": "#19d3f3"
         },
         "mode": "markers",
         "name": "Foix",
         "showlegend": true,
         "subplot": "mapbox",
         "type": "scattermapbox"
        },
        {
         "hovertemplate": "location.city=La Seu d'Urgell<br>coordinates.latitude=%{lat}<br>coordinates.longitude=%{lon}<extra></extra>",
         "lat": [
          42.3585182274948
         ],
         "legendgroup": "La Seu d'Urgell",
         "lon": [
          1.44647530813465
         ],
         "marker": {
          "color": "#FF6692"
         },
         "mode": "markers",
         "name": "La Seu d'Urgell",
         "showlegend": true,
         "subplot": "mapbox",
         "type": "scattermapbox"
        },
        {
         "hovertemplate": "location.city=Arcavell<br>coordinates.latitude=%{lat}<br>coordinates.longitude=%{lon}<extra></extra>",
         "lat": [
          42.4305340880893
         ],
         "legendgroup": "Arcavell",
         "lon": [
          1.48319461010651
         ],
         "marker": {
          "color": "#B6E880"
         },
         "mode": "markers",
         "name": "Arcavell",
         "showlegend": true,
         "subplot": "mapbox",
         "type": "scattermapbox"
        },
        {
         "hovertemplate": "location.city=Seo de Urgel<br>coordinates.latitude=%{lat}<br>coordinates.longitude=%{lon}<extra></extra>",
         "lat": [
          42.35858
         ],
         "legendgroup": "Seo de Urgel",
         "lon": [
          1.46194
         ],
         "marker": {
          "color": "#FF97FF"
         },
         "mode": "markers",
         "name": "Seo de Urgel",
         "showlegend": true,
         "subplot": "mapbox",
         "type": "scattermapbox"
        },
        {
         "hovertemplate": "location.city=Belcaire<br>coordinates.latitude=%{lat}<br>coordinates.longitude=%{lon}<extra></extra>",
         "lat": [
          42.816852
         ],
         "legendgroup": "Belcaire",
         "lon": [
          1.9579345
         ],
         "marker": {
          "color": "#FECB52"
         },
         "mode": "markers",
         "name": "Belcaire",
         "showlegend": true,
         "subplot": "mapbox",
         "type": "scattermapbox"
        },
        {
         "hovertemplate": "location.city=Alet les Bains<br>coordinates.latitude=%{lat}<br>coordinates.longitude=%{lon}<extra></extra>",
         "lat": [
          42.99429
         ],
         "legendgroup": "Alet les Bains",
         "lon": [
          2.25727
         ],
         "marker": {
          "color": "#636efa"
         },
         "mode": "markers",
         "name": "Alet les Bains",
         "showlegend": true,
         "subplot": "mapbox",
         "type": "scattermapbox"
        },
        {
         "hovertemplate": "location.city=Toulouse<br>coordinates.latitude=%{lat}<br>coordinates.longitude=%{lon}<extra></extra>",
         "lat": [
          43.58754,
          43.5778243528775
         ],
         "legendgroup": "Toulouse",
         "lon": [
          1.44669,
          1.49648268200441
         ],
         "marker": {
          "color": "#EF553B"
         },
         "mode": "markers",
         "name": "Toulouse",
         "showlegend": true,
         "subplot": "mapbox",
         "type": "scattermapbox"
        },
        {
         "hovertemplate": "location.city=Montauban<br>coordinates.latitude=%{lat}<br>coordinates.longitude=%{lon}<extra></extra>",
         "lat": [
          44.0259399
         ],
         "legendgroup": "Montauban",
         "lon": [
          1.35408
         ],
         "marker": {
          "color": "#00cc96"
         },
         "mode": "markers",
         "name": "Montauban",
         "showlegend": true,
         "subplot": "mapbox",
         "type": "scattermapbox"
        },
        {
         "hovertemplate": "location.city=Biarritz<br>coordinates.latitude=%{lat}<br>coordinates.longitude=%{lon}<extra></extra>",
         "lat": [
          43.48218467,
          43.4790949,
          43.482232,
          43.4821,
          43.481337
         ],
         "legendgroup": "Biarritz",
         "lon": [
          -1.56780068,
          -1.5624757,
          -1.554439,
          -1.56635,
          -1.5629858
         ],
         "marker": {
          "color": "#ab63fa"
         },
         "mode": "markers",
         "name": "Biarritz",
         "showlegend": true,
         "subplot": "mapbox",
         "type": "scattermapbox"
        },
        {
         "hovertemplate": "location.city=New York<br>coordinates.latitude=%{lat}<br>coordinates.longitude=%{lon}<extra></extra>",
         "lat": [
          40.720087
         ],
         "legendgroup": "New York",
         "lon": [
          -74.000892
         ],
         "marker": {
          "color": "#FFA15A"
         },
         "mode": "markers",
         "name": "New York",
         "showlegend": true,
         "subplot": "mapbox",
         "type": "scattermapbox"
        },
        {
         "hovertemplate": "location.city=La Rochelle<br>coordinates.latitude=%{lat}<br>coordinates.longitude=%{lon}<extra></extra>",
         "lat": [
          46.15498
         ],
         "legendgroup": "La Rochelle",
         "lon": [
          -1.145297
         ],
         "marker": {
          "color": "#19d3f3"
         },
         "mode": "markers",
         "name": "La Rochelle",
         "showlegend": true,
         "subplot": "mapbox",
         "type": "scattermapbox"
        },
        {
         "hovertemplate": "location.city=St Martin De Re<br>coordinates.latitude=%{lat}<br>coordinates.longitude=%{lon}<extra></extra>",
         "lat": [
          46.20479
         ],
         "legendgroup": "St Martin De Re",
         "lon": [
          -1.37287
         ],
         "marker": {
          "color": "#FF6692"
         },
         "mode": "markers",
         "name": "St Martin De Re",
         "showlegend": true,
         "subplot": "mapbox",
         "type": "scattermapbox"
        },
        {
         "hovertemplate": "location.city=Rivedoux Plage<br>coordinates.latitude=%{lat}<br>coordinates.longitude=%{lon}<extra></extra>",
         "lat": [
          46.15601
         ],
         "legendgroup": "Rivedoux Plage",
         "lon": [
          -1.26825
         ],
         "marker": {
          "color": "#B6E880"
         },
         "mode": "markers",
         "name": "Rivedoux Plage",
         "showlegend": true,
         "subplot": "mapbox",
         "type": "scattermapbox"
        }
       ],
       "layout": {
        "legend": {
         "title": {
          "text": "location.city"
         },
         "tracegroupgap": 0
        },
        "mapbox": {
         "center": {
          "lat": 45.737185403390356,
          "lon": 2.715913071520617
         },
         "domain": {
          "x": [
           0,
           1
          ],
          "y": [
           0,
           1
          ]
         },
         "style": "carto-positron",
         "zoom": 4.5
        },
        "margin": {
         "t": 60
        },
        "template": {
         "data": {
          "bar": [
           {
            "error_x": {
             "color": "#2a3f5f"
            },
            "error_y": {
             "color": "#2a3f5f"
            },
            "marker": {
             "line": {
              "color": "#E5ECF6",
              "width": 0.5
             },
             "pattern": {
              "fillmode": "overlay",
              "size": 10,
              "solidity": 0.2
             }
            },
            "type": "bar"
           }
          ],
          "barpolar": [
           {
            "marker": {
             "line": {
              "color": "#E5ECF6",
              "width": 0.5
             },
             "pattern": {
              "fillmode": "overlay",
              "size": 10,
              "solidity": 0.2
             }
            },
            "type": "barpolar"
           }
          ],
          "carpet": [
           {
            "aaxis": {
             "endlinecolor": "#2a3f5f",
             "gridcolor": "white",
             "linecolor": "white",
             "minorgridcolor": "white",
             "startlinecolor": "#2a3f5f"
            },
            "baxis": {
             "endlinecolor": "#2a3f5f",
             "gridcolor": "white",
             "linecolor": "white",
             "minorgridcolor": "white",
             "startlinecolor": "#2a3f5f"
            },
            "type": "carpet"
           }
          ],
          "choropleth": [
           {
            "colorbar": {
             "outlinewidth": 0,
             "ticks": ""
            },
            "type": "choropleth"
           }
          ],
          "contour": [
           {
            "colorbar": {
             "outlinewidth": 0,
             "ticks": ""
            },
            "colorscale": [
             [
              0,
              "#0d0887"
             ],
             [
              0.1111111111111111,
              "#46039f"
             ],
             [
              0.2222222222222222,
              "#7201a8"
             ],
             [
              0.3333333333333333,
              "#9c179e"
             ],
             [
              0.4444444444444444,
              "#bd3786"
             ],
             [
              0.5555555555555556,
              "#d8576b"
             ],
             [
              0.6666666666666666,
              "#ed7953"
             ],
             [
              0.7777777777777778,
              "#fb9f3a"
             ],
             [
              0.8888888888888888,
              "#fdca26"
             ],
             [
              1,
              "#f0f921"
             ]
            ],
            "type": "contour"
           }
          ],
          "contourcarpet": [
           {
            "colorbar": {
             "outlinewidth": 0,
             "ticks": ""
            },
            "type": "contourcarpet"
           }
          ],
          "heatmap": [
           {
            "colorbar": {
             "outlinewidth": 0,
             "ticks": ""
            },
            "colorscale": [
             [
              0,
              "#0d0887"
             ],
             [
              0.1111111111111111,
              "#46039f"
             ],
             [
              0.2222222222222222,
              "#7201a8"
             ],
             [
              0.3333333333333333,
              "#9c179e"
             ],
             [
              0.4444444444444444,
              "#bd3786"
             ],
             [
              0.5555555555555556,
              "#d8576b"
             ],
             [
              0.6666666666666666,
              "#ed7953"
             ],
             [
              0.7777777777777778,
              "#fb9f3a"
             ],
             [
              0.8888888888888888,
              "#fdca26"
             ],
             [
              1,
              "#f0f921"
             ]
            ],
            "type": "heatmap"
           }
          ],
          "heatmapgl": [
           {
            "colorbar": {
             "outlinewidth": 0,
             "ticks": ""
            },
            "colorscale": [
             [
              0,
              "#0d0887"
             ],
             [
              0.1111111111111111,
              "#46039f"
             ],
             [
              0.2222222222222222,
              "#7201a8"
             ],
             [
              0.3333333333333333,
              "#9c179e"
             ],
             [
              0.4444444444444444,
              "#bd3786"
             ],
             [
              0.5555555555555556,
              "#d8576b"
             ],
             [
              0.6666666666666666,
              "#ed7953"
             ],
             [
              0.7777777777777778,
              "#fb9f3a"
             ],
             [
              0.8888888888888888,
              "#fdca26"
             ],
             [
              1,
              "#f0f921"
             ]
            ],
            "type": "heatmapgl"
           }
          ],
          "histogram": [
           {
            "marker": {
             "pattern": {
              "fillmode": "overlay",
              "size": 10,
              "solidity": 0.2
             }
            },
            "type": "histogram"
           }
          ],
          "histogram2d": [
           {
            "colorbar": {
             "outlinewidth": 0,
             "ticks": ""
            },
            "colorscale": [
             [
              0,
              "#0d0887"
             ],
             [
              0.1111111111111111,
              "#46039f"
             ],
             [
              0.2222222222222222,
              "#7201a8"
             ],
             [
              0.3333333333333333,
              "#9c179e"
             ],
             [
              0.4444444444444444,
              "#bd3786"
             ],
             [
              0.5555555555555556,
              "#d8576b"
             ],
             [
              0.6666666666666666,
              "#ed7953"
             ],
             [
              0.7777777777777778,
              "#fb9f3a"
             ],
             [
              0.8888888888888888,
              "#fdca26"
             ],
             [
              1,
              "#f0f921"
             ]
            ],
            "type": "histogram2d"
           }
          ],
          "histogram2dcontour": [
           {
            "colorbar": {
             "outlinewidth": 0,
             "ticks": ""
            },
            "colorscale": [
             [
              0,
              "#0d0887"
             ],
             [
              0.1111111111111111,
              "#46039f"
             ],
             [
              0.2222222222222222,
              "#7201a8"
             ],
             [
              0.3333333333333333,
              "#9c179e"
             ],
             [
              0.4444444444444444,
              "#bd3786"
             ],
             [
              0.5555555555555556,
              "#d8576b"
             ],
             [
              0.6666666666666666,
              "#ed7953"
             ],
             [
              0.7777777777777778,
              "#fb9f3a"
             ],
             [
              0.8888888888888888,
              "#fdca26"
             ],
             [
              1,
              "#f0f921"
             ]
            ],
            "type": "histogram2dcontour"
           }
          ],
          "mesh3d": [
           {
            "colorbar": {
             "outlinewidth": 0,
             "ticks": ""
            },
            "type": "mesh3d"
           }
          ],
          "parcoords": [
           {
            "line": {
             "colorbar": {
              "outlinewidth": 0,
              "ticks": ""
             }
            },
            "type": "parcoords"
           }
          ],
          "pie": [
           {
            "automargin": true,
            "type": "pie"
           }
          ],
          "scatter": [
           {
            "fillpattern": {
             "fillmode": "overlay",
             "size": 10,
             "solidity": 0.2
            },
            "type": "scatter"
           }
          ],
          "scatter3d": [
           {
            "line": {
             "colorbar": {
              "outlinewidth": 0,
              "ticks": ""
             }
            },
            "marker": {
             "colorbar": {
              "outlinewidth": 0,
              "ticks": ""
             }
            },
            "type": "scatter3d"
           }
          ],
          "scattercarpet": [
           {
            "marker": {
             "colorbar": {
              "outlinewidth": 0,
              "ticks": ""
             }
            },
            "type": "scattercarpet"
           }
          ],
          "scattergeo": [
           {
            "marker": {
             "colorbar": {
              "outlinewidth": 0,
              "ticks": ""
             }
            },
            "type": "scattergeo"
           }
          ],
          "scattergl": [
           {
            "marker": {
             "colorbar": {
              "outlinewidth": 0,
              "ticks": ""
             }
            },
            "type": "scattergl"
           }
          ],
          "scattermapbox": [
           {
            "marker": {
             "colorbar": {
              "outlinewidth": 0,
              "ticks": ""
             }
            },
            "type": "scattermapbox"
           }
          ],
          "scatterpolar": [
           {
            "marker": {
             "colorbar": {
              "outlinewidth": 0,
              "ticks": ""
             }
            },
            "type": "scatterpolar"
           }
          ],
          "scatterpolargl": [
           {
            "marker": {
             "colorbar": {
              "outlinewidth": 0,
              "ticks": ""
             }
            },
            "type": "scatterpolargl"
           }
          ],
          "scatterternary": [
           {
            "marker": {
             "colorbar": {
              "outlinewidth": 0,
              "ticks": ""
             }
            },
            "type": "scatterternary"
           }
          ],
          "surface": [
           {
            "colorbar": {
             "outlinewidth": 0,
             "ticks": ""
            },
            "colorscale": [
             [
              0,
              "#0d0887"
             ],
             [
              0.1111111111111111,
              "#46039f"
             ],
             [
              0.2222222222222222,
              "#7201a8"
             ],
             [
              0.3333333333333333,
              "#9c179e"
             ],
             [
              0.4444444444444444,
              "#bd3786"
             ],
             [
              0.5555555555555556,
              "#d8576b"
             ],
             [
              0.6666666666666666,
              "#ed7953"
             ],
             [
              0.7777777777777778,
              "#fb9f3a"
             ],
             [
              0.8888888888888888,
              "#fdca26"
             ],
             [
              1,
              "#f0f921"
             ]
            ],
            "type": "surface"
           }
          ],
          "table": [
           {
            "cells": {
             "fill": {
              "color": "#EBF0F8"
             },
             "line": {
              "color": "white"
             }
            },
            "header": {
             "fill": {
              "color": "#C8D4E3"
             },
             "line": {
              "color": "white"
             }
            },
            "type": "table"
           }
          ]
         },
         "layout": {
          "annotationdefaults": {
           "arrowcolor": "#2a3f5f",
           "arrowhead": 0,
           "arrowwidth": 1
          },
          "autotypenumbers": "strict",
          "coloraxis": {
           "colorbar": {
            "outlinewidth": 0,
            "ticks": ""
           }
          },
          "colorscale": {
           "diverging": [
            [
             0,
             "#8e0152"
            ],
            [
             0.1,
             "#c51b7d"
            ],
            [
             0.2,
             "#de77ae"
            ],
            [
             0.3,
             "#f1b6da"
            ],
            [
             0.4,
             "#fde0ef"
            ],
            [
             0.5,
             "#f7f7f7"
            ],
            [
             0.6,
             "#e6f5d0"
            ],
            [
             0.7,
             "#b8e186"
            ],
            [
             0.8,
             "#7fbc41"
            ],
            [
             0.9,
             "#4d9221"
            ],
            [
             1,
             "#276419"
            ]
           ],
           "sequential": [
            [
             0,
             "#0d0887"
            ],
            [
             0.1111111111111111,
             "#46039f"
            ],
            [
             0.2222222222222222,
             "#7201a8"
            ],
            [
             0.3333333333333333,
             "#9c179e"
            ],
            [
             0.4444444444444444,
             "#bd3786"
            ],
            [
             0.5555555555555556,
             "#d8576b"
            ],
            [
             0.6666666666666666,
             "#ed7953"
            ],
            [
             0.7777777777777778,
             "#fb9f3a"
            ],
            [
             0.8888888888888888,
             "#fdca26"
            ],
            [
             1,
             "#f0f921"
            ]
           ],
           "sequentialminus": [
            [
             0,
             "#0d0887"
            ],
            [
             0.1111111111111111,
             "#46039f"
            ],
            [
             0.2222222222222222,
             "#7201a8"
            ],
            [
             0.3333333333333333,
             "#9c179e"
            ],
            [
             0.4444444444444444,
             "#bd3786"
            ],
            [
             0.5555555555555556,
             "#d8576b"
            ],
            [
             0.6666666666666666,
             "#ed7953"
            ],
            [
             0.7777777777777778,
             "#fb9f3a"
            ],
            [
             0.8888888888888888,
             "#fdca26"
            ],
            [
             1,
             "#f0f921"
            ]
           ]
          },
          "colorway": [
           "#636efa",
           "#EF553B",
           "#00cc96",
           "#ab63fa",
           "#FFA15A",
           "#19d3f3",
           "#FF6692",
           "#B6E880",
           "#FF97FF",
           "#FECB52"
          ],
          "font": {
           "color": "#2a3f5f"
          },
          "geo": {
           "bgcolor": "white",
           "lakecolor": "white",
           "landcolor": "#E5ECF6",
           "showlakes": true,
           "showland": true,
           "subunitcolor": "white"
          },
          "hoverlabel": {
           "align": "left"
          },
          "hovermode": "closest",
          "mapbox": {
           "style": "light"
          },
          "paper_bgcolor": "white",
          "plot_bgcolor": "#E5ECF6",
          "polar": {
           "angularaxis": {
            "gridcolor": "white",
            "linecolor": "white",
            "ticks": ""
           },
           "bgcolor": "#E5ECF6",
           "radialaxis": {
            "gridcolor": "white",
            "linecolor": "white",
            "ticks": ""
           }
          },
          "scene": {
           "xaxis": {
            "backgroundcolor": "#E5ECF6",
            "gridcolor": "white",
            "gridwidth": 2,
            "linecolor": "white",
            "showbackground": true,
            "ticks": "",
            "zerolinecolor": "white"
           },
           "yaxis": {
            "backgroundcolor": "#E5ECF6",
            "gridcolor": "white",
            "gridwidth": 2,
            "linecolor": "white",
            "showbackground": true,
            "ticks": "",
            "zerolinecolor": "white"
           },
           "zaxis": {
            "backgroundcolor": "#E5ECF6",
            "gridcolor": "white",
            "gridwidth": 2,
            "linecolor": "white",
            "showbackground": true,
            "ticks": "",
            "zerolinecolor": "white"
           }
          },
          "shapedefaults": {
           "line": {
            "color": "#2a3f5f"
           }
          },
          "ternary": {
           "aaxis": {
            "gridcolor": "white",
            "linecolor": "white",
            "ticks": ""
           },
           "baxis": {
            "gridcolor": "white",
            "linecolor": "white",
            "ticks": ""
           },
           "bgcolor": "#E5ECF6",
           "caxis": {
            "gridcolor": "white",
            "linecolor": "white",
            "ticks": ""
           }
          },
          "title": {
           "x": 0.05
          },
          "xaxis": {
           "automargin": true,
           "gridcolor": "white",
           "linecolor": "white",
           "ticks": "",
           "title": {
            "standoff": 15
           },
           "zerolinecolor": "white",
           "zerolinewidth": 2
          },
          "yaxis": {
           "automargin": true,
           "gridcolor": "white",
           "linecolor": "white",
           "ticks": "",
           "title": {
            "standoff": 15
           },
           "zerolinecolor": "white",
           "zerolinewidth": 2
          }
         }
        }
       }
      }
     },
     "metadata": {},
     "output_type": "display_data"
    }
   ],
   "source": [
    "fig = px.scatter_mapbox(df_high_rated , lat=\"coordinates.latitude\", lon=\"coordinates.longitude\", color=\"location.city\", zoom=4.5, mapbox_style=\"carto-positron\")\n",
    "fig.show()"
   ]
  }
 ],
 "metadata": {
  "kernelspec": {
   "display_name": "Python 3.10.4 64-bit",
   "language": "python",
   "name": "python3"
  },
  "language_info": {
   "codemirror_mode": {
    "name": "ipython",
    "version": 3
   },
   "file_extension": ".py",
   "mimetype": "text/x-python",
   "name": "python",
   "nbconvert_exporter": "python",
   "pygments_lexer": "ipython3",
   "version": "3.10.4"
  },
  "orig_nbformat": 4,
  "vscode": {
   "interpreter": {
    "hash": "369f2c481f4da34e4445cda3fffd2e751bd1c4d706f27375911949ba6bb62e1c"
   }
  }
 },
 "nbformat": 4,
 "nbformat_minor": 2
}
